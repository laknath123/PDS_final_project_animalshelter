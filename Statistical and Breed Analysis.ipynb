{
 "cells": [
  {
   "cell_type": "code",
   "execution_count": 577,
   "metadata": {},
   "outputs": [],
   "source": [
    "import pandas as pd\n",
    "import numpy as np\n",
    "import matplotlib.pyplot as plt\n",
    "import seaborn as sns\n",
    "from datetime import datetime as dt\n",
    "import math"
   ]
  },
  {
   "cell_type": "code",
   "execution_count": 367,
   "metadata": {},
   "outputs": [],
   "source": [
    "df=pd.read_csv(\"https://raw.githubusercontent.com/laknath123/PDS_final_project_animalshelter/main/data/merged_df.csv\")"
   ]
  },
  {
   "cell_type": "code",
   "execution_count": 368,
   "metadata": {},
   "outputs": [
    {
     "data": {
      "text/html": [
       "<div>\n",
       "<style scoped>\n",
       "    .dataframe tbody tr th:only-of-type {\n",
       "        vertical-align: middle;\n",
       "    }\n",
       "\n",
       "    .dataframe tbody tr th {\n",
       "        vertical-align: top;\n",
       "    }\n",
       "\n",
       "    .dataframe thead th {\n",
       "        text-align: right;\n",
       "    }\n",
       "</style>\n",
       "<table border=\"1\" class=\"dataframe\">\n",
       "  <thead>\n",
       "    <tr style=\"text-align: right;\">\n",
       "      <th></th>\n",
       "      <th>Unnamed: 0</th>\n",
       "      <th>Animal ID</th>\n",
       "      <th>Name_intakes</th>\n",
       "      <th>DateTime_intake</th>\n",
       "      <th>MonthYear_intake</th>\n",
       "      <th>Found Location</th>\n",
       "      <th>Intake Type</th>\n",
       "      <th>Intake Condition</th>\n",
       "      <th>Animal Type_intake</th>\n",
       "      <th>Sex upon Intake</th>\n",
       "      <th>...</th>\n",
       "      <th>Outcome Type</th>\n",
       "      <th>Outcome Subtype</th>\n",
       "      <th>Animal Type_outcomes</th>\n",
       "      <th>Sex upon Outcome</th>\n",
       "      <th>Age upon Outcome</th>\n",
       "      <th>Breed_outcomes</th>\n",
       "      <th>Color_outcomes</th>\n",
       "      <th>age</th>\n",
       "      <th>seq</th>\n",
       "      <th>indicator_col</th>\n",
       "    </tr>\n",
       "  </thead>\n",
       "  <tbody>\n",
       "    <tr>\n",
       "      <th>0</th>\n",
       "      <td>0</td>\n",
       "      <td>A0061001</td>\n",
       "      <td>A006100</td>\n",
       "      <td>2014-03-07 14:26:00</td>\n",
       "      <td>March 2014</td>\n",
       "      <td>8700 Research in Austin (TX)</td>\n",
       "      <td>Public Assist</td>\n",
       "      <td>Normal</td>\n",
       "      <td>Dog</td>\n",
       "      <td>Neutered Male</td>\n",
       "      <td>...</td>\n",
       "      <td>Return to Owner</td>\n",
       "      <td>Unknown</td>\n",
       "      <td>Dog</td>\n",
       "      <td>Neutered Male</td>\n",
       "      <td>6 years</td>\n",
       "      <td>Spinone Italiano Mix</td>\n",
       "      <td>Yellow/White</td>\n",
       "      <td>2434.0</td>\n",
       "      <td>1.0</td>\n",
       "      <td>both</td>\n",
       "    </tr>\n",
       "    <tr>\n",
       "      <th>1</th>\n",
       "      <td>1</td>\n",
       "      <td>A0061002</td>\n",
       "      <td>A006100</td>\n",
       "      <td>2014-12-19 10:21:00</td>\n",
       "      <td>December 2014</td>\n",
       "      <td>8700 Research Blvd in Austin (TX)</td>\n",
       "      <td>Public Assist</td>\n",
       "      <td>Normal</td>\n",
       "      <td>Dog</td>\n",
       "      <td>Neutered Male</td>\n",
       "      <td>...</td>\n",
       "      <td>Return to Owner</td>\n",
       "      <td>Unknown</td>\n",
       "      <td>Dog</td>\n",
       "      <td>Neutered Male</td>\n",
       "      <td>7 years</td>\n",
       "      <td>Spinone Italiano Mix</td>\n",
       "      <td>Yellow/White</td>\n",
       "      <td>2721.0</td>\n",
       "      <td>2.0</td>\n",
       "      <td>both</td>\n",
       "    </tr>\n",
       "    <tr>\n",
       "      <th>2</th>\n",
       "      <td>2</td>\n",
       "      <td>A0061003</td>\n",
       "      <td>A006100</td>\n",
       "      <td>2017-12-07 14:07:00</td>\n",
       "      <td>December 2017</td>\n",
       "      <td>Colony Creek And Hunters Trace in Austin (TX)</td>\n",
       "      <td>Stray</td>\n",
       "      <td>Normal</td>\n",
       "      <td>Dog</td>\n",
       "      <td>Neutered Male</td>\n",
       "      <td>...</td>\n",
       "      <td>Return to Owner</td>\n",
       "      <td>Unknown</td>\n",
       "      <td>Dog</td>\n",
       "      <td>Neutered Male</td>\n",
       "      <td>10 years</td>\n",
       "      <td>Spinone Italiano Mix</td>\n",
       "      <td>Yellow/White</td>\n",
       "      <td>3804.0</td>\n",
       "      <td>3.0</td>\n",
       "      <td>both</td>\n",
       "    </tr>\n",
       "    <tr>\n",
       "      <th>3</th>\n",
       "      <td>3</td>\n",
       "      <td>A0477591</td>\n",
       "      <td>A047759</td>\n",
       "      <td>2014-04-02 15:55:00</td>\n",
       "      <td>April 2014</td>\n",
       "      <td>Austin (TX)</td>\n",
       "      <td>Owner Surrender</td>\n",
       "      <td>Normal</td>\n",
       "      <td>Dog</td>\n",
       "      <td>Neutered Male</td>\n",
       "      <td>...</td>\n",
       "      <td>Transfer</td>\n",
       "      <td>Partner</td>\n",
       "      <td>Dog</td>\n",
       "      <td>Neutered Male</td>\n",
       "      <td>10 years</td>\n",
       "      <td>Dachshund</td>\n",
       "      <td>Tricolor</td>\n",
       "      <td>3657.0</td>\n",
       "      <td>1.0</td>\n",
       "      <td>both</td>\n",
       "    </tr>\n",
       "    <tr>\n",
       "      <th>4</th>\n",
       "      <td>4</td>\n",
       "      <td>A1340671</td>\n",
       "      <td>A134067</td>\n",
       "      <td>2013-11-16 09:02:00</td>\n",
       "      <td>November 2013</td>\n",
       "      <td>12034 Research Blvd in Austin (TX)</td>\n",
       "      <td>Public Assist</td>\n",
       "      <td>Injured</td>\n",
       "      <td>Dog</td>\n",
       "      <td>Neutered Male</td>\n",
       "      <td>...</td>\n",
       "      <td>Return to Owner</td>\n",
       "      <td>Unknown</td>\n",
       "      <td>Dog</td>\n",
       "      <td>Neutered Male</td>\n",
       "      <td>16 years</td>\n",
       "      <td>Shetland Sheepdog</td>\n",
       "      <td>Brown/White</td>\n",
       "      <td>5875.0</td>\n",
       "      <td>1.0</td>\n",
       "      <td>both</td>\n",
       "    </tr>\n",
       "  </tbody>\n",
       "</table>\n",
       "<p>5 rows × 27 columns</p>\n",
       "</div>"
      ],
      "text/plain": [
       "   Unnamed: 0 Animal ID Name_intakes      DateTime_intake MonthYear_intake  \\\n",
       "0           0  A0061001      A006100  2014-03-07 14:26:00       March 2014   \n",
       "1           1  A0061002      A006100  2014-12-19 10:21:00    December 2014   \n",
       "2           2  A0061003      A006100  2017-12-07 14:07:00    December 2017   \n",
       "3           3  A0477591      A047759  2014-04-02 15:55:00       April 2014   \n",
       "4           4  A1340671      A134067  2013-11-16 09:02:00    November 2013   \n",
       "\n",
       "                                  Found Location      Intake Type  \\\n",
       "0                   8700 Research in Austin (TX)    Public Assist   \n",
       "1              8700 Research Blvd in Austin (TX)    Public Assist   \n",
       "2  Colony Creek And Hunters Trace in Austin (TX)            Stray   \n",
       "3                                    Austin (TX)  Owner Surrender   \n",
       "4             12034 Research Blvd in Austin (TX)    Public Assist   \n",
       "\n",
       "  Intake Condition Animal Type_intake Sex upon Intake  ...     Outcome Type  \\\n",
       "0           Normal                Dog   Neutered Male  ...  Return to Owner   \n",
       "1           Normal                Dog   Neutered Male  ...  Return to Owner   \n",
       "2           Normal                Dog   Neutered Male  ...  Return to Owner   \n",
       "3           Normal                Dog   Neutered Male  ...         Transfer   \n",
       "4          Injured                Dog   Neutered Male  ...  Return to Owner   \n",
       "\n",
       "  Outcome Subtype Animal Type_outcomes Sex upon Outcome Age upon Outcome  \\\n",
       "0         Unknown                  Dog    Neutered Male          6 years   \n",
       "1         Unknown                  Dog    Neutered Male          7 years   \n",
       "2         Unknown                  Dog    Neutered Male         10 years   \n",
       "3         Partner                  Dog    Neutered Male         10 years   \n",
       "4         Unknown                  Dog    Neutered Male         16 years   \n",
       "\n",
       "         Breed_outcomes Color_outcomes     age  seq indicator_col  \n",
       "0  Spinone Italiano Mix   Yellow/White  2434.0  1.0          both  \n",
       "1  Spinone Italiano Mix   Yellow/White  2721.0  2.0          both  \n",
       "2  Spinone Italiano Mix   Yellow/White  3804.0  3.0          both  \n",
       "3             Dachshund       Tricolor  3657.0  1.0          both  \n",
       "4     Shetland Sheepdog    Brown/White  5875.0  1.0          both  \n",
       "\n",
       "[5 rows x 27 columns]"
      ]
     },
     "execution_count": 368,
     "metadata": {},
     "output_type": "execute_result"
    }
   ],
   "source": [
    "df.head()"
   ]
  },
  {
   "cell_type": "code",
   "execution_count": 369,
   "metadata": {},
   "outputs": [
    {
     "data": {
      "text/plain": [
       "Index(['Unnamed: 0', 'Animal ID', 'Name_intakes', 'DateTime_intake',\n",
       "       'MonthYear_intake', 'Found Location', 'Intake Type', 'Intake Condition',\n",
       "       'Animal Type_intake', 'Sex upon Intake', 'Age upon Intake',\n",
       "       'Breed_intake', 'Color_intake', 'Name_outcomes', 'DateTime_outcomes',\n",
       "       'MonthYear_outcomes', 'Date of Birth', 'Outcome Type',\n",
       "       'Outcome Subtype', 'Animal Type_outcomes', 'Sex upon Outcome',\n",
       "       'Age upon Outcome', 'Breed_outcomes', 'Color_outcomes', 'age', 'seq',\n",
       "       'indicator_col'],\n",
       "      dtype='object')"
      ]
     },
     "execution_count": 369,
     "metadata": {},
     "output_type": "execute_result"
    }
   ],
   "source": [
    "df.columns"
   ]
  },
  {
   "cell_type": "code",
   "execution_count": 370,
   "metadata": {},
   "outputs": [
    {
     "name": "stdout",
     "output_type": "stream",
     "text": [
      "<class 'pandas.core.frame.DataFrame'>\n",
      "RangeIndex: 138271 entries, 0 to 138270\n",
      "Data columns (total 27 columns):\n",
      " #   Column                Non-Null Count   Dtype  \n",
      "---  ------                --------------   -----  \n",
      " 0   Unnamed: 0            138271 non-null  int64  \n",
      " 1   Animal ID             138271 non-null  object \n",
      " 2   Name_intakes          138271 non-null  object \n",
      " 3   DateTime_intake       138271 non-null  object \n",
      " 4   MonthYear_intake      138271 non-null  object \n",
      " 5   Found Location        138271 non-null  object \n",
      " 6   Intake Type           138271 non-null  object \n",
      " 7   Intake Condition      138271 non-null  object \n",
      " 8   Animal Type_intake    138271 non-null  object \n",
      " 9   Sex upon Intake       138271 non-null  object \n",
      " 10  Age upon Intake       138271 non-null  object \n",
      " 11  Breed_intake          138271 non-null  object \n",
      " 12  Color_intake          138271 non-null  object \n",
      " 13  Name_outcomes         137335 non-null  object \n",
      " 14  DateTime_outcomes     137335 non-null  object \n",
      " 15  MonthYear_outcomes    137335 non-null  object \n",
      " 16  Date of Birth         137335 non-null  object \n",
      " 17  Outcome Type          137335 non-null  object \n",
      " 18  Outcome Subtype       137335 non-null  object \n",
      " 19  Animal Type_outcomes  137335 non-null  object \n",
      " 20  Sex upon Outcome      137335 non-null  object \n",
      " 21  Age upon Outcome      137335 non-null  object \n",
      " 22  Breed_outcomes        137335 non-null  object \n",
      " 23  Color_outcomes        137335 non-null  object \n",
      " 24  age                   137335 non-null  float64\n",
      " 25  seq                   137335 non-null  float64\n",
      " 26  indicator_col         138271 non-null  object \n",
      "dtypes: float64(2), int64(1), object(24)\n",
      "memory usage: 28.5+ MB\n"
     ]
    }
   ],
   "source": [
    "df.info()"
   ]
  },
  {
   "cell_type": "code",
   "execution_count": 371,
   "metadata": {},
   "outputs": [
    {
     "data": {
      "text/plain": [
       "0         Dog\n",
       "1         Dog\n",
       "2         Dog\n",
       "3         Dog\n",
       "4         Dog\n",
       "         ... \n",
       "138266    Cat\n",
       "138267    Cat\n",
       "138268    Dog\n",
       "138269    Dog\n",
       "138270    Dog\n",
       "Name: Animal Type_intake, Length: 138271, dtype: object"
      ]
     },
     "execution_count": 371,
     "metadata": {},
     "output_type": "execute_result"
    }
   ],
   "source": [
    "df.loc[:,'Animal Type_intake']"
   ]
  },
  {
   "cell_type": "markdown",
   "metadata": {},
   "source": [
    "### Random Exploration"
   ]
  },
  {
   "cell_type": "code",
   "execution_count": 372,
   "metadata": {},
   "outputs": [
    {
     "data": {
      "text/html": [
       "<div>\n",
       "<style scoped>\n",
       "    .dataframe tbody tr th:only-of-type {\n",
       "        vertical-align: middle;\n",
       "    }\n",
       "\n",
       "    .dataframe tbody tr th {\n",
       "        vertical-align: top;\n",
       "    }\n",
       "\n",
       "    .dataframe thead th {\n",
       "        text-align: right;\n",
       "    }\n",
       "</style>\n",
       "<table border=\"1\" class=\"dataframe\">\n",
       "  <thead>\n",
       "    <tr style=\"text-align: right;\">\n",
       "      <th></th>\n",
       "      <th>Unnamed: 0</th>\n",
       "      <th>Animal ID</th>\n",
       "      <th>Name_intakes</th>\n",
       "      <th>DateTime_intake</th>\n",
       "      <th>MonthYear_intake</th>\n",
       "      <th>Found Location</th>\n",
       "      <th>Intake Type</th>\n",
       "      <th>Intake Condition</th>\n",
       "      <th>Animal Type_intake</th>\n",
       "      <th>Sex upon Intake</th>\n",
       "      <th>...</th>\n",
       "      <th>Outcome Type</th>\n",
       "      <th>Outcome Subtype</th>\n",
       "      <th>Animal Type_outcomes</th>\n",
       "      <th>Sex upon Outcome</th>\n",
       "      <th>Age upon Outcome</th>\n",
       "      <th>Breed_outcomes</th>\n",
       "      <th>Color_outcomes</th>\n",
       "      <th>age</th>\n",
       "      <th>seq</th>\n",
       "      <th>indicator_col</th>\n",
       "    </tr>\n",
       "  </thead>\n",
       "  <tbody>\n",
       "    <tr>\n",
       "      <th>2519</th>\n",
       "      <td>2519</td>\n",
       "      <td>A6129392</td>\n",
       "      <td>A612939</td>\n",
       "      <td>2022-03-15 14:20:00</td>\n",
       "      <td>March 2022</td>\n",
       "      <td>Austin (TX)</td>\n",
       "      <td>Owner Surrender</td>\n",
       "      <td>Normal</td>\n",
       "      <td>Dog</td>\n",
       "      <td>Spayed Female</td>\n",
       "      <td>...</td>\n",
       "      <td>NaN</td>\n",
       "      <td>NaN</td>\n",
       "      <td>NaN</td>\n",
       "      <td>NaN</td>\n",
       "      <td>NaN</td>\n",
       "      <td>NaN</td>\n",
       "      <td>NaN</td>\n",
       "      <td>NaN</td>\n",
       "      <td>NaN</td>\n",
       "      <td>left_only</td>\n",
       "    </tr>\n",
       "    <tr>\n",
       "      <th>3423</th>\n",
       "      <td>3423</td>\n",
       "      <td>A6366291</td>\n",
       "      <td>A636629</td>\n",
       "      <td>2014-09-07 16:31:00</td>\n",
       "      <td>September 2014</td>\n",
       "      <td>706 Terrace Mountain Drive in Austin (TX)</td>\n",
       "      <td>Stray</td>\n",
       "      <td>Normal</td>\n",
       "      <td>Cat</td>\n",
       "      <td>Spayed Female</td>\n",
       "      <td>...</td>\n",
       "      <td>NaN</td>\n",
       "      <td>NaN</td>\n",
       "      <td>NaN</td>\n",
       "      <td>NaN</td>\n",
       "      <td>NaN</td>\n",
       "      <td>NaN</td>\n",
       "      <td>NaN</td>\n",
       "      <td>NaN</td>\n",
       "      <td>NaN</td>\n",
       "      <td>left_only</td>\n",
       "    </tr>\n",
       "    <tr>\n",
       "      <th>3815</th>\n",
       "      <td>3815</td>\n",
       "      <td>A6455131</td>\n",
       "      <td>A645513</td>\n",
       "      <td>2015-05-18 07:30:00</td>\n",
       "      <td>May 2015</td>\n",
       "      <td>3001 Sauls in Austin (TX)</td>\n",
       "      <td>Stray</td>\n",
       "      <td>Injured</td>\n",
       "      <td>Cat</td>\n",
       "      <td>Neutered Male</td>\n",
       "      <td>...</td>\n",
       "      <td>NaN</td>\n",
       "      <td>NaN</td>\n",
       "      <td>NaN</td>\n",
       "      <td>NaN</td>\n",
       "      <td>NaN</td>\n",
       "      <td>NaN</td>\n",
       "      <td>NaN</td>\n",
       "      <td>NaN</td>\n",
       "      <td>NaN</td>\n",
       "      <td>left_only</td>\n",
       "    </tr>\n",
       "    <tr>\n",
       "      <th>3994</th>\n",
       "      <td>3994</td>\n",
       "      <td>A6484932</td>\n",
       "      <td>A648493</td>\n",
       "      <td>2022-01-05 15:01:00</td>\n",
       "      <td>January 2022</td>\n",
       "      <td>7201 Levander Loop in Austin (TX)</td>\n",
       "      <td>Abandoned</td>\n",
       "      <td>Normal</td>\n",
       "      <td>Dog</td>\n",
       "      <td>Neutered Male</td>\n",
       "      <td>...</td>\n",
       "      <td>NaN</td>\n",
       "      <td>NaN</td>\n",
       "      <td>NaN</td>\n",
       "      <td>NaN</td>\n",
       "      <td>NaN</td>\n",
       "      <td>NaN</td>\n",
       "      <td>NaN</td>\n",
       "      <td>NaN</td>\n",
       "      <td>NaN</td>\n",
       "      <td>left_only</td>\n",
       "    </tr>\n",
       "    <tr>\n",
       "      <th>4404</th>\n",
       "      <td>4404</td>\n",
       "      <td>A6550931</td>\n",
       "      <td>A655093</td>\n",
       "      <td>2021-10-01 12:13:00</td>\n",
       "      <td>October 2021</td>\n",
       "      <td>Manor (TX)</td>\n",
       "      <td>Owner Surrender</td>\n",
       "      <td>Normal</td>\n",
       "      <td>Dog</td>\n",
       "      <td>Neutered Male</td>\n",
       "      <td>...</td>\n",
       "      <td>NaN</td>\n",
       "      <td>NaN</td>\n",
       "      <td>NaN</td>\n",
       "      <td>NaN</td>\n",
       "      <td>NaN</td>\n",
       "      <td>NaN</td>\n",
       "      <td>NaN</td>\n",
       "      <td>NaN</td>\n",
       "      <td>NaN</td>\n",
       "      <td>left_only</td>\n",
       "    </tr>\n",
       "    <tr>\n",
       "      <th>...</th>\n",
       "      <td>...</td>\n",
       "      <td>...</td>\n",
       "      <td>...</td>\n",
       "      <td>...</td>\n",
       "      <td>...</td>\n",
       "      <td>...</td>\n",
       "      <td>...</td>\n",
       "      <td>...</td>\n",
       "      <td>...</td>\n",
       "      <td>...</td>\n",
       "      <td>...</td>\n",
       "      <td>...</td>\n",
       "      <td>...</td>\n",
       "      <td>...</td>\n",
       "      <td>...</td>\n",
       "      <td>...</td>\n",
       "      <td>...</td>\n",
       "      <td>...</td>\n",
       "      <td>...</td>\n",
       "      <td>...</td>\n",
       "      <td>...</td>\n",
       "    </tr>\n",
       "    <tr>\n",
       "      <th>138266</th>\n",
       "      <td>138266</td>\n",
       "      <td>A8554661</td>\n",
       "      <td>A855466</td>\n",
       "      <td>2022-04-18 15:15:00</td>\n",
       "      <td>April 2022</td>\n",
       "      <td>12102 Cottage Promenade Court in Austin (TX)</td>\n",
       "      <td>Stray</td>\n",
       "      <td>Normal</td>\n",
       "      <td>Cat</td>\n",
       "      <td>Neutered Male</td>\n",
       "      <td>...</td>\n",
       "      <td>NaN</td>\n",
       "      <td>NaN</td>\n",
       "      <td>NaN</td>\n",
       "      <td>NaN</td>\n",
       "      <td>NaN</td>\n",
       "      <td>NaN</td>\n",
       "      <td>NaN</td>\n",
       "      <td>NaN</td>\n",
       "      <td>NaN</td>\n",
       "      <td>left_only</td>\n",
       "    </tr>\n",
       "    <tr>\n",
       "      <th>138267</th>\n",
       "      <td>138267</td>\n",
       "      <td>A8554691</td>\n",
       "      <td>A855469</td>\n",
       "      <td>2022-04-18 15:47:00</td>\n",
       "      <td>April 2022</td>\n",
       "      <td>Austin (TX)</td>\n",
       "      <td>Stray</td>\n",
       "      <td>Medical</td>\n",
       "      <td>Cat</td>\n",
       "      <td>Spayed Female</td>\n",
       "      <td>...</td>\n",
       "      <td>NaN</td>\n",
       "      <td>NaN</td>\n",
       "      <td>NaN</td>\n",
       "      <td>NaN</td>\n",
       "      <td>NaN</td>\n",
       "      <td>NaN</td>\n",
       "      <td>NaN</td>\n",
       "      <td>NaN</td>\n",
       "      <td>NaN</td>\n",
       "      <td>left_only</td>\n",
       "    </tr>\n",
       "    <tr>\n",
       "      <th>138268</th>\n",
       "      <td>138268</td>\n",
       "      <td>A8554701</td>\n",
       "      <td>A855470</td>\n",
       "      <td>2022-04-18 15:46:00</td>\n",
       "      <td>April 2022</td>\n",
       "      <td>207 Franklin Boulevard in Austin (TX)</td>\n",
       "      <td>Stray</td>\n",
       "      <td>Normal</td>\n",
       "      <td>Dog</td>\n",
       "      <td>Intact Male</td>\n",
       "      <td>...</td>\n",
       "      <td>NaN</td>\n",
       "      <td>NaN</td>\n",
       "      <td>NaN</td>\n",
       "      <td>NaN</td>\n",
       "      <td>NaN</td>\n",
       "      <td>NaN</td>\n",
       "      <td>NaN</td>\n",
       "      <td>NaN</td>\n",
       "      <td>NaN</td>\n",
       "      <td>left_only</td>\n",
       "    </tr>\n",
       "    <tr>\n",
       "      <th>138269</th>\n",
       "      <td>138269</td>\n",
       "      <td>A8554711</td>\n",
       "      <td>A855471</td>\n",
       "      <td>2022-04-18 15:46:00</td>\n",
       "      <td>April 2022</td>\n",
       "      <td>207 Franklin Boulevard in Austin (TX)</td>\n",
       "      <td>Stray</td>\n",
       "      <td>Normal</td>\n",
       "      <td>Dog</td>\n",
       "      <td>Intact Male</td>\n",
       "      <td>...</td>\n",
       "      <td>NaN</td>\n",
       "      <td>NaN</td>\n",
       "      <td>NaN</td>\n",
       "      <td>NaN</td>\n",
       "      <td>NaN</td>\n",
       "      <td>NaN</td>\n",
       "      <td>NaN</td>\n",
       "      <td>NaN</td>\n",
       "      <td>NaN</td>\n",
       "      <td>left_only</td>\n",
       "    </tr>\n",
       "    <tr>\n",
       "      <th>138270</th>\n",
       "      <td>138270</td>\n",
       "      <td>A8554761</td>\n",
       "      <td>A855476</td>\n",
       "      <td>2022-04-18 16:43:00</td>\n",
       "      <td>April 2022</td>\n",
       "      <td>2207 Lou Neff Road in Austin (TX)</td>\n",
       "      <td>Stray</td>\n",
       "      <td>Normal</td>\n",
       "      <td>Dog</td>\n",
       "      <td>Unknown</td>\n",
       "      <td>...</td>\n",
       "      <td>NaN</td>\n",
       "      <td>NaN</td>\n",
       "      <td>NaN</td>\n",
       "      <td>NaN</td>\n",
       "      <td>NaN</td>\n",
       "      <td>NaN</td>\n",
       "      <td>NaN</td>\n",
       "      <td>NaN</td>\n",
       "      <td>NaN</td>\n",
       "      <td>left_only</td>\n",
       "    </tr>\n",
       "  </tbody>\n",
       "</table>\n",
       "<p>936 rows × 27 columns</p>\n",
       "</div>"
      ],
      "text/plain": [
       "        Unnamed: 0 Animal ID Name_intakes      DateTime_intake  \\\n",
       "2519          2519  A6129392      A612939  2022-03-15 14:20:00   \n",
       "3423          3423  A6366291      A636629  2014-09-07 16:31:00   \n",
       "3815          3815  A6455131      A645513  2015-05-18 07:30:00   \n",
       "3994          3994  A6484932      A648493  2022-01-05 15:01:00   \n",
       "4404          4404  A6550931      A655093  2021-10-01 12:13:00   \n",
       "...            ...       ...          ...                  ...   \n",
       "138266      138266  A8554661      A855466  2022-04-18 15:15:00   \n",
       "138267      138267  A8554691      A855469  2022-04-18 15:47:00   \n",
       "138268      138268  A8554701      A855470  2022-04-18 15:46:00   \n",
       "138269      138269  A8554711      A855471  2022-04-18 15:46:00   \n",
       "138270      138270  A8554761      A855476  2022-04-18 16:43:00   \n",
       "\n",
       "       MonthYear_intake                                Found Location  \\\n",
       "2519         March 2022                                   Austin (TX)   \n",
       "3423     September 2014     706 Terrace Mountain Drive in Austin (TX)   \n",
       "3815           May 2015                     3001 Sauls in Austin (TX)   \n",
       "3994       January 2022             7201 Levander Loop in Austin (TX)   \n",
       "4404       October 2021                                    Manor (TX)   \n",
       "...                 ...                                           ...   \n",
       "138266       April 2022  12102 Cottage Promenade Court in Austin (TX)   \n",
       "138267       April 2022                                   Austin (TX)   \n",
       "138268       April 2022         207 Franklin Boulevard in Austin (TX)   \n",
       "138269       April 2022         207 Franklin Boulevard in Austin (TX)   \n",
       "138270       April 2022             2207 Lou Neff Road in Austin (TX)   \n",
       "\n",
       "            Intake Type Intake Condition Animal Type_intake Sex upon Intake  \\\n",
       "2519    Owner Surrender           Normal                Dog   Spayed Female   \n",
       "3423              Stray           Normal                Cat   Spayed Female   \n",
       "3815              Stray          Injured                Cat   Neutered Male   \n",
       "3994          Abandoned           Normal                Dog   Neutered Male   \n",
       "4404    Owner Surrender           Normal                Dog   Neutered Male   \n",
       "...                 ...              ...                ...             ...   \n",
       "138266            Stray           Normal                Cat   Neutered Male   \n",
       "138267            Stray          Medical                Cat   Spayed Female   \n",
       "138268            Stray           Normal                Dog     Intact Male   \n",
       "138269            Stray           Normal                Dog     Intact Male   \n",
       "138270            Stray           Normal                Dog         Unknown   \n",
       "\n",
       "        ... Outcome Type Outcome Subtype Animal Type_outcomes  \\\n",
       "2519    ...          NaN             NaN                  NaN   \n",
       "3423    ...          NaN             NaN                  NaN   \n",
       "3815    ...          NaN             NaN                  NaN   \n",
       "3994    ...          NaN             NaN                  NaN   \n",
       "4404    ...          NaN             NaN                  NaN   \n",
       "...     ...          ...             ...                  ...   \n",
       "138266  ...          NaN             NaN                  NaN   \n",
       "138267  ...          NaN             NaN                  NaN   \n",
       "138268  ...          NaN             NaN                  NaN   \n",
       "138269  ...          NaN             NaN                  NaN   \n",
       "138270  ...          NaN             NaN                  NaN   \n",
       "\n",
       "       Sex upon Outcome Age upon Outcome Breed_outcomes Color_outcomes age  \\\n",
       "2519                NaN              NaN            NaN            NaN NaN   \n",
       "3423                NaN              NaN            NaN            NaN NaN   \n",
       "3815                NaN              NaN            NaN            NaN NaN   \n",
       "3994                NaN              NaN            NaN            NaN NaN   \n",
       "4404                NaN              NaN            NaN            NaN NaN   \n",
       "...                 ...              ...            ...            ...  ..   \n",
       "138266              NaN              NaN            NaN            NaN NaN   \n",
       "138267              NaN              NaN            NaN            NaN NaN   \n",
       "138268              NaN              NaN            NaN            NaN NaN   \n",
       "138269              NaN              NaN            NaN            NaN NaN   \n",
       "138270              NaN              NaN            NaN            NaN NaN   \n",
       "\n",
       "       seq indicator_col  \n",
       "2519   NaN     left_only  \n",
       "3423   NaN     left_only  \n",
       "3815   NaN     left_only  \n",
       "3994   NaN     left_only  \n",
       "4404   NaN     left_only  \n",
       "...     ..           ...  \n",
       "138266 NaN     left_only  \n",
       "138267 NaN     left_only  \n",
       "138268 NaN     left_only  \n",
       "138269 NaN     left_only  \n",
       "138270 NaN     left_only  \n",
       "\n",
       "[936 rows x 27 columns]"
      ]
     },
     "execution_count": 372,
     "metadata": {},
     "output_type": "execute_result"
    }
   ],
   "source": [
    "df[df.loc[:,'Animal Type_intake']!=df.loc[:,'Animal Type_outcomes']]"
   ]
  },
  {
   "cell_type": "markdown",
   "metadata": {},
   "source": [
    "## Cats vs Dogs\n"
   ]
  },
  {
   "cell_type": "markdown",
   "metadata": {},
   "source": [
    "### Test of Independence for Adoption/Return between Cats and Dogs\n",
    "\n",
    "We perform a Chi-squared test to test the independence between two categorical variables.\n",
    "\n",
    "$ H_{0} $ : There is no differnece between observed and expected frequencies of Adoption/Return to Owner of Cats and Dogs i.e they are independent of eachother\n",
    "\n",
    "$ H_{1} $ : There is a differnece between observed and expected frequencies of Adoption/Return to Owner of Cats and Dogs i.e they are dedependent on eachother\n",
    "\n"
   ]
  },
  {
   "cell_type": "code",
   "execution_count": 373,
   "metadata": {},
   "outputs": [],
   "source": [
    "from scipy.stats import chi2_contingency\n",
    "from scipy.stats import chi2"
   ]
  },
  {
   "cell_type": "code",
   "execution_count": 374,
   "metadata": {},
   "outputs": [],
   "source": [
    "def get_contingency_table(df):\n",
    "    chisqt = pd.crosstab(df['Animal Type_outcomes'], df['Outcome Type'], margins=True)\n",
    "    chisqt['Adopted/Returned to Owner'] = chisqt['Adoption'] + chisqt['Return to Owner']\n",
    "    chisqt['Other Outcomes'] = chisqt['All'] - chisqt['Adopted/Returned to Owner']\n",
    "    df = chisqt.loc[['Cat','Dog'],['Adopted/Returned to Owner','Other Outcomes']]\n",
    "    return df.to_numpy(), df\n",
    "    \n",
    "    "
   ]
  },
  {
   "cell_type": "code",
   "execution_count": 375,
   "metadata": {},
   "outputs": [
    {
     "data": {
      "text/plain": [
       "array([[27061, 24818],\n",
       "       [57606, 19852]], dtype=int64)"
      ]
     },
     "execution_count": 375,
     "metadata": {},
     "output_type": "execute_result"
    }
   ],
   "source": [
    "contingency_table, ct_df = get_contingency_table(df)\n",
    "contingency_table"
   ]
  },
  {
   "cell_type": "code",
   "execution_count": 376,
   "metadata": {},
   "outputs": [
    {
     "data": {
      "text/html": [
       "<div>\n",
       "<style scoped>\n",
       "    .dataframe tbody tr th:only-of-type {\n",
       "        vertical-align: middle;\n",
       "    }\n",
       "\n",
       "    .dataframe tbody tr th {\n",
       "        vertical-align: top;\n",
       "    }\n",
       "\n",
       "    .dataframe thead th {\n",
       "        text-align: right;\n",
       "    }\n",
       "</style>\n",
       "<table border=\"1\" class=\"dataframe\">\n",
       "  <thead>\n",
       "    <tr style=\"text-align: right;\">\n",
       "      <th>Outcome Type</th>\n",
       "      <th>Adopted/Returned to Owner</th>\n",
       "      <th>Other Outcomes</th>\n",
       "    </tr>\n",
       "    <tr>\n",
       "      <th>Animal Type_outcomes</th>\n",
       "      <th></th>\n",
       "      <th></th>\n",
       "    </tr>\n",
       "  </thead>\n",
       "  <tbody>\n",
       "    <tr>\n",
       "      <th>Cat</th>\n",
       "      <td>27061</td>\n",
       "      <td>24818</td>\n",
       "    </tr>\n",
       "    <tr>\n",
       "      <th>Dog</th>\n",
       "      <td>57606</td>\n",
       "      <td>19852</td>\n",
       "    </tr>\n",
       "  </tbody>\n",
       "</table>\n",
       "</div>"
      ],
      "text/plain": [
       "Outcome Type          Adopted/Returned to Owner  Other Outcomes\n",
       "Animal Type_outcomes                                           \n",
       "Cat                                       27061           24818\n",
       "Dog                                       57606           19852"
      ]
     },
     "execution_count": 376,
     "metadata": {},
     "output_type": "execute_result"
    }
   ],
   "source": [
    "ct_df.head()"
   ]
  },
  {
   "cell_type": "markdown",
   "metadata": {},
   "source": [
    "#### Computing the statistics"
   ]
  },
  {
   "cell_type": "code",
   "execution_count": 377,
   "metadata": {},
   "outputs": [
    {
     "data": {
      "text/plain": [
       "(6777.044635494673,\n",
       " 0.0,\n",
       " 1,\n",
       " array([[33961.19666453, 17917.80333547],\n",
       "        [50705.80333547, 26752.19666453]]))"
      ]
     },
     "execution_count": 377,
     "metadata": {},
     "output_type": "execute_result"
    }
   ],
   "source": [
    "chi_sq, pvalue, dof, expected = chi2_contingency(contingency_table)\n",
    "chi_sq,pvalue,dof,expected"
   ]
  },
  {
   "cell_type": "markdown",
   "metadata": {},
   "source": [
    "#### Interpretation and Conclusion\n",
    "\n",
    "In the above experiment,\n",
    "Chi-Squared Statistical Value = 6777.04\n",
    "P-Value = 0\n",
    "Degree of Freedom = 1\n",
    "\n",
    "Therefore, since the p-value is less than 0.05, we reject the NULL hypothesis and conclude that there isadoption of dog and adoption of cats are not independent events."
   ]
  },
  {
   "cell_type": "markdown",
   "metadata": {},
   "source": [
    "__Now that we understand that they are dependent on eachother, let us understand which is most desired. In order to do this, we will perform the following analysis -__\n",
    "1. Which one of the two is more likely to be adopted?\n",
    "2. Does the breed of the more likely animal affect its desirability?\n",
    "\n",
    "###  Which one of the two is more likely to be adopted?"
   ]
  },
  {
   "cell_type": "code",
   "execution_count": 378,
   "metadata": {},
   "outputs": [],
   "source": [
    "def flag_cats_dogs(df):\n",
    "    df['catdog_flag'] = df['Animal Type_outcomes'].apply(lambda x: x if x=='Cat' or x == 'Dog' else 'Others')\n",
    "    return df"
   ]
  },
  {
   "cell_type": "code",
   "execution_count": 379,
   "metadata": {},
   "outputs": [],
   "source": [
    "df = flag_cats_dogs(df)"
   ]
  },
  {
   "cell_type": "code",
   "execution_count": 380,
   "metadata": {},
   "outputs": [
    {
     "data": {
      "text/plain": [
       "Dog       77458\n",
       "Cat       51879\n",
       "Others     8934\n",
       "Name: catdog_flag, dtype: int64"
      ]
     },
     "execution_count": 380,
     "metadata": {},
     "output_type": "execute_result"
    }
   ],
   "source": [
    "df['catdog_flag'].value_counts()"
   ]
  },
  {
   "cell_type": "code",
   "execution_count": 381,
   "metadata": {},
   "outputs": [],
   "source": [
    "df_stackedbar = pd.crosstab(df['Outcome Type'],df['catdog_flag'])"
   ]
  },
  {
   "cell_type": "code",
   "execution_count": 382,
   "metadata": {},
   "outputs": [
    {
     "data": {
      "text/html": [
       "<div>\n",
       "<style scoped>\n",
       "    .dataframe tbody tr th:only-of-type {\n",
       "        vertical-align: middle;\n",
       "    }\n",
       "\n",
       "    .dataframe tbody tr th {\n",
       "        vertical-align: top;\n",
       "    }\n",
       "\n",
       "    .dataframe thead th {\n",
       "        text-align: right;\n",
       "    }\n",
       "</style>\n",
       "<table border=\"1\" class=\"dataframe\">\n",
       "  <thead>\n",
       "    <tr style=\"text-align: right;\">\n",
       "      <th>catdog_flag</th>\n",
       "      <th>Cat</th>\n",
       "      <th>Dog</th>\n",
       "      <th>Others</th>\n",
       "    </tr>\n",
       "    <tr>\n",
       "      <th>Outcome Type</th>\n",
       "      <th></th>\n",
       "      <th></th>\n",
       "      <th></th>\n",
       "    </tr>\n",
       "  </thead>\n",
       "  <tbody>\n",
       "    <tr>\n",
       "      <th>Adoption</th>\n",
       "      <td>24680</td>\n",
       "      <td>37167</td>\n",
       "      <td>935</td>\n",
       "    </tr>\n",
       "    <tr>\n",
       "      <th>Died</th>\n",
       "      <td>762</td>\n",
       "      <td>296</td>\n",
       "      <td>228</td>\n",
       "    </tr>\n",
       "    <tr>\n",
       "      <th>Disposal</th>\n",
       "      <td>91</td>\n",
       "      <td>48</td>\n",
       "      <td>488</td>\n",
       "    </tr>\n",
       "    <tr>\n",
       "      <th>Euthanasia</th>\n",
       "      <td>2120</td>\n",
       "      <td>1864</td>\n",
       "      <td>5073</td>\n",
       "    </tr>\n",
       "    <tr>\n",
       "      <th>Missing</th>\n",
       "      <td>35</td>\n",
       "      <td>31</td>\n",
       "      <td>5</td>\n",
       "    </tr>\n",
       "  </tbody>\n",
       "</table>\n",
       "</div>"
      ],
      "text/plain": [
       "catdog_flag     Cat    Dog  Others\n",
       "Outcome Type                      \n",
       "Adoption      24680  37167     935\n",
       "Died            762    296     228\n",
       "Disposal         91     48     488\n",
       "Euthanasia     2120   1864    5073\n",
       "Missing          35     31       5"
      ]
     },
     "execution_count": 382,
     "metadata": {},
     "output_type": "execute_result"
    }
   ],
   "source": [
    "df_stackedbar.head()\n"
   ]
  },
  {
   "cell_type": "code",
   "execution_count": 383,
   "metadata": {},
   "outputs": [],
   "source": [
    "df_stackedbar2 = pd.crosstab(df['catdog_flag'],df['Outcome Type'])"
   ]
  },
  {
   "cell_type": "code",
   "execution_count": 384,
   "metadata": {},
   "outputs": [
    {
     "data": {
      "text/plain": [
       "<AxesSubplot:xlabel='catdog_flag'>"
      ]
     },
     "execution_count": 384,
     "metadata": {},
     "output_type": "execute_result"
    },
    {
     "data": {
      "image/png": "[encoded data removed]",
      "text/plain": [
       "<Figure size 432x288 with 1 Axes>"
      ]
     },
     "metadata": {
      "needs_background": "light"
     },
     "output_type": "display_data"
    }
   ],
   "source": [
    "df_stackedbar2.plot.bar(stacked=True, rot=0)"
   ]
  },
  {
   "cell_type": "code",
   "execution_count": 385,
   "metadata": {},
   "outputs": [],
   "source": [
    "def get_stacked_bars(df):\n",
    "    X = df.columns.to_list()\n",
    "    w = 0.6\n",
    "    for i in df.index.to_list():\n",
    "        Y = df.loc[i].to_list()\n",
    "        plt.bar(X, Y, w, label=str(i))\n",
    "    \n",
    "    plt.ylabel(\"Count\")\n",
    "    plt.xlabel(\"Animal Type\")\n",
    "    plt.legend()\n",
    "    plt.show()\n",
    "        "
   ]
  },
  {
   "cell_type": "code",
   "execution_count": 386,
   "metadata": {},
   "outputs": [
    {
     "data": {
      "image/png": "[encoded data removed]",
      "text/plain": [
       "<Figure size 432x288 with 1 Axes>"
      ]
     },
     "metadata": {
      "needs_background": "light"
     },
     "output_type": "display_data"
    }
   ],
   "source": [
    "get_stacked_bars(df_stackedbar)"
   ]
  },
  {
   "cell_type": "markdown",
   "metadata": {},
   "source": [
    "#### Interpretation and Conclusion"
   ]
  },
  {
   "cell_type": "markdown",
   "metadata": {},
   "source": [
    "We can observe from the above stacked bar chart that dogs have more number of adoptions and returns to owner than cats or other animal types. \n",
    "\n",
    "__This means that dogs are clearly more desirable from our preliminary analysis. However, can we extend this conclusion to all types of dogs? Are certain breeds less likely to find a home?__"
   ]
  },
  {
   "cell_type": "markdown",
   "metadata": {},
   "source": [
    "### Does a dog breed affect its desirability to find a home?\n",
    "\n",
    "Let's start by seeing what are the common breeds at the animal shelter"
   ]
  },
  {
   "cell_type": "code",
   "execution_count": 387,
   "metadata": {},
   "outputs": [
    {
     "data": {
      "text/plain": [
       "Index(['Unnamed: 0', 'Animal ID', 'Name_intakes', 'DateTime_intake',\n",
       "       'MonthYear_intake', 'Found Location', 'Intake Type', 'Intake Condition',\n",
       "       'Animal Type_intake', 'Sex upon Intake', 'Age upon Intake',\n",
       "       'Breed_intake', 'Color_intake', 'Name_outcomes', 'DateTime_outcomes',\n",
       "       'MonthYear_outcomes', 'Date of Birth', 'Outcome Type',\n",
       "       'Outcome Subtype', 'Animal Type_outcomes', 'Sex upon Outcome',\n",
       "       'Age upon Outcome', 'Breed_outcomes', 'Color_outcomes', 'age', 'seq',\n",
       "       'indicator_col', 'catdog_flag'],\n",
       "      dtype='object')"
      ]
     },
     "execution_count": 387,
     "metadata": {},
     "output_type": "execute_result"
    }
   ],
   "source": [
    "df.columns"
   ]
  },
  {
   "cell_type": "code",
   "execution_count": 388,
   "metadata": {},
   "outputs": [
    {
     "data": {
      "text/plain": [
       "array(['Spinone Italiano Mix', 'Dachshund', 'Shetland Sheepdog', ...,\n",
       "       'Shiba Inu/Alaskan Husky', 'Redbone Hound/German Shepherd',\n",
       "       'German Shorthair Pointer/Beagle'], dtype=object)"
      ]
     },
     "execution_count": 388,
     "metadata": {},
     "output_type": "execute_result"
    }
   ],
   "source": [
    "df['Breed_outcomes'].unique()"
   ]
  },
  {
   "cell_type": "markdown",
   "metadata": {},
   "source": [
    "__Some breeds have a suffix \"Mix\" like Spinone Italiano Mix, Pitbull Mix, etc. For the sake of simplicity of this analysis, we will treat the Mix and Non-Mix breeds under one bucket__"
   ]
  },
  {
   "cell_type": "code",
   "execution_count": 417,
   "metadata": {},
   "outputs": [],
   "source": [
    "def get_breed_distribution(animal_df):\n",
    "    animal_df['Breed_outcomes'] = animal_df['Breed_outcomes'].apply(lambda x: x if \"Mix\" not in str(x) else x.replace(\" Mix\",\"\").strip())\n",
    "    breed = animal_df.groupby(['Breed_outcomes']).size().reset_index(name='count').sort_values(by='count', ascending=False)\n",
    "    breed_10=breed.head(10)\n",
    "    # Bar plot\n",
    "    fig = plt.figure(figsize=(8,10))\n",
    "    sns.barplot('count','Breed_outcomes',\n",
    "                     data=breed_10, palette='husl', linewidth=0.7, edgecolor='k')  # hls/husl chooses the palette based on evenly spaced colors taken out from a circular color space. husl controls for color intensity.\n",
    "    plt.ylabel('Dog Breed', fontsize=14)\n",
    "    plt.xlabel('Count', fontsize=14)\n",
    "    plt.title(\"Top 10 Breed Types\")"
   ]
  },
  {
   "cell_type": "code",
   "execution_count": 418,
   "metadata": {},
   "outputs": [
    {
     "name": "stderr",
     "output_type": "stream",
     "text": [
      "<ipython-input-417-8783c1ef47a2>:2: SettingWithCopyWarning: \n",
      "A value is trying to be set on a copy of a slice from a DataFrame.\n",
      "Try using .loc[row_indexer,col_indexer] = value instead\n",
      "\n",
      "See the caveats in the documentation: https://pandas.pydata.org/pandas-docs/stable/user_guide/indexing.html#returning-a-view-versus-a-copy\n",
      "  animal_df['Breed_outcomes'] = animal_df['Breed_outcomes'].apply(lambda x: x if \"Mix\" not in str(x) else x.replace(\" Mix\",\"\").strip())\n",
      "C:\\Users\\chira\\anaconda3\\lib\\site-packages\\seaborn\\_decorators.py:36: FutureWarning: Pass the following variables as keyword args: x, y. From version 0.12, the only valid positional argument will be `data`, and passing other arguments without an explicit keyword will result in an error or misinterpretation.\n",
      "  warnings.warn(\n"
     ]
    },
    {
     "data": {
      "image/png": "[encoded data removed]",
      "text/plain": [
       "<Figure size 576x720 with 1 Axes>"
      ]
     },
     "metadata": {
      "needs_background": "light"
     },
     "output_type": "display_data"
    }
   ],
   "source": [
    "df_dogs = df[df['Animal Type_outcomes'].isin(['Dog'])]\n",
    "get_breed_distribution(df_dogs)"
   ]
  },
  {
   "cell_type": "code",
   "execution_count": 426,
   "metadata": {},
   "outputs": [
    {
     "name": "stdout",
     "output_type": "stream",
     "text": [
      "['Other Breeds' 'Labrador Retriever/Pit Bull' 'Pit Bull/Catahoula'\n",
      " 'Pit Bull Mix' 'Pit Bull/Labrador Retriever' 'Pit Bull'\n",
      " 'Australian Cattle Dog/Pit Bull' 'Pit Bull/Chinese Sharpei'\n",
      " 'Whippet/Pit Bull' 'Boxer/Pit Bull' 'Queensland Heeler/Pit Bull'\n",
      " 'Pit Bull/German Shepherd' 'Pit Bull/Pug' 'Pit Bull/Boxer'\n",
      " 'Pointer/Pit Bull' 'Catahoula/Pit Bull' 'Australian Kelpie/Pit Bull'\n",
      " 'Chinese Sharpei/Pit Bull' 'Labrador Retriever/American Pit Bull Terrier'\n",
      " 'German Shepherd/Pit Bull' 'Pit Bull/Australian Cattle Dog'\n",
      " 'Bulldog/Pit Bull' 'Carolina Dog/Pit Bull' 'Blue Lacy/Pit Bull'\n",
      " 'Basset Hound/Pit Bull' 'Golden Retriever/Pit Bull'\n",
      " 'American Pit Bull Terrier/Catahoula' 'Pit Bull/Plott Hound'\n",
      " 'Pit Bull/Rhod Ridgeback' 'American Pit Bull Terrier'\n",
      " 'Dachshund/Pit Bull' 'American Staffordshire Terrier/Pit Bull'\n",
      " 'American Pit Bull Terrier Mix' 'Doberman Pinsch/Pit Bull'\n",
      " 'Chihuahua Shorthair/Pit Bull'\n",
      " 'Irish Wolfhound/American Pit Bull Terrier' 'Pit Bull/Dalmatian'\n",
      " 'Pit Bull/French Bulldog' 'American Bulldog/Pit Bull'\n",
      " 'Pit Bull/Black Mouth Cur' 'Pit Bull/Pointer' 'Pit Bull/Mastiff'\n",
      " 'Border Collie/Pit Bull' 'Pit Bull/Bulldog'\n",
      " 'Australian Kelpie/American Pit Bull Terrier' 'Pit Bull/Blue Lacy'\n",
      " 'Pit Bull/Chow Chow' 'Cardigan Welsh Corgi/Pit Bull'\n",
      " 'Pit Bull/Rat Terrier' 'Great Dane/Pit Bull'\n",
      " 'Catahoula/American Pit Bull Terrier' 'Jack Russell Terrier/Pit Bull'\n",
      " 'Pit Bull/Anatol Shepherd' 'Plott Hound/Pit Bull' 'Pit Bull/Basset Hound'\n",
      " 'Pit Bull/Chihuahua Shorthair' 'Rhod Ridgeback/Pit Bull'\n",
      " 'Pit Bull/English Bulldog' 'Mastiff/Pit Bull' 'Canaan Dog/Pit Bull'\n",
      " 'Rat Terrier/Pit Bull' 'Pit Bull/St. Bernard Smooth Coat'\n",
      " 'Pit Bull/Pit Bull' 'Swiss Hound/Pit Bull' 'Siberian Husky/Pit Bull'\n",
      " 'Pit Bull/Siberian Husky' 'Pit Bull/Border Collie'\n",
      " 'Pit Bull/Pharaoh Hound' 'Ibizan Hound/Pit Bull'\n",
      " 'Pointer/American Pit Bull Terrier'\n",
      " 'American Pit Bull Terrier/American Bulldog'\n",
      " 'Pit Bull/Jack Russell Terrier' 'Rottweiler/Pit Bull'\n",
      " 'Great Pyrenees/Pit Bull' 'Pit Bull/Weimaraner'\n",
      " 'Pembroke Welsh Corgi/Pit Bull' 'Akita/Pit Bull'\n",
      " 'Pit Bull/American Bulldog' 'Chow Chow/Pit Bull'\n",
      " 'American Pit Bull Terrier/Chinese Sharpei'\n",
      " 'American Pit Bull Terrier/Boxer' 'Australian Shepherd/Pit Bull'\n",
      " 'American Pit Bull Terrier/American Pit Bull Terrier'\n",
      " 'Flat Coat Retriever/Pit Bull' 'Pit Bull/Flat Coat Retriever'\n",
      " 'Pit Bull/Dachshund' 'Pit Bull/Boston Terrier' 'Weimaraner/Pit Bull'\n",
      " 'Irish Setter/Pit Bull' 'Beagle/Pit Bull' 'Harrier/Pit Bull'\n",
      " 'Pit Bull/Rottweiler' 'Pit Bull/Alaskan Husky'\n",
      " 'Boxer/American Pit Bull Terrier' 'Pit Bull/Bull Terrier'\n",
      " 'Pit Bull/Cardigan Welsh Corgi' 'Pit Bull/Beagle'\n",
      " 'Pit Bull/Queensland Heeler' 'English Bulldog/Pit Bull'\n",
      " 'Pit Bull/Doberman Pinsch' 'American Pit Bull Terrier/Pit Bull'\n",
      " 'American Pit Bull Terrier/Labrador Retriever' 'Bull Terrier/Pit Bull'\n",
      " 'Pug/Pit Bull' 'American Pit Bull Terrier/Pointer'\n",
      " 'Pit Bull/Carolina Dog' 'Pit Bull/Dogue De Bordeaux'\n",
      " 'Pit Bull/American Foxhound' 'Black Mouth Cur/Pit Bull'\n",
      " 'Boston Terrier/Pit Bull' 'Pit Bull/Vizsla' 'Dalmatian/Pit Bull'\n",
      " 'Shih Tzu/Pit Bull' 'Pit Bull/Jindo' 'Neapolitan Mastiff/Pit Bull'\n",
      " 'Anatol Shepherd/Pit Bull' 'Dogo Argentino/Pit Bull'\n",
      " 'Siberian Husky/American Pit Bull Terrier' 'Vizsla/Pit Bull'\n",
      " 'Pit Bull/Belgian Malinois'\n",
      " 'Australian Cattle Dog/American Pit Bull Terrier'\n",
      " 'Rat Terrier/American Pit Bull Terrier'\n",
      " 'Mastiff/American Pit Bull Terrier' 'Pit Bull/Bullmastiff'\n",
      " 'American Pit Bull Terrier/Weimaraner' 'French Bulldog/Pit Bull'\n",
      " 'Staffordshire/Pit Bull' 'Pit Bull/Akita' 'Chesa Bay Retr/Pit Bull'\n",
      " 'American Pit Bull Terrier/Basenji' 'Basenji/Pit Bull'\n",
      " 'Pit Bull/Australian Kelpie' 'Basset Hound/American Pit Bull Terrier'\n",
      " 'Carolina Dog/American Pit Bull Terrier'\n",
      " 'American Pit Bull Terrier/Dachshund' 'Belgian Malinois/Pit Bull'\n",
      " 'German Shorthair Pointer/American Pit Bull Terrier'\n",
      " 'American Pit Bull Terrier/Basset Hound' 'Pit Bull/Great Dane'\n",
      " 'Dogue De Bordeaux/American Pit Bull Terrier' 'Redbone Hound/Pit Bull'\n",
      " 'Staffordshire/American Pit Bull Terrier'\n",
      " 'American Pit Bull Terrier/Boston Terrier'\n",
      " 'American Pit Bull Terrier/Black Mouth Cur'\n",
      " 'Dachshund/American Pit Bull Terrier' 'Cane Corso/Pit Bull'\n",
      " 'Pit Bull/German Shorthair Pointer']\n"
     ]
    }
   ],
   "source": [
    "analyze_breed = \"Pit Bull\"\n",
    "def get_breed_types(breed):\n",
    "    print(df['Breed_outcomes'].apply(lambda x: x if breed in str(x) else 'Other Breeds').unique())\n",
    "\n",
    "get_breed_types(analyze_breed)"
   ]
  },
  {
   "cell_type": "markdown",
   "metadata": {},
   "source": [
    "We can see that Pitbull (and its mixed variants) is one of the most common breeds in the shelter and we have sufficient data for it. __Therefore, let us assess the desirability of Pitbull (including all its variants) as a breed compared to others__."
   ]
  },
  {
   "cell_type": "markdown",
   "metadata": {},
   "source": [
    "### Analyzing the impact of a dog's breed on its desirability"
   ]
  },
  {
   "cell_type": "markdown",
   "metadata": {},
   "source": [
    "### How do we define desirability of a breed?\n",
    "\n",
    "Following are a few metrics that will in combination help us assess the desirability of a certain breed.\n",
    "1. Avg # Days to Adoption - lower makes it more desirable\n",
    "2. % Adoption - higher makes it more desirable\n",
    "3. % Return to Owner - higher makes it more desirable\n",
    "4. % Stray - lesser makes it more desirable\n",
    "5. % Owner Surrender - lower makes it more desirable\n",
    "6. Avg # Days to Return to Owner - lower makes it more desirable"
   ]
  },
  {
   "cell_type": "code",
   "execution_count": 395,
   "metadata": {},
   "outputs": [
    {
     "name": "stdout",
     "output_type": "stream",
     "text": [
      "<class 'pandas.core.frame.DataFrame'>\n",
      "RangeIndex: 138271 entries, 0 to 138270\n",
      "Data columns (total 28 columns):\n",
      " #   Column                Non-Null Count   Dtype  \n",
      "---  ------                --------------   -----  \n",
      " 0   Unnamed: 0            138271 non-null  int64  \n",
      " 1   Animal ID             138271 non-null  object \n",
      " 2   Name_intakes          138271 non-null  object \n",
      " 3   DateTime_intake       138271 non-null  object \n",
      " 4   MonthYear_intake      138271 non-null  object \n",
      " 5   Found Location        138271 non-null  object \n",
      " 6   Intake Type           138271 non-null  object \n",
      " 7   Intake Condition      138271 non-null  object \n",
      " 8   Animal Type_intake    138271 non-null  object \n",
      " 9   Sex upon Intake       138271 non-null  object \n",
      " 10  Age upon Intake       138271 non-null  object \n",
      " 11  Breed_intake          138271 non-null  object \n",
      " 12  Color_intake          138271 non-null  object \n",
      " 13  Name_outcomes         137335 non-null  object \n",
      " 14  DateTime_outcomes     137335 non-null  object \n",
      " 15  MonthYear_outcomes    137335 non-null  object \n",
      " 16  Date of Birth         137335 non-null  object \n",
      " 17  Outcome Type          137335 non-null  object \n",
      " 18  Outcome Subtype       137335 non-null  object \n",
      " 19  Animal Type_outcomes  137335 non-null  object \n",
      " 20  Sex upon Outcome      137335 non-null  object \n",
      " 21  Age upon Outcome      137335 non-null  object \n",
      " 22  Breed_outcomes        137335 non-null  object \n",
      " 23  Color_outcomes        137335 non-null  object \n",
      " 24  age                   137335 non-null  float64\n",
      " 25  seq                   137335 non-null  float64\n",
      " 26  indicator_col         138271 non-null  object \n",
      " 27  catdog_flag           138271 non-null  object \n",
      "dtypes: float64(2), int64(1), object(25)\n",
      "memory usage: 29.5+ MB\n"
     ]
    }
   ],
   "source": [
    "df.info()"
   ]
  },
  {
   "cell_type": "code",
   "execution_count": 450,
   "metadata": {},
   "outputs": [],
   "source": [
    "def flag_breed(df, breed):\n",
    "    colname = str.lower(breed.replace(\" \",\"\"))+\"_flag\"\n",
    "    df[colname] = df['Breed_outcomes'].apply(lambda x: breed if breed in str(x) else 'Other Breeds')\n",
    "    start_time = pd.to_datetime(df[\"DateTime_intake\"])\n",
    "    end_time = pd.to_datetime(df[\"DateTime_outcomes\"])\n",
    "    df['time_to_outcome'] = end_time - start_time\n",
    "    df['time_to_outcome_days'] = df['time_to_outcome'].dt.days\n",
    "    return df\n",
    "\n",
    "df_breedflag = flag_breed(df, analyze_breed)\n",
    "# df_breedflag"
   ]
  },
  {
   "cell_type": "code",
   "execution_count": 451,
   "metadata": {},
   "outputs": [
    {
     "data": {
      "text/plain": [
       "Other Breeds    125256\n",
       "Pit Bull         13015\n",
       "Name: pitbull_flag, dtype: int64"
      ]
     },
     "execution_count": 451,
     "metadata": {},
     "output_type": "execute_result"
    }
   ],
   "source": [
    "df_breedflag['pitbull_flag'].value_counts()"
   ]
  },
  {
   "cell_type": "code",
   "execution_count": 452,
   "metadata": {},
   "outputs": [
    {
     "data": {
      "text/html": [
       "<div>\n",
       "<style scoped>\n",
       "    .dataframe tbody tr th:only-of-type {\n",
       "        vertical-align: middle;\n",
       "    }\n",
       "\n",
       "    .dataframe tbody tr th {\n",
       "        vertical-align: top;\n",
       "    }\n",
       "\n",
       "    .dataframe thead th {\n",
       "        text-align: right;\n",
       "    }\n",
       "</style>\n",
       "<table border=\"1\" class=\"dataframe\">\n",
       "  <thead>\n",
       "    <tr style=\"text-align: right;\">\n",
       "      <th></th>\n",
       "      <th>Unnamed: 0</th>\n",
       "      <th>Animal ID</th>\n",
       "      <th>Name_intakes</th>\n",
       "      <th>DateTime_intake</th>\n",
       "      <th>MonthYear_intake</th>\n",
       "      <th>Found Location</th>\n",
       "      <th>Intake Type</th>\n",
       "      <th>Intake Condition</th>\n",
       "      <th>Animal Type_intake</th>\n",
       "      <th>Sex upon Intake</th>\n",
       "      <th>...</th>\n",
       "      <th>Age upon Outcome</th>\n",
       "      <th>Breed_outcomes</th>\n",
       "      <th>Color_outcomes</th>\n",
       "      <th>age</th>\n",
       "      <th>seq</th>\n",
       "      <th>indicator_col</th>\n",
       "      <th>catdog_flag</th>\n",
       "      <th>time_to_outcome</th>\n",
       "      <th>pitbull_flag</th>\n",
       "      <th>time_to_outcome_days</th>\n",
       "    </tr>\n",
       "  </thead>\n",
       "  <tbody>\n",
       "    <tr>\n",
       "      <th>0</th>\n",
       "      <td>0</td>\n",
       "      <td>A0061001</td>\n",
       "      <td>A006100</td>\n",
       "      <td>2014-03-07 14:26:00</td>\n",
       "      <td>March 2014</td>\n",
       "      <td>8700 Research in Austin (TX)</td>\n",
       "      <td>Public Assist</td>\n",
       "      <td>Normal</td>\n",
       "      <td>Dog</td>\n",
       "      <td>Neutered Male</td>\n",
       "      <td>...</td>\n",
       "      <td>6 years</td>\n",
       "      <td>Spinone Italiano Mix</td>\n",
       "      <td>Yellow/White</td>\n",
       "      <td>2434.0</td>\n",
       "      <td>1.0</td>\n",
       "      <td>both</td>\n",
       "      <td>Dog</td>\n",
       "      <td>1 days 02:44:00</td>\n",
       "      <td>Other Breeds</td>\n",
       "      <td>1.0</td>\n",
       "    </tr>\n",
       "    <tr>\n",
       "      <th>1</th>\n",
       "      <td>1</td>\n",
       "      <td>A0061002</td>\n",
       "      <td>A006100</td>\n",
       "      <td>2014-12-19 10:21:00</td>\n",
       "      <td>December 2014</td>\n",
       "      <td>8700 Research Blvd in Austin (TX)</td>\n",
       "      <td>Public Assist</td>\n",
       "      <td>Normal</td>\n",
       "      <td>Dog</td>\n",
       "      <td>Neutered Male</td>\n",
       "      <td>...</td>\n",
       "      <td>7 years</td>\n",
       "      <td>Spinone Italiano Mix</td>\n",
       "      <td>Yellow/White</td>\n",
       "      <td>2721.0</td>\n",
       "      <td>2.0</td>\n",
       "      <td>both</td>\n",
       "      <td>Dog</td>\n",
       "      <td>1 days 06:14:00</td>\n",
       "      <td>Other Breeds</td>\n",
       "      <td>1.0</td>\n",
       "    </tr>\n",
       "    <tr>\n",
       "      <th>2</th>\n",
       "      <td>2</td>\n",
       "      <td>A0061003</td>\n",
       "      <td>A006100</td>\n",
       "      <td>2017-12-07 14:07:00</td>\n",
       "      <td>December 2017</td>\n",
       "      <td>Colony Creek And Hunters Trace in Austin (TX)</td>\n",
       "      <td>Stray</td>\n",
       "      <td>Normal</td>\n",
       "      <td>Dog</td>\n",
       "      <td>Neutered Male</td>\n",
       "      <td>...</td>\n",
       "      <td>10 years</td>\n",
       "      <td>Spinone Italiano Mix</td>\n",
       "      <td>Yellow/White</td>\n",
       "      <td>3804.0</td>\n",
       "      <td>3.0</td>\n",
       "      <td>both</td>\n",
       "      <td>Dog</td>\n",
       "      <td>-1 days +09:53:00</td>\n",
       "      <td>Other Breeds</td>\n",
       "      <td>-1.0</td>\n",
       "    </tr>\n",
       "    <tr>\n",
       "      <th>3</th>\n",
       "      <td>3</td>\n",
       "      <td>A0477591</td>\n",
       "      <td>A047759</td>\n",
       "      <td>2014-04-02 15:55:00</td>\n",
       "      <td>April 2014</td>\n",
       "      <td>Austin (TX)</td>\n",
       "      <td>Owner Surrender</td>\n",
       "      <td>Normal</td>\n",
       "      <td>Dog</td>\n",
       "      <td>Neutered Male</td>\n",
       "      <td>...</td>\n",
       "      <td>10 years</td>\n",
       "      <td>Dachshund</td>\n",
       "      <td>Tricolor</td>\n",
       "      <td>3657.0</td>\n",
       "      <td>1.0</td>\n",
       "      <td>both</td>\n",
       "      <td>Dog</td>\n",
       "      <td>4 days 23:17:00</td>\n",
       "      <td>Other Breeds</td>\n",
       "      <td>4.0</td>\n",
       "    </tr>\n",
       "    <tr>\n",
       "      <th>4</th>\n",
       "      <td>4</td>\n",
       "      <td>A1340671</td>\n",
       "      <td>A134067</td>\n",
       "      <td>2013-11-16 09:02:00</td>\n",
       "      <td>November 2013</td>\n",
       "      <td>12034 Research Blvd in Austin (TX)</td>\n",
       "      <td>Public Assist</td>\n",
       "      <td>Injured</td>\n",
       "      <td>Dog</td>\n",
       "      <td>Neutered Male</td>\n",
       "      <td>...</td>\n",
       "      <td>16 years</td>\n",
       "      <td>Shetland Sheepdog</td>\n",
       "      <td>Brown/White</td>\n",
       "      <td>5875.0</td>\n",
       "      <td>1.0</td>\n",
       "      <td>both</td>\n",
       "      <td>Dog</td>\n",
       "      <td>0 days 02:52:00</td>\n",
       "      <td>Other Breeds</td>\n",
       "      <td>0.0</td>\n",
       "    </tr>\n",
       "    <tr>\n",
       "      <th>...</th>\n",
       "      <td>...</td>\n",
       "      <td>...</td>\n",
       "      <td>...</td>\n",
       "      <td>...</td>\n",
       "      <td>...</td>\n",
       "      <td>...</td>\n",
       "      <td>...</td>\n",
       "      <td>...</td>\n",
       "      <td>...</td>\n",
       "      <td>...</td>\n",
       "      <td>...</td>\n",
       "      <td>...</td>\n",
       "      <td>...</td>\n",
       "      <td>...</td>\n",
       "      <td>...</td>\n",
       "      <td>...</td>\n",
       "      <td>...</td>\n",
       "      <td>...</td>\n",
       "      <td>...</td>\n",
       "      <td>...</td>\n",
       "      <td>...</td>\n",
       "    </tr>\n",
       "    <tr>\n",
       "      <th>138266</th>\n",
       "      <td>138266</td>\n",
       "      <td>A8554661</td>\n",
       "      <td>A855466</td>\n",
       "      <td>2022-04-18 15:15:00</td>\n",
       "      <td>April 2022</td>\n",
       "      <td>12102 Cottage Promenade Court in Austin (TX)</td>\n",
       "      <td>Stray</td>\n",
       "      <td>Normal</td>\n",
       "      <td>Cat</td>\n",
       "      <td>Neutered Male</td>\n",
       "      <td>...</td>\n",
       "      <td>NaN</td>\n",
       "      <td>NaN</td>\n",
       "      <td>NaN</td>\n",
       "      <td>NaN</td>\n",
       "      <td>NaN</td>\n",
       "      <td>left_only</td>\n",
       "      <td>Others</td>\n",
       "      <td>NaT</td>\n",
       "      <td>Other Breeds</td>\n",
       "      <td>NaN</td>\n",
       "    </tr>\n",
       "    <tr>\n",
       "      <th>138267</th>\n",
       "      <td>138267</td>\n",
       "      <td>A8554691</td>\n",
       "      <td>A855469</td>\n",
       "      <td>2022-04-18 15:47:00</td>\n",
       "      <td>April 2022</td>\n",
       "      <td>Austin (TX)</td>\n",
       "      <td>Stray</td>\n",
       "      <td>Medical</td>\n",
       "      <td>Cat</td>\n",
       "      <td>Spayed Female</td>\n",
       "      <td>...</td>\n",
       "      <td>NaN</td>\n",
       "      <td>NaN</td>\n",
       "      <td>NaN</td>\n",
       "      <td>NaN</td>\n",
       "      <td>NaN</td>\n",
       "      <td>left_only</td>\n",
       "      <td>Others</td>\n",
       "      <td>NaT</td>\n",
       "      <td>Other Breeds</td>\n",
       "      <td>NaN</td>\n",
       "    </tr>\n",
       "    <tr>\n",
       "      <th>138268</th>\n",
       "      <td>138268</td>\n",
       "      <td>A8554701</td>\n",
       "      <td>A855470</td>\n",
       "      <td>2022-04-18 15:46:00</td>\n",
       "      <td>April 2022</td>\n",
       "      <td>207 Franklin Boulevard in Austin (TX)</td>\n",
       "      <td>Stray</td>\n",
       "      <td>Normal</td>\n",
       "      <td>Dog</td>\n",
       "      <td>Intact Male</td>\n",
       "      <td>...</td>\n",
       "      <td>NaN</td>\n",
       "      <td>NaN</td>\n",
       "      <td>NaN</td>\n",
       "      <td>NaN</td>\n",
       "      <td>NaN</td>\n",
       "      <td>left_only</td>\n",
       "      <td>Others</td>\n",
       "      <td>NaT</td>\n",
       "      <td>Other Breeds</td>\n",
       "      <td>NaN</td>\n",
       "    </tr>\n",
       "    <tr>\n",
       "      <th>138269</th>\n",
       "      <td>138269</td>\n",
       "      <td>A8554711</td>\n",
       "      <td>A855471</td>\n",
       "      <td>2022-04-18 15:46:00</td>\n",
       "      <td>April 2022</td>\n",
       "      <td>207 Franklin Boulevard in Austin (TX)</td>\n",
       "      <td>Stray</td>\n",
       "      <td>Normal</td>\n",
       "      <td>Dog</td>\n",
       "      <td>Intact Male</td>\n",
       "      <td>...</td>\n",
       "      <td>NaN</td>\n",
       "      <td>NaN</td>\n",
       "      <td>NaN</td>\n",
       "      <td>NaN</td>\n",
       "      <td>NaN</td>\n",
       "      <td>left_only</td>\n",
       "      <td>Others</td>\n",
       "      <td>NaT</td>\n",
       "      <td>Other Breeds</td>\n",
       "      <td>NaN</td>\n",
       "    </tr>\n",
       "    <tr>\n",
       "      <th>138270</th>\n",
       "      <td>138270</td>\n",
       "      <td>A8554761</td>\n",
       "      <td>A855476</td>\n",
       "      <td>2022-04-18 16:43:00</td>\n",
       "      <td>April 2022</td>\n",
       "      <td>2207 Lou Neff Road in Austin (TX)</td>\n",
       "      <td>Stray</td>\n",
       "      <td>Normal</td>\n",
       "      <td>Dog</td>\n",
       "      <td>Unknown</td>\n",
       "      <td>...</td>\n",
       "      <td>NaN</td>\n",
       "      <td>NaN</td>\n",
       "      <td>NaN</td>\n",
       "      <td>NaN</td>\n",
       "      <td>NaN</td>\n",
       "      <td>left_only</td>\n",
       "      <td>Others</td>\n",
       "      <td>NaT</td>\n",
       "      <td>Other Breeds</td>\n",
       "      <td>NaN</td>\n",
       "    </tr>\n",
       "  </tbody>\n",
       "</table>\n",
       "<p>138271 rows × 31 columns</p>\n",
       "</div>"
      ],
      "text/plain": [
       "        Unnamed: 0 Animal ID Name_intakes     DateTime_intake  \\\n",
       "0                0  A0061001      A006100 2014-03-07 14:26:00   \n",
       "1                1  A0061002      A006100 2014-12-19 10:21:00   \n",
       "2                2  A0061003      A006100 2017-12-07 14:07:00   \n",
       "3                3  A0477591      A047759 2014-04-02 15:55:00   \n",
       "4                4  A1340671      A134067 2013-11-16 09:02:00   \n",
       "...            ...       ...          ...                 ...   \n",
       "138266      138266  A8554661      A855466 2022-04-18 15:15:00   \n",
       "138267      138267  A8554691      A855469 2022-04-18 15:47:00   \n",
       "138268      138268  A8554701      A855470 2022-04-18 15:46:00   \n",
       "138269      138269  A8554711      A855471 2022-04-18 15:46:00   \n",
       "138270      138270  A8554761      A855476 2022-04-18 16:43:00   \n",
       "\n",
       "       MonthYear_intake                                 Found Location  \\\n",
       "0            March 2014                   8700 Research in Austin (TX)   \n",
       "1         December 2014              8700 Research Blvd in Austin (TX)   \n",
       "2         December 2017  Colony Creek And Hunters Trace in Austin (TX)   \n",
       "3            April 2014                                    Austin (TX)   \n",
       "4         November 2013             12034 Research Blvd in Austin (TX)   \n",
       "...                 ...                                            ...   \n",
       "138266       April 2022   12102 Cottage Promenade Court in Austin (TX)   \n",
       "138267       April 2022                                    Austin (TX)   \n",
       "138268       April 2022          207 Franklin Boulevard in Austin (TX)   \n",
       "138269       April 2022          207 Franklin Boulevard in Austin (TX)   \n",
       "138270       April 2022              2207 Lou Neff Road in Austin (TX)   \n",
       "\n",
       "            Intake Type Intake Condition Animal Type_intake Sex upon Intake  \\\n",
       "0         Public Assist           Normal                Dog   Neutered Male   \n",
       "1         Public Assist           Normal                Dog   Neutered Male   \n",
       "2                 Stray           Normal                Dog   Neutered Male   \n",
       "3       Owner Surrender           Normal                Dog   Neutered Male   \n",
       "4         Public Assist          Injured                Dog   Neutered Male   \n",
       "...                 ...              ...                ...             ...   \n",
       "138266            Stray           Normal                Cat   Neutered Male   \n",
       "138267            Stray          Medical                Cat   Spayed Female   \n",
       "138268            Stray           Normal                Dog     Intact Male   \n",
       "138269            Stray           Normal                Dog     Intact Male   \n",
       "138270            Stray           Normal                Dog         Unknown   \n",
       "\n",
       "        ... Age upon Outcome        Breed_outcomes Color_outcomes     age  \\\n",
       "0       ...          6 years  Spinone Italiano Mix   Yellow/White  2434.0   \n",
       "1       ...          7 years  Spinone Italiano Mix   Yellow/White  2721.0   \n",
       "2       ...         10 years  Spinone Italiano Mix   Yellow/White  3804.0   \n",
       "3       ...         10 years             Dachshund       Tricolor  3657.0   \n",
       "4       ...         16 years     Shetland Sheepdog    Brown/White  5875.0   \n",
       "...     ...              ...                   ...            ...     ...   \n",
       "138266  ...              NaN                   NaN            NaN     NaN   \n",
       "138267  ...              NaN                   NaN            NaN     NaN   \n",
       "138268  ...              NaN                   NaN            NaN     NaN   \n",
       "138269  ...              NaN                   NaN            NaN     NaN   \n",
       "138270  ...              NaN                   NaN            NaN     NaN   \n",
       "\n",
       "        seq indicator_col catdog_flag   time_to_outcome  pitbull_flag  \\\n",
       "0       1.0          both         Dog   1 days 02:44:00  Other Breeds   \n",
       "1       2.0          both         Dog   1 days 06:14:00  Other Breeds   \n",
       "2       3.0          both         Dog -1 days +09:53:00  Other Breeds   \n",
       "3       1.0          both         Dog   4 days 23:17:00  Other Breeds   \n",
       "4       1.0          both         Dog   0 days 02:52:00  Other Breeds   \n",
       "...     ...           ...         ...               ...           ...   \n",
       "138266  NaN     left_only      Others               NaT  Other Breeds   \n",
       "138267  NaN     left_only      Others               NaT  Other Breeds   \n",
       "138268  NaN     left_only      Others               NaT  Other Breeds   \n",
       "138269  NaN     left_only      Others               NaT  Other Breeds   \n",
       "138270  NaN     left_only      Others               NaT  Other Breeds   \n",
       "\n",
       "       time_to_outcome_days  \n",
       "0                       1.0  \n",
       "1                       1.0  \n",
       "2                      -1.0  \n",
       "3                       4.0  \n",
       "4                       0.0  \n",
       "...                     ...  \n",
       "138266                  NaN  \n",
       "138267                  NaN  \n",
       "138268                  NaN  \n",
       "138269                  NaN  \n",
       "138270                  NaN  \n",
       "\n",
       "[138271 rows x 31 columns]"
      ]
     },
     "execution_count": 452,
     "metadata": {},
     "output_type": "execute_result"
    }
   ],
   "source": [
    "df_breedflag"
   ]
  },
  {
   "cell_type": "markdown",
   "metadata": {},
   "source": [
    "#### Initializing a dataframe to keep track of the metrics\n",
    "\n",
    "List of metrics -\n",
    "1. Avg # Days to Adoption - lower makes it more desirable\n",
    "2. % Adoption - higher makes it more desirable\n",
    "3. % Return to Owner - higher makes it more desirable\n",
    "4. % Stray - lesser makes it more desirable\n",
    "5. % Owner Surrender - lower makes it more desirable\n",
    "6. Avg # Days to Return to Owner - lower makes it more desirable"
   ]
  },
  {
   "cell_type": "code",
   "execution_count": 706,
   "metadata": {},
   "outputs": [],
   "source": [
    "col_names = ['metric','value']\n",
    "criteria_list = ['Avg # Days to Adoption','% Adoption','% Return to Owner', '% Stray', '% Owner Surrender', 'Avg # Days to Return to Owner']\n",
    "pit_values_list = [None]*len(criteria_list)\n",
    "other_values_list = [None]*len(criteria_list)\n",
    "pit_values = pd.DataFrame(columns=col_names)\n",
    "other_values = pd.DataFrame(columns=col_names)"
   ]
  },
  {
   "cell_type": "markdown",
   "metadata": {},
   "source": [
    "#### 1. Average time to adopt"
   ]
  },
  {
   "cell_type": "code",
   "execution_count": 707,
   "metadata": {},
   "outputs": [],
   "source": [
    "def avg_time_to_adopt(df):\n",
    "    time_adoption = df[df['Outcome Type']=='Adoption']\n",
    "    time_adoption = time_adoption.groupby(['pitbull_flag']).agg({'time_to_outcome_days':'mean'})\n",
    "    return time_adoption"
   ]
  },
  {
   "cell_type": "code",
   "execution_count": 708,
   "metadata": {},
   "outputs": [
    {
     "data": {
      "text/html": [
       "<div>\n",
       "<style scoped>\n",
       "    .dataframe tbody tr th:only-of-type {\n",
       "        vertical-align: middle;\n",
       "    }\n",
       "\n",
       "    .dataframe tbody tr th {\n",
       "        vertical-align: top;\n",
       "    }\n",
       "\n",
       "    .dataframe thead th {\n",
       "        text-align: right;\n",
       "    }\n",
       "</style>\n",
       "<table border=\"1\" class=\"dataframe\">\n",
       "  <thead>\n",
       "    <tr style=\"text-align: right;\">\n",
       "      <th></th>\n",
       "      <th>time_to_outcome_days</th>\n",
       "    </tr>\n",
       "    <tr>\n",
       "      <th>pitbull_flag</th>\n",
       "      <th></th>\n",
       "    </tr>\n",
       "  </thead>\n",
       "  <tbody>\n",
       "    <tr>\n",
       "      <th>Other Breeds</th>\n",
       "      <td>29.756147</td>\n",
       "    </tr>\n",
       "    <tr>\n",
       "      <th>Pit Bull</th>\n",
       "      <td>54.858420</td>\n",
       "    </tr>\n",
       "  </tbody>\n",
       "</table>\n",
       "</div>"
      ],
      "text/plain": [
       "              time_to_outcome_days\n",
       "pitbull_flag                      \n",
       "Other Breeds             29.756147\n",
       "Pit Bull                 54.858420"
      ]
     },
     "execution_count": 708,
     "metadata": {},
     "output_type": "execute_result"
    }
   ],
   "source": [
    "time_adoption = avg_time_to_adopt(df_breedflag)\n",
    "time_adoption"
   ]
  },
  {
   "cell_type": "code",
   "execution_count": 709,
   "metadata": {},
   "outputs": [
    {
     "data": {
      "text/plain": [
       "([54.85841999635103, None, None, None, None, None],\n",
       " [29.75614736217518, None, None, None, None, None])"
      ]
     },
     "execution_count": 709,
     "metadata": {},
     "output_type": "execute_result"
    }
   ],
   "source": [
    "other_values_list[0] = time_adoption.loc['Other Breeds'][0]\n",
    "pit_values_list[0] = time_adoption.loc['Pit Bull'][0]\n",
    "pit_values_list, other_values_list"
   ]
  },
  {
   "cell_type": "markdown",
   "metadata": {},
   "source": [
    "#### 2. Percentage Adoption"
   ]
  },
  {
   "cell_type": "code",
   "execution_count": 710,
   "metadata": {},
   "outputs": [],
   "source": [
    "def percentage_adoption(df):\n",
    "    adoption = pd.crosstab(df['pitbull_flag'],df['Outcome Type'])\n",
    "    non_adoption_cols = adoption.columns[1:].to_list()\n",
    "    adoption['Non-Adopted'] = adoption[non_adoption_cols].sum(axis=1)\n",
    "    adoption = adoption.iloc[:,[0,-1]]\n",
    "    adoption['total'] = adoption.T.sum()\n",
    "    return adoption"
   ]
  },
  {
   "cell_type": "code",
   "execution_count": 711,
   "metadata": {},
   "outputs": [
    {
     "data": {
      "text/html": [
       "<div>\n",
       "<style scoped>\n",
       "    .dataframe tbody tr th:only-of-type {\n",
       "        vertical-align: middle;\n",
       "    }\n",
       "\n",
       "    .dataframe tbody tr th {\n",
       "        vertical-align: top;\n",
       "    }\n",
       "\n",
       "    .dataframe thead th {\n",
       "        text-align: right;\n",
       "    }\n",
       "</style>\n",
       "<table border=\"1\" class=\"dataframe\">\n",
       "  <thead>\n",
       "    <tr style=\"text-align: right;\">\n",
       "      <th>Outcome Type</th>\n",
       "      <th>Adoption</th>\n",
       "      <th>Non-Adopted</th>\n",
       "      <th>total</th>\n",
       "    </tr>\n",
       "    <tr>\n",
       "      <th>pitbull_flag</th>\n",
       "      <th></th>\n",
       "      <th></th>\n",
       "      <th></th>\n",
       "    </tr>\n",
       "  </thead>\n",
       "  <tbody>\n",
       "    <tr>\n",
       "      <th>Other Breeds</th>\n",
       "      <td>57301</td>\n",
       "      <td>67019</td>\n",
       "      <td>124320</td>\n",
       "    </tr>\n",
       "    <tr>\n",
       "      <th>Pit Bull</th>\n",
       "      <td>5481</td>\n",
       "      <td>7534</td>\n",
       "      <td>13015</td>\n",
       "    </tr>\n",
       "  </tbody>\n",
       "</table>\n",
       "</div>"
      ],
      "text/plain": [
       "Outcome Type  Adoption  Non-Adopted   total\n",
       "pitbull_flag                               \n",
       "Other Breeds     57301        67019  124320\n",
       "Pit Bull          5481         7534   13015"
      ]
     },
     "execution_count": 711,
     "metadata": {},
     "output_type": "execute_result"
    }
   ],
   "source": [
    "adoption = percentage_adoption(df_breedflag)\n",
    "adoption"
   ]
  },
  {
   "cell_type": "code",
   "execution_count": 712,
   "metadata": {},
   "outputs": [
    {
     "data": {
      "text/plain": [
       "([54.85841999635103, 42.11294660007683, None, None, None, None],\n",
       " [29.75614736217518, 46.09153796653796, None, None, None, None])"
      ]
     },
     "execution_count": 712,
     "metadata": {},
     "output_type": "execute_result"
    }
   ],
   "source": [
    "other_values_list[1] = adoption.loc['Other Breeds'][0]/adoption.loc['Other Breeds'][2]*100\n",
    "pit_values_list[1] = adoption.loc['Pit Bull'][0]/adoption.loc['Pit Bull'][2]*100\n",
    "pit_values_list, other_values_list"
   ]
  },
  {
   "cell_type": "markdown",
   "metadata": {},
   "source": [
    "#### 3. Percentage Return to Owner"
   ]
  },
  {
   "cell_type": "code",
   "execution_count": 713,
   "metadata": {},
   "outputs": [],
   "source": [
    "def percentage_return_to_owner(df):\n",
    "    rto = pd.crosstab(df['pitbull_flag'],df['Outcome Type'])\n",
    "    non_rto_cols = [col for col in rto.columns if col!='Return to Owner']\n",
    "    rto['Non-RTO'] = rto[non_rto_cols].sum(axis=1)\n",
    "    rto = rto.iloc[:,[6,-1]]\n",
    "    rto['total'] = rto.T.sum()\n",
    "    return rto"
   ]
  },
  {
   "cell_type": "code",
   "execution_count": 714,
   "metadata": {},
   "outputs": [
    {
     "data": {
      "text/html": [
       "<div>\n",
       "<style scoped>\n",
       "    .dataframe tbody tr th:only-of-type {\n",
       "        vertical-align: middle;\n",
       "    }\n",
       "\n",
       "    .dataframe tbody tr th {\n",
       "        vertical-align: top;\n",
       "    }\n",
       "\n",
       "    .dataframe thead th {\n",
       "        text-align: right;\n",
       "    }\n",
       "</style>\n",
       "<table border=\"1\" class=\"dataframe\">\n",
       "  <thead>\n",
       "    <tr style=\"text-align: right;\">\n",
       "      <th>Outcome Type</th>\n",
       "      <th>Return to Owner</th>\n",
       "      <th>Non-RTO</th>\n",
       "      <th>total</th>\n",
       "    </tr>\n",
       "    <tr>\n",
       "      <th>pitbull_flag</th>\n",
       "      <th></th>\n",
       "      <th></th>\n",
       "      <th></th>\n",
       "    </tr>\n",
       "  </thead>\n",
       "  <tbody>\n",
       "    <tr>\n",
       "      <th>Other Breeds</th>\n",
       "      <td>18806</td>\n",
       "      <td>105514</td>\n",
       "      <td>124320</td>\n",
       "    </tr>\n",
       "    <tr>\n",
       "      <th>Pit Bull</th>\n",
       "      <td>4116</td>\n",
       "      <td>8899</td>\n",
       "      <td>13015</td>\n",
       "    </tr>\n",
       "  </tbody>\n",
       "</table>\n",
       "</div>"
      ],
      "text/plain": [
       "Outcome Type  Return to Owner  Non-RTO   total\n",
       "pitbull_flag                                  \n",
       "Other Breeds            18806   105514  124320\n",
       "Pit Bull                 4116     8899   13015"
      ]
     },
     "execution_count": 714,
     "metadata": {},
     "output_type": "execute_result"
    }
   ],
   "source": [
    "rto = percentage_return_to_owner(df_breedflag)\n",
    "rto"
   ]
  },
  {
   "cell_type": "code",
   "execution_count": 715,
   "metadata": {},
   "outputs": [
    {
     "data": {
      "text/plain": [
       "([54.85841999635103, 42.11294660007683, 31.625048021513635, None, None, None],\n",
       " [29.75614736217518, 46.09153796653796, 15.127091377091379, None, None, None])"
      ]
     },
     "execution_count": 715,
     "metadata": {},
     "output_type": "execute_result"
    }
   ],
   "source": [
    "other_values_list[2] = rto.loc['Other Breeds'][0]/rto.loc['Other Breeds'][2]*100\n",
    "pit_values_list[2] = rto.loc['Pit Bull'][0]/rto.loc['Pit Bull'][2]*100\n",
    "pit_values_list, other_values_list"
   ]
  },
  {
   "cell_type": "markdown",
   "metadata": {},
   "source": [
    "#### 4. Percentage Stray"
   ]
  },
  {
   "cell_type": "code",
   "execution_count": 716,
   "metadata": {},
   "outputs": [],
   "source": [
    "def percentage_stray(df):\n",
    "    stray = pd.crosstab(df['pitbull_flag'],df['Intake Type'])\n",
    "    non_stray_cols = [col for col in stray.columns if col!='Stray']\n",
    "    stray['Non-Stray'] = stray[non_stray_cols].sum(axis=1)\n",
    "    stray = stray.iloc[:,[-3,-1]]\n",
    "    stray['total'] = stray.T.sum()\n",
    "    return stray"
   ]
  },
  {
   "cell_type": "code",
   "execution_count": 717,
   "metadata": {},
   "outputs": [
    {
     "data": {
      "text/html": [
       "<div>\n",
       "<style scoped>\n",
       "    .dataframe tbody tr th:only-of-type {\n",
       "        vertical-align: middle;\n",
       "    }\n",
       "\n",
       "    .dataframe tbody tr th {\n",
       "        vertical-align: top;\n",
       "    }\n",
       "\n",
       "    .dataframe thead th {\n",
       "        text-align: right;\n",
       "    }\n",
       "</style>\n",
       "<table border=\"1\" class=\"dataframe\">\n",
       "  <thead>\n",
       "    <tr style=\"text-align: right;\">\n",
       "      <th>Intake Type</th>\n",
       "      <th>Stray</th>\n",
       "      <th>Non-Stray</th>\n",
       "      <th>total</th>\n",
       "    </tr>\n",
       "    <tr>\n",
       "      <th>pitbull_flag</th>\n",
       "      <th></th>\n",
       "      <th></th>\n",
       "      <th></th>\n",
       "    </tr>\n",
       "  </thead>\n",
       "  <tbody>\n",
       "    <tr>\n",
       "      <th>Other Breeds</th>\n",
       "      <td>86598</td>\n",
       "      <td>38658</td>\n",
       "      <td>125256</td>\n",
       "    </tr>\n",
       "    <tr>\n",
       "      <th>Pit Bull</th>\n",
       "      <td>8496</td>\n",
       "      <td>4519</td>\n",
       "      <td>13015</td>\n",
       "    </tr>\n",
       "  </tbody>\n",
       "</table>\n",
       "</div>"
      ],
      "text/plain": [
       "Intake Type   Stray  Non-Stray   total\n",
       "pitbull_flag                          \n",
       "Other Breeds  86598      38658  125256\n",
       "Pit Bull       8496       4519   13015"
      ]
     },
     "execution_count": 717,
     "metadata": {},
     "output_type": "execute_result"
    }
   ],
   "source": [
    "stray = percentage_stray(df_breedflag)\n",
    "stray"
   ]
  },
  {
   "cell_type": "code",
   "execution_count": 718,
   "metadata": {},
   "outputs": [
    {
     "data": {
      "text/plain": [
       "([54.85841999635103,\n",
       "  42.11294660007683,\n",
       "  31.625048021513635,\n",
       "  65.27852477910103,\n",
       "  None,\n",
       "  None],\n",
       " [29.75614736217518,\n",
       "  46.09153796653796,\n",
       "  15.127091377091379,\n",
       "  69.13680781758957,\n",
       "  None,\n",
       "  None])"
      ]
     },
     "execution_count": 718,
     "metadata": {},
     "output_type": "execute_result"
    }
   ],
   "source": [
    "other_values_list[3] = stray.loc['Other Breeds'][0]/stray.loc['Other Breeds'][2]*100\n",
    "pit_values_list[3] = stray.loc['Pit Bull'][0]/stray.loc['Pit Bull'][2]*100\n",
    "pit_values_list, other_values_list"
   ]
  },
  {
   "cell_type": "markdown",
   "metadata": {},
   "source": [
    "#### 5. Percentage of Owner Surrenders"
   ]
  },
  {
   "cell_type": "code",
   "execution_count": 719,
   "metadata": {},
   "outputs": [
    {
     "data": {
      "text/html": [
       "<div>\n",
       "<style scoped>\n",
       "    .dataframe tbody tr th:only-of-type {\n",
       "        vertical-align: middle;\n",
       "    }\n",
       "\n",
       "    .dataframe tbody tr th {\n",
       "        vertical-align: top;\n",
       "    }\n",
       "\n",
       "    .dataframe thead th {\n",
       "        text-align: right;\n",
       "    }\n",
       "</style>\n",
       "<table border=\"1\" class=\"dataframe\">\n",
       "  <thead>\n",
       "    <tr style=\"text-align: right;\">\n",
       "      <th>Intake Type</th>\n",
       "      <th>Abandoned</th>\n",
       "      <th>Euthanasia Request</th>\n",
       "      <th>Owner Surrender</th>\n",
       "      <th>Public Assist</th>\n",
       "      <th>Stray</th>\n",
       "      <th>Wildlife</th>\n",
       "    </tr>\n",
       "    <tr>\n",
       "      <th>pitbull_flag</th>\n",
       "      <th></th>\n",
       "      <th></th>\n",
       "      <th></th>\n",
       "      <th></th>\n",
       "      <th></th>\n",
       "      <th></th>\n",
       "    </tr>\n",
       "  </thead>\n",
       "  <tbody>\n",
       "    <tr>\n",
       "      <th>Other Breeds</th>\n",
       "      <td>648</td>\n",
       "      <td>216</td>\n",
       "      <td>25779</td>\n",
       "      <td>6649</td>\n",
       "      <td>86598</td>\n",
       "      <td>5366</td>\n",
       "    </tr>\n",
       "    <tr>\n",
       "      <th>Pit Bull</th>\n",
       "      <td>76</td>\n",
       "      <td>43</td>\n",
       "      <td>2721</td>\n",
       "      <td>1679</td>\n",
       "      <td>8496</td>\n",
       "      <td>0</td>\n",
       "    </tr>\n",
       "  </tbody>\n",
       "</table>\n",
       "</div>"
      ],
      "text/plain": [
       "Intake Type   Abandoned  Euthanasia Request  Owner Surrender  Public Assist  \\\n",
       "pitbull_flag                                                                  \n",
       "Other Breeds        648                 216            25779           6649   \n",
       "Pit Bull             76                  43             2721           1679   \n",
       "\n",
       "Intake Type   Stray  Wildlife  \n",
       "pitbull_flag                   \n",
       "Other Breeds  86598      5366  \n",
       "Pit Bull       8496         0  "
      ]
     },
     "execution_count": 719,
     "metadata": {},
     "output_type": "execute_result"
    }
   ],
   "source": [
    "adoption = pd.crosstab(df['pitbull_flag'],df['Intake Type'])\n",
    "adoption"
   ]
  },
  {
   "cell_type": "code",
   "execution_count": 720,
   "metadata": {},
   "outputs": [],
   "source": [
    "def percentage_owner_surrender(df):\n",
    "    owner_surrender = pd.crosstab(df['pitbull_flag'],df['Intake Type'])\n",
    "    non_owner_surrender_cols = [col for col in owner_surrender.columns if col!='Owner Surrender']\n",
    "    owner_surrender['Non-Surrender'] = owner_surrender[non_owner_surrender_cols].sum(axis=1)\n",
    "    owner_surrender = owner_surrender.iloc[:,[2,-1]]\n",
    "    owner_surrender['total'] = owner_surrender.T.sum()\n",
    "    return owner_surrender"
   ]
  },
  {
   "cell_type": "code",
   "execution_count": 721,
   "metadata": {},
   "outputs": [
    {
     "data": {
      "text/html": [
       "<div>\n",
       "<style scoped>\n",
       "    .dataframe tbody tr th:only-of-type {\n",
       "        vertical-align: middle;\n",
       "    }\n",
       "\n",
       "    .dataframe tbody tr th {\n",
       "        vertical-align: top;\n",
       "    }\n",
       "\n",
       "    .dataframe thead th {\n",
       "        text-align: right;\n",
       "    }\n",
       "</style>\n",
       "<table border=\"1\" class=\"dataframe\">\n",
       "  <thead>\n",
       "    <tr style=\"text-align: right;\">\n",
       "      <th>Intake Type</th>\n",
       "      <th>Owner Surrender</th>\n",
       "      <th>Non-Surrender</th>\n",
       "      <th>total</th>\n",
       "    </tr>\n",
       "    <tr>\n",
       "      <th>pitbull_flag</th>\n",
       "      <th></th>\n",
       "      <th></th>\n",
       "      <th></th>\n",
       "    </tr>\n",
       "  </thead>\n",
       "  <tbody>\n",
       "    <tr>\n",
       "      <th>Other Breeds</th>\n",
       "      <td>25779</td>\n",
       "      <td>99477</td>\n",
       "      <td>125256</td>\n",
       "    </tr>\n",
       "    <tr>\n",
       "      <th>Pit Bull</th>\n",
       "      <td>2721</td>\n",
       "      <td>10294</td>\n",
       "      <td>13015</td>\n",
       "    </tr>\n",
       "  </tbody>\n",
       "</table>\n",
       "</div>"
      ],
      "text/plain": [
       "Intake Type   Owner Surrender  Non-Surrender   total\n",
       "pitbull_flag                                        \n",
       "Other Breeds            25779          99477  125256\n",
       "Pit Bull                 2721          10294   13015"
      ]
     },
     "execution_count": 721,
     "metadata": {},
     "output_type": "execute_result"
    }
   ],
   "source": [
    "owner_surrender = percentage_owner_surrender(df_breedflag)\n",
    "owner_surrender"
   ]
  },
  {
   "cell_type": "code",
   "execution_count": 722,
   "metadata": {},
   "outputs": [
    {
     "data": {
      "text/plain": [
       "([54.85841999635103,\n",
       "  42.11294660007683,\n",
       "  31.625048021513635,\n",
       "  65.27852477910103,\n",
       "  65.27852477910103,\n",
       "  None],\n",
       " [29.75614736217518,\n",
       "  46.09153796653796,\n",
       "  15.127091377091379,\n",
       "  69.13680781758957,\n",
       "  69.13680781758957,\n",
       "  None])"
      ]
     },
     "execution_count": 722,
     "metadata": {},
     "output_type": "execute_result"
    }
   ],
   "source": [
    "other_values_list[4] = stray.loc['Other Breeds'][0]/stray.loc['Other Breeds'][2]*100\n",
    "pit_values_list[4] = stray.loc['Pit Bull'][0]/stray.loc['Pit Bull'][2]*100\n",
    "pit_values_list, other_values_list"
   ]
  },
  {
   "cell_type": "markdown",
   "metadata": {},
   "source": [
    "#### 6. Average number of days until return to owner"
   ]
  },
  {
   "cell_type": "code",
   "execution_count": 723,
   "metadata": {},
   "outputs": [],
   "source": [
    "def avg_time_to_rto(df):\n",
    "    time_rto = df[df['Outcome Type']=='Return to Owner']\n",
    "    time_rto = time_rto.groupby(['pitbull_flag']).agg({'time_to_outcome_days':'mean'})\n",
    "    return time_rto"
   ]
  },
  {
   "cell_type": "code",
   "execution_count": 724,
   "metadata": {},
   "outputs": [
    {
     "data": {
      "text/html": [
       "<div>\n",
       "<style scoped>\n",
       "    .dataframe tbody tr th:only-of-type {\n",
       "        vertical-align: middle;\n",
       "    }\n",
       "\n",
       "    .dataframe tbody tr th {\n",
       "        vertical-align: top;\n",
       "    }\n",
       "\n",
       "    .dataframe thead th {\n",
       "        text-align: right;\n",
       "    }\n",
       "</style>\n",
       "<table border=\"1\" class=\"dataframe\">\n",
       "  <thead>\n",
       "    <tr style=\"text-align: right;\">\n",
       "      <th></th>\n",
       "      <th>time_to_outcome_days</th>\n",
       "    </tr>\n",
       "    <tr>\n",
       "      <th>pitbull_flag</th>\n",
       "      <th></th>\n",
       "    </tr>\n",
       "  </thead>\n",
       "  <tbody>\n",
       "    <tr>\n",
       "      <th>Other Breeds</th>\n",
       "      <td>29.756147</td>\n",
       "    </tr>\n",
       "    <tr>\n",
       "      <th>Pit Bull</th>\n",
       "      <td>54.858420</td>\n",
       "    </tr>\n",
       "  </tbody>\n",
       "</table>\n",
       "</div>"
      ],
      "text/plain": [
       "              time_to_outcome_days\n",
       "pitbull_flag                      \n",
       "Other Breeds             29.756147\n",
       "Pit Bull                 54.858420"
      ]
     },
     "execution_count": 724,
     "metadata": {},
     "output_type": "execute_result"
    }
   ],
   "source": [
    "time_rto = avg_time_to_adopt(df_breedflag)\n",
    "time_rto"
   ]
  },
  {
   "cell_type": "code",
   "execution_count": 725,
   "metadata": {},
   "outputs": [
    {
     "data": {
      "text/plain": [
       "([54.85841999635103,\n",
       "  42.11294660007683,\n",
       "  31.625048021513635,\n",
       "  65.27852477910103,\n",
       "  65.27852477910103,\n",
       "  54.85841999635103],\n",
       " [29.75614736217518,\n",
       "  46.09153796653796,\n",
       "  15.127091377091379,\n",
       "  69.13680781758957,\n",
       "  69.13680781758957,\n",
       "  29.75614736217518])"
      ]
     },
     "execution_count": 725,
     "metadata": {},
     "output_type": "execute_result"
    }
   ],
   "source": [
    "other_values_list[5] = time_adoption.loc['Other Breeds'][0]\n",
    "pit_values_list[5] = time_adoption.loc['Pit Bull'][0]\n",
    "pit_values_list, other_values_list"
   ]
  },
  {
   "cell_type": "markdown",
   "metadata": {},
   "source": [
    "### Summary Statistics"
   ]
  },
  {
   "cell_type": "code",
   "execution_count": 728,
   "metadata": {},
   "outputs": [],
   "source": [
    "# pit_values = pd.DataFrame({'criteria':criteria_list,'value':pit_values_list})\n",
    "criteria_list = ['Avg # Days to Adoption','% Adoption','% Return to Owner', '% Stray', '% Owner Surrender', 'Avg # Days to Return to Owner']\n",
    "pit_values = pd.DataFrame(list(zip(criteria_list,pit_values_list)), columns=col_names)\n",
    "other_values = pd.DataFrame(list(zip(criteria_list,other_values_list)), columns=col_names)"
   ]
  },
  {
   "cell_type": "markdown",
   "metadata": {},
   "source": [
    "#### Breed = Pitbull"
   ]
  },
  {
   "cell_type": "code",
   "execution_count": 729,
   "metadata": {},
   "outputs": [
    {
     "data": {
      "text/html": [
       "<div>\n",
       "<style scoped>\n",
       "    .dataframe tbody tr th:only-of-type {\n",
       "        vertical-align: middle;\n",
       "    }\n",
       "\n",
       "    .dataframe tbody tr th {\n",
       "        vertical-align: top;\n",
       "    }\n",
       "\n",
       "    .dataframe thead th {\n",
       "        text-align: right;\n",
       "    }\n",
       "</style>\n",
       "<table border=\"1\" class=\"dataframe\">\n",
       "  <thead>\n",
       "    <tr style=\"text-align: right;\">\n",
       "      <th></th>\n",
       "      <th>metric</th>\n",
       "      <th>value</th>\n",
       "    </tr>\n",
       "  </thead>\n",
       "  <tbody>\n",
       "    <tr>\n",
       "      <th>0</th>\n",
       "      <td>Avg # Days to Adoption</td>\n",
       "      <td>54.858420</td>\n",
       "    </tr>\n",
       "    <tr>\n",
       "      <th>1</th>\n",
       "      <td>% Adoption</td>\n",
       "      <td>42.112947</td>\n",
       "    </tr>\n",
       "    <tr>\n",
       "      <th>2</th>\n",
       "      <td>% Return to Owner</td>\n",
       "      <td>31.625048</td>\n",
       "    </tr>\n",
       "    <tr>\n",
       "      <th>3</th>\n",
       "      <td>% Stray</td>\n",
       "      <td>65.278525</td>\n",
       "    </tr>\n",
       "    <tr>\n",
       "      <th>4</th>\n",
       "      <td>% Owner Surrender</td>\n",
       "      <td>65.278525</td>\n",
       "    </tr>\n",
       "    <tr>\n",
       "      <th>5</th>\n",
       "      <td>Avg # Days to Return to Owner</td>\n",
       "      <td>54.858420</td>\n",
       "    </tr>\n",
       "  </tbody>\n",
       "</table>\n",
       "</div>"
      ],
      "text/plain": [
       "                          metric      value\n",
       "0         Avg # Days to Adoption  54.858420\n",
       "1                     % Adoption  42.112947\n",
       "2              % Return to Owner  31.625048\n",
       "3                        % Stray  65.278525\n",
       "4              % Owner Surrender  65.278525\n",
       "5  Avg # Days to Return to Owner  54.858420"
      ]
     },
     "execution_count": 729,
     "metadata": {},
     "output_type": "execute_result"
    }
   ],
   "source": [
    "pit_values"
   ]
  },
  {
   "cell_type": "markdown",
   "metadata": {},
   "source": [
    "#### Breed  = Others"
   ]
  },
  {
   "cell_type": "code",
   "execution_count": 730,
   "metadata": {},
   "outputs": [
    {
     "data": {
      "text/html": [
       "<div>\n",
       "<style scoped>\n",
       "    .dataframe tbody tr th:only-of-type {\n",
       "        vertical-align: middle;\n",
       "    }\n",
       "\n",
       "    .dataframe tbody tr th {\n",
       "        vertical-align: top;\n",
       "    }\n",
       "\n",
       "    .dataframe thead th {\n",
       "        text-align: right;\n",
       "    }\n",
       "</style>\n",
       "<table border=\"1\" class=\"dataframe\">\n",
       "  <thead>\n",
       "    <tr style=\"text-align: right;\">\n",
       "      <th></th>\n",
       "      <th>metric</th>\n",
       "      <th>value</th>\n",
       "    </tr>\n",
       "  </thead>\n",
       "  <tbody>\n",
       "    <tr>\n",
       "      <th>0</th>\n",
       "      <td>Avg # Days to Adoption</td>\n",
       "      <td>29.756147</td>\n",
       "    </tr>\n",
       "    <tr>\n",
       "      <th>1</th>\n",
       "      <td>% Adoption</td>\n",
       "      <td>46.091538</td>\n",
       "    </tr>\n",
       "    <tr>\n",
       "      <th>2</th>\n",
       "      <td>% Return to Owner</td>\n",
       "      <td>15.127091</td>\n",
       "    </tr>\n",
       "    <tr>\n",
       "      <th>3</th>\n",
       "      <td>% Stray</td>\n",
       "      <td>69.136808</td>\n",
       "    </tr>\n",
       "    <tr>\n",
       "      <th>4</th>\n",
       "      <td>% Owner Surrender</td>\n",
       "      <td>69.136808</td>\n",
       "    </tr>\n",
       "    <tr>\n",
       "      <th>5</th>\n",
       "      <td>Avg # Days to Return to Owner</td>\n",
       "      <td>29.756147</td>\n",
       "    </tr>\n",
       "  </tbody>\n",
       "</table>\n",
       "</div>"
      ],
      "text/plain": [
       "                          metric      value\n",
       "0         Avg # Days to Adoption  29.756147\n",
       "1                     % Adoption  46.091538\n",
       "2              % Return to Owner  15.127091\n",
       "3                        % Stray  69.136808\n",
       "4              % Owner Surrender  69.136808\n",
       "5  Avg # Days to Return to Owner  29.756147"
      ]
     },
     "execution_count": 730,
     "metadata": {},
     "output_type": "execute_result"
    }
   ],
   "source": [
    "other_values"
   ]
  },
  {
   "cell_type": "code",
   "execution_count": 702,
   "metadata": {},
   "outputs": [
    {
     "data": {
      "image/png": "[encoded data removed]",
      "text/plain": [
       "<Figure size 576x576 with 1 Axes>"
      ]
     },
     "metadata": {},
     "output_type": "display_data"
    }
   ],
   "source": [
    "pi = math.pi\n",
    "categories = criteria_list\n",
    "N = len(categories)\n",
    "\n",
    "pit_values = pit_values_list\n",
    "pit_values += pit_values[:1]\n",
    "other_values = other_values_list\n",
    "other_values += other_values[:1]\n",
    "\n",
    "angles = [n / float(N) * 2 * pi for n in range(N)]\n",
    "angles += angles[:1]\n",
    "\n",
    "plt.figure(figsize=(8,8))\n",
    "\n",
    "ax = plt.subplot(111, polar=True)\n",
    "plt.title('Pit Bull vs. Other Breeds', fontsize=18)\n",
    "\n",
    "# xaxis\n",
    "plt.xticks(angles[:-1], categories, color='blue', size=10)\n",
    "\n",
    "# yxis\n",
    "ax.set_rlabel_position(1.5)\n",
    "plt.yticks([10,20,30,40,50,60,70], ['10','20','30','40','50','60','70'], color='grey', size=8)\n",
    "plt.ylim(0,80)\n",
    "\n",
    "# data plotting\n",
    "ax.plot(angles, pit_values, color='green', linewidth=1, linestyle='solid', label='Pit Bull or Pit Bull Mix')\n",
    "ax.fill(angles, pit_values, color='green', alpha=0.1)\n",
    "ax.plot(angles, other_values, color='red', linewidth=1, linestyle='solid', label='Other Breed')\n",
    "ax.fill(angles, other_values, color='red', alpha=0.1)\n",
    "plt.legend(loc='upper right', bbox_to_anchor=(1.1, .4), fontsize=12);"
   ]
  },
  {
   "cell_type": "markdown",
   "metadata": {},
   "source": [
    "### Interpretation of Results"
   ]
  },
  {
   "cell_type": "markdown",
   "metadata": {},
   "source": [
    "We can see a few interesting insights from the above chart -\n",
    "1. __% Owner Surrender__ is __Low__ as compared to other breeds - This implies that Pitbull's are less likely to be surrendered by their owner, indicating to their desirability\n",
    "2. __% Return to Owner__ is __Very High__ as compared to other breeds - This could be because Pitbull's are loved by their owners and develop a sense of attachment that makes about 31% of the Pitbull's return to their owners (though, the owners take time to realize that they are missing their dog (high avg. number of days to return). Yet another indication for desirability.\n",
    "3. __% Stray__ is __Low__ as compared to other breeds - Since Pitbulls are predominantly domestic breeds, pitbulls are lesser often stray than other breeds.\n",
    "\n",
    "Across other metrics, we can observe that Pitbulls have a slightly lower percentage of adoption and once in the shelter, it takes about 54 days for a pitbull to find a home. This could be because of the belligerent image of pitbulls."
   ]
  },
  {
   "cell_type": "markdown",
   "metadata": {},
   "source": [
    "### Conclusion"
   ]
  },
  {
   "cell_type": "markdown",
   "metadata": {},
   "source": [
    "Dog breeds certainly have an impact on their desirability to find a home. Animal Shelter can give home to more Pitbulls if they can raise awareness about how attached the owners feel with this breed, because clearly the data says that once you own a Pitbull it is more likely that one would want to keep the breed."
   ]
  },
  {
   "cell_type": "code",
   "execution_count": null,
   "metadata": {},
   "outputs": [],
   "source": []
  }
 ],
 "metadata": {
  "kernelspec": {
   "display_name": "Python 3",
   "language": "python",
   "name": "python3"
  },
  "language_info": {
   "codemirror_mode": {
    "name": "ipython",
    "version": 3
   },
   "file_extension": ".py",
   "mimetype": "text/x-python",
   "name": "python",
   "nbconvert_exporter": "python",
   "pygments_lexer": "ipython3",
   "version": "3.8.5"
  }
 },
 "nbformat": 4,
 "nbformat_minor": 4
}
