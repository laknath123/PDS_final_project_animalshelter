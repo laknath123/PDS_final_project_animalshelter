{
 "cells": [
  {
   "cell_type": "code",
   "execution_count": 1,
   "id": "82cc9ab9",
   "metadata": {},
   "outputs": [],
   "source": [
    "import numpy as np\n",
    "import pandas as pd\n",
    "import matplotlib.pyplot as plt"
   ]
  },
  {
   "cell_type": "code",
   "execution_count": 2,
   "id": "af4959b0",
   "metadata": {},
   "outputs": [],
   "source": [
    "df=pd.read_csv(\"https://raw.githubusercontent.com/laknath123/PDS_final_project_animalshelter/main/data/merged_df.csv\")"
   ]
  },
  {
   "cell_type": "code",
   "execution_count": 3,
   "id": "4f4e1ea5",
   "metadata": {},
   "outputs": [
    {
     "name": "stdout",
     "output_type": "stream",
     "text": [
      "138271\n",
      "138271\n"
     ]
    }
   ],
   "source": [
    "#df=df[~df['Animal ID'].duplicated()]\n",
    "print(len(df))\n",
    "print(len(df['Animal ID'].unique()))"
   ]
  },
  {
   "cell_type": "code",
   "execution_count": 4,
   "id": "21f7f360",
   "metadata": {},
   "outputs": [
    {
     "data": {
      "text/plain": [
       "array(['Return to Owner', 'Transfer', 'Relocate', 'Adoption',\n",
       "       'Euthanasia', 'Died', 'Rto-Adopt', 'Missing', 'NA', 'Disposal'],\n",
       "      dtype=object)"
      ]
     },
     "execution_count": 4,
     "metadata": {},
     "output_type": "execute_result"
    }
   ],
   "source": [
    "df['Outcome Type']=df['Outcome Type'].fillna(\"NA\")\n",
    "df['Outcome Type'].unique()"
   ]
  },
  {
   "cell_type": "code",
   "execution_count": 5,
   "id": "5e5a59f4",
   "metadata": {},
   "outputs": [
    {
     "data": {
      "text/html": [
       "<div>\n",
       "<style scoped>\n",
       "    .dataframe tbody tr th:only-of-type {\n",
       "        vertical-align: middle;\n",
       "    }\n",
       "\n",
       "    .dataframe tbody tr th {\n",
       "        vertical-align: top;\n",
       "    }\n",
       "\n",
       "    .dataframe thead th {\n",
       "        text-align: right;\n",
       "    }\n",
       "</style>\n",
       "<table border=\"1\" class=\"dataframe\">\n",
       "  <thead>\n",
       "    <tr style=\"text-align: right;\">\n",
       "      <th></th>\n",
       "      <th>Unnamed: 0</th>\n",
       "      <th>Animal ID</th>\n",
       "      <th>Name_intakes</th>\n",
       "      <th>DateTime_intake</th>\n",
       "      <th>MonthYear_intake</th>\n",
       "      <th>Found Location</th>\n",
       "      <th>Intake Type</th>\n",
       "      <th>Intake Condition</th>\n",
       "      <th>Animal Type_intake</th>\n",
       "      <th>Sex upon Intake</th>\n",
       "      <th>...</th>\n",
       "      <th>Outcome Type</th>\n",
       "      <th>Outcome Subtype</th>\n",
       "      <th>Animal Type_outcomes</th>\n",
       "      <th>Sex upon Outcome</th>\n",
       "      <th>Age upon Outcome</th>\n",
       "      <th>Breed_outcomes</th>\n",
       "      <th>Color_outcomes</th>\n",
       "      <th>age</th>\n",
       "      <th>seq</th>\n",
       "      <th>indicator_col</th>\n",
       "    </tr>\n",
       "  </thead>\n",
       "  <tbody>\n",
       "    <tr>\n",
       "      <th>0</th>\n",
       "      <td>0</td>\n",
       "      <td>A0061001</td>\n",
       "      <td>A006100</td>\n",
       "      <td>2014-03-07 14:26:00</td>\n",
       "      <td>March 2014</td>\n",
       "      <td>8700 Research in Austin (TX)</td>\n",
       "      <td>Public Assist</td>\n",
       "      <td>Normal</td>\n",
       "      <td>Dog</td>\n",
       "      <td>Neutered Male</td>\n",
       "      <td>...</td>\n",
       "      <td>Return to Owner</td>\n",
       "      <td>Unknown</td>\n",
       "      <td>Dog</td>\n",
       "      <td>Neutered Male</td>\n",
       "      <td>6 years</td>\n",
       "      <td>Spinone Italiano Mix</td>\n",
       "      <td>Yellow/White</td>\n",
       "      <td>2434.0</td>\n",
       "      <td>1.0</td>\n",
       "      <td>both</td>\n",
       "    </tr>\n",
       "    <tr>\n",
       "      <th>1</th>\n",
       "      <td>1</td>\n",
       "      <td>A0061002</td>\n",
       "      <td>A006100</td>\n",
       "      <td>2014-12-19 10:21:00</td>\n",
       "      <td>December 2014</td>\n",
       "      <td>8700 Research Blvd in Austin (TX)</td>\n",
       "      <td>Public Assist</td>\n",
       "      <td>Normal</td>\n",
       "      <td>Dog</td>\n",
       "      <td>Neutered Male</td>\n",
       "      <td>...</td>\n",
       "      <td>Return to Owner</td>\n",
       "      <td>Unknown</td>\n",
       "      <td>Dog</td>\n",
       "      <td>Neutered Male</td>\n",
       "      <td>7 years</td>\n",
       "      <td>Spinone Italiano Mix</td>\n",
       "      <td>Yellow/White</td>\n",
       "      <td>2721.0</td>\n",
       "      <td>2.0</td>\n",
       "      <td>both</td>\n",
       "    </tr>\n",
       "    <tr>\n",
       "      <th>2</th>\n",
       "      <td>2</td>\n",
       "      <td>A0061003</td>\n",
       "      <td>A006100</td>\n",
       "      <td>2017-12-07 14:07:00</td>\n",
       "      <td>December 2017</td>\n",
       "      <td>Colony Creek And Hunters Trace in Austin (TX)</td>\n",
       "      <td>Stray</td>\n",
       "      <td>Normal</td>\n",
       "      <td>Dog</td>\n",
       "      <td>Neutered Male</td>\n",
       "      <td>...</td>\n",
       "      <td>Return to Owner</td>\n",
       "      <td>Unknown</td>\n",
       "      <td>Dog</td>\n",
       "      <td>Neutered Male</td>\n",
       "      <td>10 years</td>\n",
       "      <td>Spinone Italiano Mix</td>\n",
       "      <td>Yellow/White</td>\n",
       "      <td>3804.0</td>\n",
       "      <td>3.0</td>\n",
       "      <td>both</td>\n",
       "    </tr>\n",
       "    <tr>\n",
       "      <th>3</th>\n",
       "      <td>3</td>\n",
       "      <td>A0477591</td>\n",
       "      <td>A047759</td>\n",
       "      <td>2014-04-02 15:55:00</td>\n",
       "      <td>April 2014</td>\n",
       "      <td>Austin (TX)</td>\n",
       "      <td>Owner Surrender</td>\n",
       "      <td>Normal</td>\n",
       "      <td>Dog</td>\n",
       "      <td>Neutered Male</td>\n",
       "      <td>...</td>\n",
       "      <td>Transfer</td>\n",
       "      <td>Partner</td>\n",
       "      <td>Dog</td>\n",
       "      <td>Neutered Male</td>\n",
       "      <td>10 years</td>\n",
       "      <td>Dachshund</td>\n",
       "      <td>Tricolor</td>\n",
       "      <td>3657.0</td>\n",
       "      <td>1.0</td>\n",
       "      <td>both</td>\n",
       "    </tr>\n",
       "    <tr>\n",
       "      <th>4</th>\n",
       "      <td>4</td>\n",
       "      <td>A1340671</td>\n",
       "      <td>A134067</td>\n",
       "      <td>2013-11-16 09:02:00</td>\n",
       "      <td>November 2013</td>\n",
       "      <td>12034 Research Blvd in Austin (TX)</td>\n",
       "      <td>Public Assist</td>\n",
       "      <td>Injured</td>\n",
       "      <td>Dog</td>\n",
       "      <td>Neutered Male</td>\n",
       "      <td>...</td>\n",
       "      <td>Return to Owner</td>\n",
       "      <td>Unknown</td>\n",
       "      <td>Dog</td>\n",
       "      <td>Neutered Male</td>\n",
       "      <td>16 years</td>\n",
       "      <td>Shetland Sheepdog</td>\n",
       "      <td>Brown/White</td>\n",
       "      <td>5875.0</td>\n",
       "      <td>1.0</td>\n",
       "      <td>both</td>\n",
       "    </tr>\n",
       "    <tr>\n",
       "      <th>...</th>\n",
       "      <td>...</td>\n",
       "      <td>...</td>\n",
       "      <td>...</td>\n",
       "      <td>...</td>\n",
       "      <td>...</td>\n",
       "      <td>...</td>\n",
       "      <td>...</td>\n",
       "      <td>...</td>\n",
       "      <td>...</td>\n",
       "      <td>...</td>\n",
       "      <td>...</td>\n",
       "      <td>...</td>\n",
       "      <td>...</td>\n",
       "      <td>...</td>\n",
       "      <td>...</td>\n",
       "      <td>...</td>\n",
       "      <td>...</td>\n",
       "      <td>...</td>\n",
       "      <td>...</td>\n",
       "      <td>...</td>\n",
       "      <td>...</td>\n",
       "    </tr>\n",
       "    <tr>\n",
       "      <th>138266</th>\n",
       "      <td>138266</td>\n",
       "      <td>A8554661</td>\n",
       "      <td>A855466</td>\n",
       "      <td>2022-04-18 15:15:00</td>\n",
       "      <td>April 2022</td>\n",
       "      <td>12102 Cottage Promenade Court in Austin (TX)</td>\n",
       "      <td>Stray</td>\n",
       "      <td>Normal</td>\n",
       "      <td>Cat</td>\n",
       "      <td>Neutered Male</td>\n",
       "      <td>...</td>\n",
       "      <td>NA</td>\n",
       "      <td>NaN</td>\n",
       "      <td>NaN</td>\n",
       "      <td>NaN</td>\n",
       "      <td>NaN</td>\n",
       "      <td>NaN</td>\n",
       "      <td>NaN</td>\n",
       "      <td>NaN</td>\n",
       "      <td>NaN</td>\n",
       "      <td>left_only</td>\n",
       "    </tr>\n",
       "    <tr>\n",
       "      <th>138267</th>\n",
       "      <td>138267</td>\n",
       "      <td>A8554691</td>\n",
       "      <td>A855469</td>\n",
       "      <td>2022-04-18 15:47:00</td>\n",
       "      <td>April 2022</td>\n",
       "      <td>Austin (TX)</td>\n",
       "      <td>Stray</td>\n",
       "      <td>Medical</td>\n",
       "      <td>Cat</td>\n",
       "      <td>Spayed Female</td>\n",
       "      <td>...</td>\n",
       "      <td>NA</td>\n",
       "      <td>NaN</td>\n",
       "      <td>NaN</td>\n",
       "      <td>NaN</td>\n",
       "      <td>NaN</td>\n",
       "      <td>NaN</td>\n",
       "      <td>NaN</td>\n",
       "      <td>NaN</td>\n",
       "      <td>NaN</td>\n",
       "      <td>left_only</td>\n",
       "    </tr>\n",
       "    <tr>\n",
       "      <th>138268</th>\n",
       "      <td>138268</td>\n",
       "      <td>A8554701</td>\n",
       "      <td>A855470</td>\n",
       "      <td>2022-04-18 15:46:00</td>\n",
       "      <td>April 2022</td>\n",
       "      <td>207 Franklin Boulevard in Austin (TX)</td>\n",
       "      <td>Stray</td>\n",
       "      <td>Normal</td>\n",
       "      <td>Dog</td>\n",
       "      <td>Intact Male</td>\n",
       "      <td>...</td>\n",
       "      <td>NA</td>\n",
       "      <td>NaN</td>\n",
       "      <td>NaN</td>\n",
       "      <td>NaN</td>\n",
       "      <td>NaN</td>\n",
       "      <td>NaN</td>\n",
       "      <td>NaN</td>\n",
       "      <td>NaN</td>\n",
       "      <td>NaN</td>\n",
       "      <td>left_only</td>\n",
       "    </tr>\n",
       "    <tr>\n",
       "      <th>138269</th>\n",
       "      <td>138269</td>\n",
       "      <td>A8554711</td>\n",
       "      <td>A855471</td>\n",
       "      <td>2022-04-18 15:46:00</td>\n",
       "      <td>April 2022</td>\n",
       "      <td>207 Franklin Boulevard in Austin (TX)</td>\n",
       "      <td>Stray</td>\n",
       "      <td>Normal</td>\n",
       "      <td>Dog</td>\n",
       "      <td>Intact Male</td>\n",
       "      <td>...</td>\n",
       "      <td>NA</td>\n",
       "      <td>NaN</td>\n",
       "      <td>NaN</td>\n",
       "      <td>NaN</td>\n",
       "      <td>NaN</td>\n",
       "      <td>NaN</td>\n",
       "      <td>NaN</td>\n",
       "      <td>NaN</td>\n",
       "      <td>NaN</td>\n",
       "      <td>left_only</td>\n",
       "    </tr>\n",
       "    <tr>\n",
       "      <th>138270</th>\n",
       "      <td>138270</td>\n",
       "      <td>A8554761</td>\n",
       "      <td>A855476</td>\n",
       "      <td>2022-04-18 16:43:00</td>\n",
       "      <td>April 2022</td>\n",
       "      <td>2207 Lou Neff Road in Austin (TX)</td>\n",
       "      <td>Stray</td>\n",
       "      <td>Normal</td>\n",
       "      <td>Dog</td>\n",
       "      <td>Unknown</td>\n",
       "      <td>...</td>\n",
       "      <td>NA</td>\n",
       "      <td>NaN</td>\n",
       "      <td>NaN</td>\n",
       "      <td>NaN</td>\n",
       "      <td>NaN</td>\n",
       "      <td>NaN</td>\n",
       "      <td>NaN</td>\n",
       "      <td>NaN</td>\n",
       "      <td>NaN</td>\n",
       "      <td>left_only</td>\n",
       "    </tr>\n",
       "  </tbody>\n",
       "</table>\n",
       "<p>138271 rows × 27 columns</p>\n",
       "</div>"
      ],
      "text/plain": [
       "        Unnamed: 0 Animal ID Name_intakes      DateTime_intake  \\\n",
       "0                0  A0061001      A006100  2014-03-07 14:26:00   \n",
       "1                1  A0061002      A006100  2014-12-19 10:21:00   \n",
       "2                2  A0061003      A006100  2017-12-07 14:07:00   \n",
       "3                3  A0477591      A047759  2014-04-02 15:55:00   \n",
       "4                4  A1340671      A134067  2013-11-16 09:02:00   \n",
       "...            ...       ...          ...                  ...   \n",
       "138266      138266  A8554661      A855466  2022-04-18 15:15:00   \n",
       "138267      138267  A8554691      A855469  2022-04-18 15:47:00   \n",
       "138268      138268  A8554701      A855470  2022-04-18 15:46:00   \n",
       "138269      138269  A8554711      A855471  2022-04-18 15:46:00   \n",
       "138270      138270  A8554761      A855476  2022-04-18 16:43:00   \n",
       "\n",
       "       MonthYear_intake                                 Found Location  \\\n",
       "0            March 2014                   8700 Research in Austin (TX)   \n",
       "1         December 2014              8700 Research Blvd in Austin (TX)   \n",
       "2         December 2017  Colony Creek And Hunters Trace in Austin (TX)   \n",
       "3            April 2014                                    Austin (TX)   \n",
       "4         November 2013             12034 Research Blvd in Austin (TX)   \n",
       "...                 ...                                            ...   \n",
       "138266       April 2022   12102 Cottage Promenade Court in Austin (TX)   \n",
       "138267       April 2022                                    Austin (TX)   \n",
       "138268       April 2022          207 Franklin Boulevard in Austin (TX)   \n",
       "138269       April 2022          207 Franklin Boulevard in Austin (TX)   \n",
       "138270       April 2022              2207 Lou Neff Road in Austin (TX)   \n",
       "\n",
       "            Intake Type Intake Condition Animal Type_intake Sex upon Intake  \\\n",
       "0         Public Assist           Normal                Dog   Neutered Male   \n",
       "1         Public Assist           Normal                Dog   Neutered Male   \n",
       "2                 Stray           Normal                Dog   Neutered Male   \n",
       "3       Owner Surrender           Normal                Dog   Neutered Male   \n",
       "4         Public Assist          Injured                Dog   Neutered Male   \n",
       "...                 ...              ...                ...             ...   \n",
       "138266            Stray           Normal                Cat   Neutered Male   \n",
       "138267            Stray          Medical                Cat   Spayed Female   \n",
       "138268            Stray           Normal                Dog     Intact Male   \n",
       "138269            Stray           Normal                Dog     Intact Male   \n",
       "138270            Stray           Normal                Dog         Unknown   \n",
       "\n",
       "        ...     Outcome Type Outcome Subtype Animal Type_outcomes  \\\n",
       "0       ...  Return to Owner         Unknown                  Dog   \n",
       "1       ...  Return to Owner         Unknown                  Dog   \n",
       "2       ...  Return to Owner         Unknown                  Dog   \n",
       "3       ...         Transfer         Partner                  Dog   \n",
       "4       ...  Return to Owner         Unknown                  Dog   \n",
       "...     ...              ...             ...                  ...   \n",
       "138266  ...               NA             NaN                  NaN   \n",
       "138267  ...               NA             NaN                  NaN   \n",
       "138268  ...               NA             NaN                  NaN   \n",
       "138269  ...               NA             NaN                  NaN   \n",
       "138270  ...               NA             NaN                  NaN   \n",
       "\n",
       "       Sex upon Outcome Age upon Outcome        Breed_outcomes Color_outcomes  \\\n",
       "0         Neutered Male          6 years  Spinone Italiano Mix   Yellow/White   \n",
       "1         Neutered Male          7 years  Spinone Italiano Mix   Yellow/White   \n",
       "2         Neutered Male         10 years  Spinone Italiano Mix   Yellow/White   \n",
       "3         Neutered Male         10 years             Dachshund       Tricolor   \n",
       "4         Neutered Male         16 years     Shetland Sheepdog    Brown/White   \n",
       "...                 ...              ...                   ...            ...   \n",
       "138266              NaN              NaN                   NaN            NaN   \n",
       "138267              NaN              NaN                   NaN            NaN   \n",
       "138268              NaN              NaN                   NaN            NaN   \n",
       "138269              NaN              NaN                   NaN            NaN   \n",
       "138270              NaN              NaN                   NaN            NaN   \n",
       "\n",
       "           age  seq indicator_col  \n",
       "0       2434.0  1.0          both  \n",
       "1       2721.0  2.0          both  \n",
       "2       3804.0  3.0          both  \n",
       "3       3657.0  1.0          both  \n",
       "4       5875.0  1.0          both  \n",
       "...        ...  ...           ...  \n",
       "138266     NaN  NaN     left_only  \n",
       "138267     NaN  NaN     left_only  \n",
       "138268     NaN  NaN     left_only  \n",
       "138269     NaN  NaN     left_only  \n",
       "138270     NaN  NaN     left_only  \n",
       "\n",
       "[138271 rows x 27 columns]"
      ]
     },
     "execution_count": 5,
     "metadata": {},
     "output_type": "execute_result"
    }
   ],
   "source": [
    "df"
   ]
  },
  {
   "cell_type": "code",
   "execution_count": 6,
   "id": "294aafed",
   "metadata": {},
   "outputs": [
    {
     "data": {
      "text/plain": [
       "Index(['Unnamed: 0', 'Animal ID', 'Name_intakes', 'DateTime_intake',\n",
       "       'MonthYear_intake', 'Found Location', 'Intake Type', 'Intake Condition',\n",
       "       'Animal Type_intake', 'Sex upon Intake', 'Age upon Intake',\n",
       "       'Breed_intake', 'Color_intake', 'Name_outcomes', 'DateTime_outcomes',\n",
       "       'MonthYear_outcomes', 'Date of Birth', 'Outcome Type',\n",
       "       'Outcome Subtype', 'Animal Type_outcomes', 'Sex upon Outcome',\n",
       "       'Age upon Outcome', 'Breed_outcomes', 'Color_outcomes', 'age', 'seq',\n",
       "       'indicator_col'],\n",
       "      dtype='object')"
      ]
     },
     "execution_count": 6,
     "metadata": {},
     "output_type": "execute_result"
    }
   ],
   "source": [
    "df.columns"
   ]
  },
  {
   "cell_type": "markdown",
   "id": "d047d5f8",
   "metadata": {},
   "source": [
    "### Analytic 1 - Most common breeds to enter the shelter for Cats and Dogs\n",
    "\n",
    "We are trying to understand here the most common breeds of cats/dogs at the time they are admiitted into the shelter. We visualize this and display the top 5 breeds for each animal"
   ]
  },
  {
   "cell_type": "code",
   "execution_count": 7,
   "id": "ca0f418b",
   "metadata": {},
   "outputs": [],
   "source": [
    "cd=df[(df[\"Animal Type_outcomes\"]=='Dog') | (df['Animal Type_outcomes']==\"Cat\")]"
   ]
  },
  {
   "cell_type": "code",
   "execution_count": 8,
   "id": "8d8eab7f",
   "metadata": {},
   "outputs": [],
   "source": [
    "temp=cd.groupby(['Animal Type_outcomes','Breed_outcomes'])[['Animal ID']].count().reset_index()\n",
    "temp.rename(columns={'Animal ID':'Count'},inplace=True)"
   ]
  },
  {
   "cell_type": "code",
   "execution_count": 10,
   "id": "498fae6f",
   "metadata": {},
   "outputs": [
    {
     "data": {
      "text/html": [
       "<div>\n",
       "<style scoped>\n",
       "    .dataframe tbody tr th:only-of-type {\n",
       "        vertical-align: middle;\n",
       "    }\n",
       "\n",
       "    .dataframe tbody tr th {\n",
       "        vertical-align: top;\n",
       "    }\n",
       "\n",
       "    .dataframe thead th {\n",
       "        text-align: right;\n",
       "    }\n",
       "</style>\n",
       "<table border=\"1\" class=\"dataframe\">\n",
       "  <thead>\n",
       "    <tr style=\"text-align: right;\">\n",
       "      <th></th>\n",
       "      <th>Animal Type_outcomes</th>\n",
       "      <th>Breed_outcomes</th>\n",
       "      <th>Count</th>\n",
       "    </tr>\n",
       "  </thead>\n",
       "  <tbody>\n",
       "    <tr>\n",
       "      <th>1939</th>\n",
       "      <td>Dog</td>\n",
       "      <td>Pit Bull Mix</td>\n",
       "      <td>8891</td>\n",
       "    </tr>\n",
       "    <tr>\n",
       "      <th>1572</th>\n",
       "      <td>Dog</td>\n",
       "      <td>Labrador Retriever Mix</td>\n",
       "      <td>7407</td>\n",
       "    </tr>\n",
       "    <tr>\n",
       "      <th>899</th>\n",
       "      <td>Dog</td>\n",
       "      <td>Chihuahua Shorthair Mix</td>\n",
       "      <td>6495</td>\n",
       "    </tr>\n",
       "    <tr>\n",
       "      <th>1306</th>\n",
       "      <td>Dog</td>\n",
       "      <td>German Shepherd Mix</td>\n",
       "      <td>3361</td>\n",
       "    </tr>\n",
       "    <tr>\n",
       "      <th>1938</th>\n",
       "      <td>Dog</td>\n",
       "      <td>Pit Bull</td>\n",
       "      <td>1914</td>\n",
       "    </tr>\n",
       "    <tr>\n",
       "      <th>41</th>\n",
       "      <td>Cat</td>\n",
       "      <td>Domestic Shorthair Mix</td>\n",
       "      <td>32028</td>\n",
       "    </tr>\n",
       "    <tr>\n",
       "      <th>40</th>\n",
       "      <td>Cat</td>\n",
       "      <td>Domestic Shorthair</td>\n",
       "      <td>10543</td>\n",
       "    </tr>\n",
       "    <tr>\n",
       "      <th>36</th>\n",
       "      <td>Cat</td>\n",
       "      <td>Domestic Medium Hair Mix</td>\n",
       "      <td>3224</td>\n",
       "    </tr>\n",
       "    <tr>\n",
       "      <th>29</th>\n",
       "      <td>Cat</td>\n",
       "      <td>Domestic Longhair Mix</td>\n",
       "      <td>1583</td>\n",
       "    </tr>\n",
       "    <tr>\n",
       "      <th>87</th>\n",
       "      <td>Cat</td>\n",
       "      <td>Siamese Mix</td>\n",
       "      <td>1346</td>\n",
       "    </tr>\n",
       "  </tbody>\n",
       "</table>\n",
       "</div>"
      ],
      "text/plain": [
       "     Animal Type_outcomes            Breed_outcomes  Count\n",
       "1939                  Dog              Pit Bull Mix   8891\n",
       "1572                  Dog    Labrador Retriever Mix   7407\n",
       "899                   Dog   Chihuahua Shorthair Mix   6495\n",
       "1306                  Dog       German Shepherd Mix   3361\n",
       "1938                  Dog                  Pit Bull   1914\n",
       "41                    Cat    Domestic Shorthair Mix  32028\n",
       "40                    Cat        Domestic Shorthair  10543\n",
       "36                    Cat  Domestic Medium Hair Mix   3224\n",
       "29                    Cat     Domestic Longhair Mix   1583\n",
       "87                    Cat               Siamese Mix   1346"
      ]
     },
     "execution_count": 10,
     "metadata": {},
     "output_type": "execute_result"
    }
   ],
   "source": [
    "temp=temp.sort_values(['Animal Type_outcomes','Count'],ascending=False).groupby('Animal Type_outcomes').head(5)\n",
    "temp"
   ]
  },
  {
   "cell_type": "code",
   "execution_count": 12,
   "id": "d1b027c7",
   "metadata": {},
   "outputs": [],
   "source": [
    "x1=temp[temp['Animal Type_outcomes']=='Dog']\n",
    "x2=temp[temp['Animal Type_outcomes']=='Cat']"
   ]
  },
  {
   "cell_type": "code",
   "execution_count": 13,
   "id": "b9ff032e",
   "metadata": {},
   "outputs": [
    {
     "name": "stderr",
     "output_type": "stream",
     "text": [
      "<ipython-input-13-988b5a6eb855>:2: UserWarning: FixedFormatter should only be used together with FixedLocator\n",
      "  ax.set_xticklabels(temp['Breed_outcomes'],rotation=45)\n"
     ]
    },
    {
     "data": {
      "text/plain": [
       "Text(0.5, 1.0, 'Most common breeds to enter the shelter for Cats and Dogs')"
      ]
     },
     "execution_count": 13,
     "metadata": {},
     "output_type": "execute_result"
    },
    {
     "data": {
      "image/png": "[encoded data removed]",
      "text/plain": [
       "<Figure size 1296x360 with 1 Axes>"
      ]
     },
     "metadata": {
      "needs_background": "light"
     },
     "output_type": "display_data"
    }
   ],
   "source": [
    "f, ax = plt.subplots(figsize=(18,5))\n",
    "ax.set_xticklabels(temp['Breed_outcomes'],rotation=45)\n",
    "plt.bar(x1['Breed_outcomes'],x1['Count'])\n",
    "plt.bar(x2['Breed_outcomes'],x2['Count'])\n",
    "plt.legend(temp['Animal Type_outcomes'].unique())\n",
    "plt.xlabel('Animal Breeds', fontsize=16)\n",
    "plt.ylabel('Number of Animals', fontsize=16)\n",
    "plt.title(\"Most common breeds to enter the shelter for Cats and Dogs\",fontsize=18)"
   ]
  },
  {
   "cell_type": "markdown",
   "id": "d83479b9",
   "metadata": {},
   "source": [
    "At the time of admission into the shelter it can be observed that Pitbull Mixes lead the Dog cateogry while the Cat category is lead by the Domestic Shorthair Mix"
   ]
  },
  {
   "cell_type": "markdown",
   "id": "2d6aea81",
   "metadata": {},
   "source": [
    "### Analytic 2: Most and least common animal types that enter the shelter\n",
    "\n",
    "Here we are trying to understand if there any significant animals besides cats/dogs which are enetering the shelter. This will help us realize whether to simply concentrate our focus on common pets like Cats/Dogs or also explore other animals."
   ]
  },
  {
   "cell_type": "code",
   "execution_count": 14,
   "id": "1df60479",
   "metadata": {},
   "outputs": [
    {
     "data": {
      "text/html": [
       "<div>\n",
       "<style scoped>\n",
       "    .dataframe tbody tr th:only-of-type {\n",
       "        vertical-align: middle;\n",
       "    }\n",
       "\n",
       "    .dataframe tbody tr th {\n",
       "        vertical-align: top;\n",
       "    }\n",
       "\n",
       "    .dataframe thead th {\n",
       "        text-align: right;\n",
       "    }\n",
       "</style>\n",
       "<table border=\"1\" class=\"dataframe\">\n",
       "  <thead>\n",
       "    <tr style=\"text-align: right;\">\n",
       "      <th></th>\n",
       "      <th>Animal Type_outcomes</th>\n",
       "      <th>Count</th>\n",
       "    </tr>\n",
       "  </thead>\n",
       "  <tbody>\n",
       "    <tr>\n",
       "      <th>0</th>\n",
       "      <td>Bird</td>\n",
       "      <td>658</td>\n",
       "    </tr>\n",
       "    <tr>\n",
       "      <th>1</th>\n",
       "      <td>Cat</td>\n",
       "      <td>51879</td>\n",
       "    </tr>\n",
       "    <tr>\n",
       "      <th>2</th>\n",
       "      <td>Dog</td>\n",
       "      <td>77458</td>\n",
       "    </tr>\n",
       "    <tr>\n",
       "      <th>3</th>\n",
       "      <td>Livestock</td>\n",
       "      <td>24</td>\n",
       "    </tr>\n",
       "    <tr>\n",
       "      <th>4</th>\n",
       "      <td>Other</td>\n",
       "      <td>7316</td>\n",
       "    </tr>\n",
       "  </tbody>\n",
       "</table>\n",
       "</div>"
      ],
      "text/plain": [
       "  Animal Type_outcomes  Count\n",
       "0                 Bird    658\n",
       "1                  Cat  51879\n",
       "2                  Dog  77458\n",
       "3            Livestock     24\n",
       "4                Other   7316"
      ]
     },
     "execution_count": 14,
     "metadata": {},
     "output_type": "execute_result"
    }
   ],
   "source": [
    "temp=df.groupby(['Animal Type_outcomes'])[['Animal ID']].count().reset_index()\n",
    "temp.rename(columns={'Animal ID':'Count'},inplace=True)\n",
    "temp"
   ]
  },
  {
   "cell_type": "code",
   "execution_count": 15,
   "id": "8b335e39",
   "metadata": {},
   "outputs": [
    {
     "name": "stderr",
     "output_type": "stream",
     "text": [
      "<ipython-input-15-572c3960b8a1>:2: UserWarning: FixedFormatter should only be used together with FixedLocator\n",
      "  ax.set_xticklabels(temp['Animal Type_outcomes'],rotation=45)\n"
     ]
    },
    {
     "data": {
      "text/plain": [
       "Text(0.5, 1.0, 'Most and least common animal types to enter the shelter')"
      ]
     },
     "execution_count": 15,
     "metadata": {},
     "output_type": "execute_result"
    },
    {
     "data": {
      "image/png": "[encoded data removed]",
      "text/plain": [
       "<Figure size 1296x360 with 1 Axes>"
      ]
     },
     "metadata": {
      "needs_background": "light"
     },
     "output_type": "display_data"
    }
   ],
   "source": [
    "f, ax = plt.subplots(figsize=(18,5))\n",
    "ax.set_xticklabels(temp['Animal Type_outcomes'],rotation=45)\n",
    "plt.bar(temp['Animal Type_outcomes'],temp['Count'])\n",
    "plt.xlabel('Animal Type', fontsize=16)\n",
    "plt.ylabel('Number of Animals', fontsize=16)\n",
    "plt.title(\"Most and least common animal types to enter the shelter\",fontsize=18)"
   ]
  },
  {
   "cell_type": "markdown",
   "id": "81180824",
   "metadata": {},
   "source": [
    "While we see some cases of livestock, Birds and other animals they are in overshadowed by the sheer number of cats/dogs entering the shelter. We will hence concentrate on these animals and now proceed to understand their adoption numbers"
   ]
  },
  {
   "cell_type": "markdown",
   "id": "adcca4ca",
   "metadata": {},
   "source": [
    "### Analytic 3: Most common cat and dog breeds to be adopted\n",
    "\n",
    "This part uses the same logic as Analytic 1 but instead pulls out the numbers for the top breeds getting adopted"
   ]
  },
  {
   "cell_type": "code",
   "execution_count": 16,
   "id": "66b9a5db",
   "metadata": {},
   "outputs": [
    {
     "name": "stderr",
     "output_type": "stream",
     "text": [
      "<ipython-input-16-f148aafe4973>:9: UserWarning: FixedFormatter should only be used together with FixedLocator\n",
      "  ax.set_xticklabels(temp['Breed_outcomes'],rotation=45)\n"
     ]
    },
    {
     "data": {
      "text/plain": [
       "Text(0.5, 1.0, 'Most common cat/dog breeds to be adopted')"
      ]
     },
     "execution_count": 16,
     "metadata": {},
     "output_type": "execute_result"
    },
    {
     "data": {
      "image/png": "[encoded data removed]",
      "text/plain": [
       "<Figure size 1296x360 with 1 Axes>"
      ]
     },
     "metadata": {
      "needs_background": "light"
     },
     "output_type": "display_data"
    }
   ],
   "source": [
    "temp_df=df[df[\"Outcome Type\"]==\"Adoption\"]\n",
    "cd=temp_df[(temp_df[\"Animal Type_outcomes\"]=='Dog') | (temp_df['Animal Type_outcomes']==\"Cat\")]\n",
    "temp=cd.groupby(['Animal Type_outcomes','Breed_outcomes'])[['Animal ID']].count().reset_index()\n",
    "temp.rename(columns={'Animal ID':'Count'},inplace=True)\n",
    "temp=temp.sort_values(['Animal Type_outcomes','Count'],ascending=False).groupby('Animal Type_outcomes').head(5)\n",
    "x1=temp[temp['Animal Type_outcomes']=='Dog']\n",
    "x2=temp[temp['Animal Type_outcomes']=='Cat']\n",
    "f, ax = plt.subplots(figsize=(18,5))\n",
    "ax.set_xticklabels(temp['Breed_outcomes'],rotation=45)\n",
    "plt.bar(x1['Breed_outcomes'],x1['Count'])\n",
    "plt.bar(x2['Breed_outcomes'],x2['Count'])\n",
    "plt.legend(temp['Animal Type_outcomes'].unique())\n",
    "plt.xlabel('Animal Breeds', fontsize=16)\n",
    "plt.ylabel('Number of Animals', fontsize=16)\n",
    "plt.title(\"Most common cat/dog breeds to be adopted\",fontsize=18)"
   ]
  },
  {
   "cell_type": "markdown",
   "id": "97442716",
   "metadata": {},
   "source": [
    "We can see that in terms of adoption Labrador Retriever Mix leads the Dogs category and Domestic Shorthair Mix leads the cats category"
   ]
  },
  {
   "cell_type": "markdown",
   "id": "36732db1",
   "metadata": {},
   "source": [
    "Analytic 4: Exploring characteristics leading to Euthanasia\n",
    "\n",
    "Now that we have performed temporal and adoption analysis the analysis will deep dive into something more specific. It is common knowledge that shelter usually euthanize animals for a variety of reasons. While the debate on this continues the shelter can defnitely take steps towards trying to lessen the number of euthanized animals. We will try to understand from the data why euthanaisa incidents are happening in the first place"
   ]
  },
  {
   "cell_type": "code",
   "execution_count": 18,
   "id": "62af7c81",
   "metadata": {},
   "outputs": [
    {
     "name": "stderr",
     "output_type": "stream",
     "text": [
      "<ipython-input-18-b6a81004a5cf>:5: UserWarning: FixedFormatter should only be used together with FixedLocator\n",
      "  ax.set_xticklabels(temp['Outcome Subtype'],rotation=45)\n"
     ]
    },
    {
     "data": {
      "text/plain": [
       "Text(0.5, 1.0, 'Distibution of euthanized animals by Outcome Sub Type')"
      ]
     },
     "execution_count": 18,
     "metadata": {},
     "output_type": "execute_result"
    },
    {
     "data": {
      "image/png": "[encoded data removed]",
      "text/plain": [
       "<Figure size 1296x360 with 1 Axes>"
      ]
     },
     "metadata": {
      "needs_background": "light"
     },
     "output_type": "display_data"
    }
   ],
   "source": [
    "cd=df[df[\"Outcome Type\"]==\"Euthanasia\"]\n",
    "temp=cd.groupby(['Outcome Subtype'])[['Animal ID']].count().reset_index()\n",
    "temp.rename(columns={'Animal ID':'Count'},inplace=True)\n",
    "f, ax = plt.subplots(figsize=(18,5))\n",
    "ax.set_xticklabels(temp['Outcome Subtype'],rotation=45)\n",
    "plt.bar(temp['Outcome Subtype'],temp['Count'])\n",
    "plt.xlabel('Outcome Subtype', fontsize=16)\n",
    "plt.ylabel('Number of Animals', fontsize=16)\n",
    "plt.title(\"Distibution of euthanized animals by Outcome Sub Type\",fontsize=18)"
   ]
  },
  {
   "cell_type": "code",
   "execution_count": 19,
   "id": "fa4daf6e",
   "metadata": {},
   "outputs": [
    {
     "data": {
      "text/plain": [
       "array(['Return to Owner', 'Transfer', 'Relocate', 'Adoption',\n",
       "       'Euthanasia', 'Died', 'Rto-Adopt', 'Missing', 'NA', 'Disposal'],\n",
       "      dtype=object)"
      ]
     },
     "execution_count": 19,
     "metadata": {},
     "output_type": "execute_result"
    }
   ],
   "source": [
    "df[\"Outcome Type\"].unique()"
   ]
  },
  {
   "cell_type": "code",
   "execution_count": 20,
   "id": "bafcd261",
   "metadata": {},
   "outputs": [],
   "source": [
    "euthanasia_request=len(df[df[\"Intake Type\"]==\"Euthanasia Request\"])"
   ]
  },
  {
   "cell_type": "code",
   "execution_count": 21,
   "id": "93c2d4ed",
   "metadata": {},
   "outputs": [],
   "source": [
    "total_euthanized=len(df[(df[\"Intake Type\"]==\"Euthanasia Request\") & (df['Outcome Type']==\"Euthanasia\")])"
   ]
  },
  {
   "cell_type": "code",
   "execution_count": 22,
   "id": "04703af4",
   "metadata": {},
   "outputs": [
    {
     "name": "stdout",
     "output_type": "stream",
     "text": [
      "Of the total animals that were admitted with a request to be euthanized the actual % euthanized were: 77.60617760617761\n"
     ]
    }
   ],
   "source": [
    "print(\"Of the total animals that were admitted with a request to be euthanized the actual % euthanized were: \"+str((total_euthanized/euthanasia_request)*100))"
   ]
  },
  {
   "cell_type": "code",
   "execution_count": 23,
   "id": "bb2796b5",
   "metadata": {},
   "outputs": [
    {
     "name": "stderr",
     "output_type": "stream",
     "text": [
      "<ipython-input-23-76020a77c2ed>:5: UserWarning: FixedFormatter should only be used together with FixedLocator\n",
      "  ax.set_xticklabels(temp['Intake Type'],rotation=45)\n"
     ]
    },
    {
     "data": {
      "text/plain": [
       "Text(0.5, 1.0, 'Distribution of euthanized number of animals by Intake Type')"
      ]
     },
     "execution_count": 23,
     "metadata": {},
     "output_type": "execute_result"
    },
    {
     "data": {
      "image/png": "[encoded data removed]",
      "text/plain": [
       "<Figure size 1296x360 with 1 Axes>"
      ]
     },
     "metadata": {
      "needs_background": "light"
     },
     "output_type": "display_data"
    }
   ],
   "source": [
    "cd=df[df[\"Outcome Type\"]==\"Euthanasia\"]\n",
    "temp=cd.groupby(['Intake Type'])[['Animal ID']].count().reset_index()\n",
    "temp.rename(columns={'Animal ID':'Count'},inplace=True)\n",
    "f, ax = plt.subplots(figsize=(18,5))\n",
    "ax.set_xticklabels(temp['Intake Type'],rotation=45)\n",
    "plt.bar(temp['Intake Type'],temp['Count'])\n",
    "plt.xlabel('Intake Type', fontsize=16)\n",
    "plt.ylabel('Number of Animals', fontsize=16)\n",
    "plt.title(\"Distribution of euthanized number of animals by Intake Type\",fontsize=18)"
   ]
  },
  {
   "cell_type": "code",
   "execution_count": 24,
   "id": "d70629d5",
   "metadata": {},
   "outputs": [
    {
     "data": {
      "text/plain": [
       "Index(['Unnamed: 0', 'Animal ID', 'Name_intakes', 'DateTime_intake',\n",
       "       'MonthYear_intake', 'Found Location', 'Intake Type', 'Intake Condition',\n",
       "       'Animal Type_intake', 'Sex upon Intake', 'Age upon Intake',\n",
       "       'Breed_intake', 'Color_intake', 'Name_outcomes', 'DateTime_outcomes',\n",
       "       'MonthYear_outcomes', 'Date of Birth', 'Outcome Type',\n",
       "       'Outcome Subtype', 'Animal Type_outcomes', 'Sex upon Outcome',\n",
       "       'Age upon Outcome', 'Breed_outcomes', 'Color_outcomes', 'age', 'seq',\n",
       "       'indicator_col'],\n",
       "      dtype='object')"
      ]
     },
     "execution_count": 24,
     "metadata": {},
     "output_type": "execute_result"
    }
   ],
   "source": [
    "df.columns"
   ]
  },
  {
   "cell_type": "markdown",
   "id": "295cf317",
   "metadata": {},
   "source": [
    "### *Euthanasia Analysis Conclusions*:\n",
    "\n",
    "Totally 6.5% of the animals in the shelter ended up getting euthanized for some reason or the other. Of the animals admitted into the shelter with a euthanaisa request about 78% ended up getting euthanized. On doing some further analysis on the possible reasons why these animals were euthanized we see Rabies Risk and Suffering as the two leading causes of euthanaisa. It is interesting to note that \"Aggressive\" and \"Behavior\" are also reasons leading to about 600 animals getting euthanized. These are definitely areas where the shelter can work to reduce euthanized animals. When we evaluate the number of animals getting euthanized by Intake Type, \"Wildlife\" and \"Stray\" are leading intake types for these animals. "
   ]
  },
  {
   "cell_type": "markdown",
   "id": "d1e905f1",
   "metadata": {},
   "source": [
    "### Analytic 5 - Distribution of all animals in the shelter by outcome type\n",
    "\n",
    "We want to understand the percentage of animals that fall under each outcome type. We visualize this using a horizontol bar chart"
   ]
  },
  {
   "cell_type": "code",
   "execution_count": 25,
   "id": "f081d018",
   "metadata": {},
   "outputs": [
    {
     "name": "stdout",
     "output_type": "stream",
     "text": [
      "Out of the total animals that entered the shelter the % of animals with outcome Return to Owner are 16.577590384100787\n",
      "Out of the total animals that entered the shelter the % of animals with outcome Transfer are 28.707393451989212\n",
      "Out of the total animals that entered the shelter the % of animals with outcome Relocate are 0.017357218794975086\n",
      "Out of the total animals that entered the shelter the % of animals with outcome Adoption are 45.40503793275524\n",
      "Out of the total animals that entered the shelter the % of animals with outcome Euthanasia are 6.550180442753723\n",
      "Out of the total animals that entered the shelter the % of animals with outcome Died are 0.9300576404307483\n",
      "Out of the total animals that entered the shelter the % of animals with outcome Rto-Adopt are 0.6306456162174281\n",
      "Out of the total animals that entered the shelter the % of animals with outcome Missing are 0.051348438935134626\n",
      "Out of the total animals that entered the shelter the % of animals with outcome NA are 0.6769315330040283\n",
      "Out of the total animals that entered the shelter the % of animals with outcome Disposal are 0.4534573410187241\n"
     ]
    }
   ],
   "source": [
    "d={}\n",
    "for x in df['Outcome Type'].unique():\n",
    "    y=(len(df[df[\"Outcome Type\"]==x])/len(df['Animal ID'].unique()))*100\n",
    "    d[x]=y\n",
    "    print(\"Out of the total animals that entered the shelter the % of animals with outcome \"+str(x)+\" are \"+str(y))"
   ]
  },
  {
   "cell_type": "code",
   "execution_count": 26,
   "id": "3923df6c",
   "metadata": {},
   "outputs": [
    {
     "data": {
      "text/plain": [
       "Text(0, 0.5, 'Outcome Type')"
      ]
     },
     "execution_count": 26,
     "metadata": {},
     "output_type": "execute_result"
    },
    {
     "data": {
      "image/png": "[encoded data removed]",
      "text/plain": [
       "<Figure size 432x288 with 1 Axes>"
      ]
     },
     "metadata": {
      "needs_background": "light"
     },
     "output_type": "display_data"
    }
   ],
   "source": [
    "fig,ax=plt.subplots()\n",
    "names = list(d.keys())\n",
    "values = list(d.values())\n",
    "\n",
    "plt.barh(range(len(d)), values, tick_label=names)\n",
    "plt.xlabel('Percentage of total intake', fontsize=16)\n",
    "plt.ylabel('Outcome Type', fontsize=16)"
   ]
  },
  {
   "cell_type": "markdown",
   "id": "0e586c42",
   "metadata": {},
   "source": [
    "We observe that around 45% of all animals admitted to the shelter end up getting adopted and almost 29% get transferred.\n",
    "The shelter would ideally like to maximize the adoption rate and reduce the euthanasia, death rates"
   ]
  },
  {
   "cell_type": "markdown",
   "id": "147d05d1",
   "metadata": {},
   "source": [
    "### Analytic 6 : Age Distribution\n",
    "\n",
    "We want to understand the distribution of the age values for animals entering the shelter and the ones that get adopted. We shall focus our analysis on dogs and cats as these are the animals that end up getting adopted the highest."
   ]
  },
  {
   "cell_type": "code",
   "execution_count": 28,
   "id": "2407dd42",
   "metadata": {},
   "outputs": [],
   "source": [
    "df['age_t']=df['age']/30"
   ]
  },
  {
   "cell_type": "code",
   "execution_count": 29,
   "id": "2dbc25d4",
   "metadata": {},
   "outputs": [
    {
     "data": {
      "text/plain": [
       "138271"
      ]
     },
     "execution_count": 29,
     "metadata": {},
     "output_type": "execute_result"
    }
   ],
   "source": [
    "len(df)"
   ]
  },
  {
   "cell_type": "code",
   "execution_count": 30,
   "id": "b8f9d10c",
   "metadata": {},
   "outputs": [
    {
     "data": {
      "text/plain": [
       "0          81.133333\n",
       "1          90.700000\n",
       "2         126.800000\n",
       "3         121.900000\n",
       "4         195.833333\n",
       "             ...    \n",
       "138266           NaN\n",
       "138267           NaN\n",
       "138268           NaN\n",
       "138269           NaN\n",
       "138270           NaN\n",
       "Name: age_t, Length: 130226, dtype: float64"
      ]
     },
     "execution_count": 30,
     "metadata": {},
     "output_type": "execute_result"
    }
   ],
   "source": [
    "df[(df['Animal Type_intake']==\"Dog\")|(df['Animal Type_intake']==\"Cat\")]['age_t']"
   ]
  },
  {
   "cell_type": "code",
   "execution_count": 31,
   "id": "acd2d254",
   "metadata": {},
   "outputs": [
    {
     "data": {
      "text/plain": [
       "Text(0.5, 1.0, 'Distribution of ages for animals that entered the shelter')"
      ]
     },
     "execution_count": 31,
     "metadata": {},
     "output_type": "execute_result"
    },
    {
     "data": {
      "image/png": "[encoded data removed]",
      "text/plain": [
       "<Figure size 432x288 with 1 Axes>"
      ]
     },
     "metadata": {
      "needs_background": "light"
     },
     "output_type": "display_data"
    }
   ],
   "source": [
    "plt.hist(df[(df['Animal Type_intake']==\"Dog\")|(df['Animal Type_intake']==\"Cat\")]['age_t'], bins=50)\n",
    "plt.xlim(0,150)\n",
    "plt.title(\"Distribution of ages for animals that entered the shelter\",fontsize=14)"
   ]
  },
  {
   "cell_type": "code",
   "execution_count": 32,
   "id": "52c25993",
   "metadata": {},
   "outputs": [
    {
     "data": {
      "text/plain": [
       "Text(0.5, 1.0, 'Distribution of ages for animals that got adopted')"
      ]
     },
     "execution_count": 32,
     "metadata": {},
     "output_type": "execute_result"
    },
    {
     "data": {
      "image/png": "[encoded data removed]",
      "text/plain": [
       "<Figure size 432x288 with 1 Axes>"
      ]
     },
     "metadata": {
      "needs_background": "light"
     },
     "output_type": "display_data"
    }
   ],
   "source": [
    "plt.hist(df[(df['Outcome Type']==\"Adoption\")&((df['Animal Type_intake']==\"Dog\")|(df['Animal Type_intake']==\"Cat\"))]['age_t'], bins=50)\n",
    "plt.xlim(0, 150)\n",
    "plt.title(\"Distribution of ages for animals that got adopted\",fontsize=14)"
   ]
  },
  {
   "cell_type": "markdown",
   "id": "dbf759cd",
   "metadata": {},
   "source": [
    "Both the age distributions for animals entering the shelter and the ones getting adopted are skewed towards the right with most of animals being in the range if 0-20 months. There are a small amount of animals in the range of 80-120 months. "
   ]
  },
  {
   "cell_type": "markdown",
   "id": "55566b4e",
   "metadata": {},
   "source": [
    "### Analytic 7 : Is either sex of cats/dogs more likely to get adopted\n",
    "\n",
    "Another interesting analysis we perform is trying to understand if either sex Male/Female for cats/dogs are preferred by adopters. This is to understand if there is any preference/bias among people adopting animals from the shelter."
   ]
  },
  {
   "cell_type": "code",
   "execution_count": 33,
   "id": "57593551",
   "metadata": {},
   "outputs": [],
   "source": [
    "temp=df[(df['Animal Type_intake']==\"Dog\")|(df['Animal Type_intake']==\"Cat\")]"
   ]
  },
  {
   "cell_type": "code",
   "execution_count": 35,
   "id": "c6bd9326",
   "metadata": {},
   "outputs": [
    {
     "data": {
      "text/html": [
       "<div>\n",
       "<style scoped>\n",
       "    .dataframe tbody tr th:only-of-type {\n",
       "        vertical-align: middle;\n",
       "    }\n",
       "\n",
       "    .dataframe tbody tr th {\n",
       "        vertical-align: top;\n",
       "    }\n",
       "\n",
       "    .dataframe thead th {\n",
       "        text-align: right;\n",
       "    }\n",
       "</style>\n",
       "<table border=\"1\" class=\"dataframe\">\n",
       "  <thead>\n",
       "    <tr style=\"text-align: right;\">\n",
       "      <th></th>\n",
       "      <th>Unnamed: 0</th>\n",
       "      <th>Animal ID</th>\n",
       "      <th>Name_intakes</th>\n",
       "      <th>DateTime_intake</th>\n",
       "      <th>MonthYear_intake</th>\n",
       "      <th>Found Location</th>\n",
       "      <th>Intake Type</th>\n",
       "      <th>Intake Condition</th>\n",
       "      <th>Animal Type_intake</th>\n",
       "      <th>Sex upon Intake</th>\n",
       "      <th>...</th>\n",
       "      <th>Outcome Subtype</th>\n",
       "      <th>Animal Type_outcomes</th>\n",
       "      <th>Sex upon Outcome</th>\n",
       "      <th>Age upon Outcome</th>\n",
       "      <th>Breed_outcomes</th>\n",
       "      <th>Color_outcomes</th>\n",
       "      <th>age</th>\n",
       "      <th>seq</th>\n",
       "      <th>indicator_col</th>\n",
       "      <th>age_t</th>\n",
       "    </tr>\n",
       "  </thead>\n",
       "  <tbody>\n",
       "    <tr>\n",
       "      <th>13</th>\n",
       "      <td>13</td>\n",
       "      <td>A2009221</td>\n",
       "      <td>A200922</td>\n",
       "      <td>2013-10-03 15:47:00</td>\n",
       "      <td>October 2013</td>\n",
       "      <td>Austin (TX)</td>\n",
       "      <td>Owner Surrender</td>\n",
       "      <td>Normal</td>\n",
       "      <td>Dog</td>\n",
       "      <td>Neutered Male</td>\n",
       "      <td>...</td>\n",
       "      <td>Foster</td>\n",
       "      <td>Dog</td>\n",
       "      <td>Neutered Male</td>\n",
       "      <td>16 years</td>\n",
       "      <td>Dachshund Mix</td>\n",
       "      <td>Black/Tan</td>\n",
       "      <td>5894.0</td>\n",
       "      <td>1.0</td>\n",
       "      <td>both</td>\n",
       "      <td>196.466667</td>\n",
       "    </tr>\n",
       "    <tr>\n",
       "      <th>15</th>\n",
       "      <td>15</td>\n",
       "      <td>A2104571</td>\n",
       "      <td>A210457</td>\n",
       "      <td>2016-09-28 12:05:00</td>\n",
       "      <td>September 2016</td>\n",
       "      <td>4424 S Mopac #412 in Austin (TX)</td>\n",
       "      <td>Public Assist</td>\n",
       "      <td>Aged</td>\n",
       "      <td>Dog</td>\n",
       "      <td>Neutered Male</td>\n",
       "      <td>...</td>\n",
       "      <td>Foster</td>\n",
       "      <td>Dog</td>\n",
       "      <td>Neutered Male</td>\n",
       "      <td>17 years</td>\n",
       "      <td>Chihuahua Shorthair</td>\n",
       "      <td>Tan/Black</td>\n",
       "      <td>6338.0</td>\n",
       "      <td>1.0</td>\n",
       "      <td>both</td>\n",
       "      <td>211.266667</td>\n",
       "    </tr>\n",
       "    <tr>\n",
       "      <th>24</th>\n",
       "      <td>24</td>\n",
       "      <td>A2260691</td>\n",
       "      <td>A226069</td>\n",
       "      <td>2015-10-06 12:29:00</td>\n",
       "      <td>October 2015</td>\n",
       "      <td>Wheless Ln And Berkman Dr in Austin (TX)</td>\n",
       "      <td>Stray</td>\n",
       "      <td>Normal</td>\n",
       "      <td>Dog</td>\n",
       "      <td>Neutered Male</td>\n",
       "      <td>...</td>\n",
       "      <td>Foster</td>\n",
       "      <td>Dog</td>\n",
       "      <td>Neutered Male</td>\n",
       "      <td>15 years</td>\n",
       "      <td>Labrador Retriever/Beagle</td>\n",
       "      <td>Sable/White</td>\n",
       "      <td>5612.0</td>\n",
       "      <td>1.0</td>\n",
       "      <td>both</td>\n",
       "      <td>187.066667</td>\n",
       "    </tr>\n",
       "    <tr>\n",
       "      <th>34</th>\n",
       "      <td>34</td>\n",
       "      <td>A2490871</td>\n",
       "      <td>A249087</td>\n",
       "      <td>2016-08-17 14:05:00</td>\n",
       "      <td>August 2016</td>\n",
       "      <td>E 6Th St And Pedernales in Austin (TX)</td>\n",
       "      <td>Stray</td>\n",
       "      <td>Normal</td>\n",
       "      <td>Dog</td>\n",
       "      <td>Spayed Female</td>\n",
       "      <td>...</td>\n",
       "      <td>Foster</td>\n",
       "      <td>Dog</td>\n",
       "      <td>Spayed Female</td>\n",
       "      <td>15 years</td>\n",
       "      <td>German Shepherd Mix</td>\n",
       "      <td>Black/Brown</td>\n",
       "      <td>5796.0</td>\n",
       "      <td>1.0</td>\n",
       "      <td>both</td>\n",
       "      <td>193.200000</td>\n",
       "    </tr>\n",
       "    <tr>\n",
       "      <th>50</th>\n",
       "      <td>50</td>\n",
       "      <td>A2745461</td>\n",
       "      <td>A274546</td>\n",
       "      <td>2013-11-13 18:16:00</td>\n",
       "      <td>November 2013</td>\n",
       "      <td>Manchaca And Slaughter in Austin (TX)</td>\n",
       "      <td>Stray</td>\n",
       "      <td>Normal</td>\n",
       "      <td>Dog</td>\n",
       "      <td>Spayed Female</td>\n",
       "      <td>...</td>\n",
       "      <td>Unknown</td>\n",
       "      <td>Dog</td>\n",
       "      <td>Spayed Female</td>\n",
       "      <td>11 years</td>\n",
       "      <td>Pointer Mix</td>\n",
       "      <td>Tricolor</td>\n",
       "      <td>4193.0</td>\n",
       "      <td>1.0</td>\n",
       "      <td>both</td>\n",
       "      <td>139.766667</td>\n",
       "    </tr>\n",
       "    <tr>\n",
       "      <th>...</th>\n",
       "      <td>...</td>\n",
       "      <td>...</td>\n",
       "      <td>...</td>\n",
       "      <td>...</td>\n",
       "      <td>...</td>\n",
       "      <td>...</td>\n",
       "      <td>...</td>\n",
       "      <td>...</td>\n",
       "      <td>...</td>\n",
       "      <td>...</td>\n",
       "      <td>...</td>\n",
       "      <td>...</td>\n",
       "      <td>...</td>\n",
       "      <td>...</td>\n",
       "      <td>...</td>\n",
       "      <td>...</td>\n",
       "      <td>...</td>\n",
       "      <td>...</td>\n",
       "      <td>...</td>\n",
       "      <td>...</td>\n",
       "      <td>...</td>\n",
       "    </tr>\n",
       "    <tr>\n",
       "      <th>138146</th>\n",
       "      <td>138146</td>\n",
       "      <td>A8551481</td>\n",
       "      <td>A855148</td>\n",
       "      <td>2022-04-14 10:59:00</td>\n",
       "      <td>April 2022</td>\n",
       "      <td>Austin (TX)</td>\n",
       "      <td>Owner Surrender</td>\n",
       "      <td>Normal</td>\n",
       "      <td>Dog</td>\n",
       "      <td>Intact Female</td>\n",
       "      <td>...</td>\n",
       "      <td>Unknown</td>\n",
       "      <td>Dog</td>\n",
       "      <td>Spayed Female</td>\n",
       "      <td>1 year</td>\n",
       "      <td>Chihuahua Shorthair</td>\n",
       "      <td>Brown</td>\n",
       "      <td>366.0</td>\n",
       "      <td>1.0</td>\n",
       "      <td>both</td>\n",
       "      <td>12.200000</td>\n",
       "    </tr>\n",
       "    <tr>\n",
       "      <th>138151</th>\n",
       "      <td>138151</td>\n",
       "      <td>A8551591</td>\n",
       "      <td>A855159</td>\n",
       "      <td>2022-04-14 13:22:00</td>\n",
       "      <td>April 2022</td>\n",
       "      <td>Austin (TX)</td>\n",
       "      <td>Owner Surrender</td>\n",
       "      <td>Normal</td>\n",
       "      <td>Dog</td>\n",
       "      <td>Spayed Female</td>\n",
       "      <td>...</td>\n",
       "      <td>Unknown</td>\n",
       "      <td>Dog</td>\n",
       "      <td>Spayed Female</td>\n",
       "      <td>7 years</td>\n",
       "      <td>Chihuahua Shorthair Mix</td>\n",
       "      <td>Black/White</td>\n",
       "      <td>2647.0</td>\n",
       "      <td>1.0</td>\n",
       "      <td>both</td>\n",
       "      <td>88.233333</td>\n",
       "    </tr>\n",
       "    <tr>\n",
       "      <th>138166</th>\n",
       "      <td>138166</td>\n",
       "      <td>A8551981</td>\n",
       "      <td>A855198</td>\n",
       "      <td>2022-04-14 18:01:00</td>\n",
       "      <td>April 2022</td>\n",
       "      <td>Austin (TX)</td>\n",
       "      <td>Owner Surrender</td>\n",
       "      <td>Normal</td>\n",
       "      <td>Dog</td>\n",
       "      <td>Neutered Male</td>\n",
       "      <td>...</td>\n",
       "      <td>Unknown</td>\n",
       "      <td>Dog</td>\n",
       "      <td>Neutered Male</td>\n",
       "      <td>2 years</td>\n",
       "      <td>Labrador Retriever Mix</td>\n",
       "      <td>Black/White</td>\n",
       "      <td>732.0</td>\n",
       "      <td>1.0</td>\n",
       "      <td>both</td>\n",
       "      <td>24.400000</td>\n",
       "    </tr>\n",
       "    <tr>\n",
       "      <th>138188</th>\n",
       "      <td>138188</td>\n",
       "      <td>A8552751</td>\n",
       "      <td>A855275</td>\n",
       "      <td>2022-04-15 12:31:00</td>\n",
       "      <td>April 2022</td>\n",
       "      <td>Austin (TX)</td>\n",
       "      <td>Owner Surrender</td>\n",
       "      <td>Normal</td>\n",
       "      <td>Dog</td>\n",
       "      <td>Intact Female</td>\n",
       "      <td>...</td>\n",
       "      <td>Unknown</td>\n",
       "      <td>Dog</td>\n",
       "      <td>Spayed Female</td>\n",
       "      <td>2 months</td>\n",
       "      <td>Labrador Retriever Mix</td>\n",
       "      <td>Brown Brindle/White</td>\n",
       "      <td>69.0</td>\n",
       "      <td>1.0</td>\n",
       "      <td>both</td>\n",
       "      <td>2.300000</td>\n",
       "    </tr>\n",
       "    <tr>\n",
       "      <th>138191</th>\n",
       "      <td>138191</td>\n",
       "      <td>A8552791</td>\n",
       "      <td>A855279</td>\n",
       "      <td>2022-04-15 12:31:00</td>\n",
       "      <td>April 2022</td>\n",
       "      <td>Austin (TX)</td>\n",
       "      <td>Owner Surrender</td>\n",
       "      <td>Normal</td>\n",
       "      <td>Dog</td>\n",
       "      <td>Intact Female</td>\n",
       "      <td>...</td>\n",
       "      <td>Unknown</td>\n",
       "      <td>Dog</td>\n",
       "      <td>Spayed Female</td>\n",
       "      <td>2 months</td>\n",
       "      <td>Labrador Retriever Mix</td>\n",
       "      <td>Black/White</td>\n",
       "      <td>69.0</td>\n",
       "      <td>1.0</td>\n",
       "      <td>both</td>\n",
       "      <td>2.300000</td>\n",
       "    </tr>\n",
       "  </tbody>\n",
       "</table>\n",
       "<p>62782 rows × 28 columns</p>\n",
       "</div>"
      ],
      "text/plain": [
       "        Unnamed: 0 Animal ID Name_intakes      DateTime_intake  \\\n",
       "13              13  A2009221      A200922  2013-10-03 15:47:00   \n",
       "15              15  A2104571      A210457  2016-09-28 12:05:00   \n",
       "24              24  A2260691      A226069  2015-10-06 12:29:00   \n",
       "34              34  A2490871      A249087  2016-08-17 14:05:00   \n",
       "50              50  A2745461      A274546  2013-11-13 18:16:00   \n",
       "...            ...       ...          ...                  ...   \n",
       "138146      138146  A8551481      A855148  2022-04-14 10:59:00   \n",
       "138151      138151  A8551591      A855159  2022-04-14 13:22:00   \n",
       "138166      138166  A8551981      A855198  2022-04-14 18:01:00   \n",
       "138188      138188  A8552751      A855275  2022-04-15 12:31:00   \n",
       "138191      138191  A8552791      A855279  2022-04-15 12:31:00   \n",
       "\n",
       "       MonthYear_intake                            Found Location  \\\n",
       "13         October 2013                               Austin (TX)   \n",
       "15       September 2016          4424 S Mopac #412 in Austin (TX)   \n",
       "24         October 2015  Wheless Ln And Berkman Dr in Austin (TX)   \n",
       "34          August 2016    E 6Th St And Pedernales in Austin (TX)   \n",
       "50        November 2013     Manchaca And Slaughter in Austin (TX)   \n",
       "...                 ...                                       ...   \n",
       "138146       April 2022                               Austin (TX)   \n",
       "138151       April 2022                               Austin (TX)   \n",
       "138166       April 2022                               Austin (TX)   \n",
       "138188       April 2022                               Austin (TX)   \n",
       "138191       April 2022                               Austin (TX)   \n",
       "\n",
       "            Intake Type Intake Condition Animal Type_intake Sex upon Intake  \\\n",
       "13      Owner Surrender           Normal                Dog   Neutered Male   \n",
       "15        Public Assist             Aged                Dog   Neutered Male   \n",
       "24                Stray           Normal                Dog   Neutered Male   \n",
       "34                Stray           Normal                Dog   Spayed Female   \n",
       "50                Stray           Normal                Dog   Spayed Female   \n",
       "...                 ...              ...                ...             ...   \n",
       "138146  Owner Surrender           Normal                Dog   Intact Female   \n",
       "138151  Owner Surrender           Normal                Dog   Spayed Female   \n",
       "138166  Owner Surrender           Normal                Dog   Neutered Male   \n",
       "138188  Owner Surrender           Normal                Dog   Intact Female   \n",
       "138191  Owner Surrender           Normal                Dog   Intact Female   \n",
       "\n",
       "        ... Outcome Subtype Animal Type_outcomes Sex upon Outcome  \\\n",
       "13      ...          Foster                  Dog    Neutered Male   \n",
       "15      ...          Foster                  Dog    Neutered Male   \n",
       "24      ...          Foster                  Dog    Neutered Male   \n",
       "34      ...          Foster                  Dog    Spayed Female   \n",
       "50      ...         Unknown                  Dog    Spayed Female   \n",
       "...     ...             ...                  ...              ...   \n",
       "138146  ...         Unknown                  Dog    Spayed Female   \n",
       "138151  ...         Unknown                  Dog    Spayed Female   \n",
       "138166  ...         Unknown                  Dog    Neutered Male   \n",
       "138188  ...         Unknown                  Dog    Spayed Female   \n",
       "138191  ...         Unknown                  Dog    Spayed Female   \n",
       "\n",
       "       Age upon Outcome             Breed_outcomes       Color_outcomes  \\\n",
       "13             16 years              Dachshund Mix            Black/Tan   \n",
       "15             17 years        Chihuahua Shorthair            Tan/Black   \n",
       "24             15 years  Labrador Retriever/Beagle          Sable/White   \n",
       "34             15 years        German Shepherd Mix          Black/Brown   \n",
       "50             11 years                Pointer Mix             Tricolor   \n",
       "...                 ...                        ...                  ...   \n",
       "138146           1 year        Chihuahua Shorthair                Brown   \n",
       "138151          7 years    Chihuahua Shorthair Mix          Black/White   \n",
       "138166          2 years     Labrador Retriever Mix          Black/White   \n",
       "138188         2 months     Labrador Retriever Mix  Brown Brindle/White   \n",
       "138191         2 months     Labrador Retriever Mix          Black/White   \n",
       "\n",
       "           age  seq indicator_col       age_t  \n",
       "13      5894.0  1.0          both  196.466667  \n",
       "15      6338.0  1.0          both  211.266667  \n",
       "24      5612.0  1.0          both  187.066667  \n",
       "34      5796.0  1.0          both  193.200000  \n",
       "50      4193.0  1.0          both  139.766667  \n",
       "...        ...  ...           ...         ...  \n",
       "138146   366.0  1.0          both   12.200000  \n",
       "138151  2647.0  1.0          both   88.233333  \n",
       "138166   732.0  1.0          both   24.400000  \n",
       "138188    69.0  1.0          both    2.300000  \n",
       "138191    69.0  1.0          both    2.300000  \n",
       "\n",
       "[62782 rows x 28 columns]"
      ]
     },
     "execution_count": 35,
     "metadata": {},
     "output_type": "execute_result"
    }
   ],
   "source": [
    "cd=df[df[\"Outcome Type\"]==\"Adoption\"]\n",
    "cd"
   ]
  },
  {
   "cell_type": "code",
   "execution_count": 36,
   "id": "45513e41",
   "metadata": {},
   "outputs": [],
   "source": [
    "l=[]\n",
    "for i in df['Sex upon Intake']:\n",
    "    if i==\"Unknown\":\n",
    "        l.append(\"Unknown\")\n",
    "    else:\n",
    "        l.append(i.split(\" \")[1])\n",
    "df['sex']=l"
   ]
  },
  {
   "cell_type": "code",
   "execution_count": 37,
   "id": "c4c80db9",
   "metadata": {},
   "outputs": [
    {
     "name": "stderr",
     "output_type": "stream",
     "text": [
      "<ipython-input-37-8c1b8062be55>:6: UserWarning: FixedFormatter should only be used together with FixedLocator\n",
      "  ax.set_xticklabels(temp['sex'],rotation=45)\n"
     ]
    },
    {
     "data": {
      "text/plain": [
       "Text(0.5, 1.0, 'Which Sex is more likely to get adopted?')"
      ]
     },
     "execution_count": 37,
     "metadata": {},
     "output_type": "execute_result"
    },
    {
     "data": {
      "image/png": "[encoded data removed]",
      "text/plain": [
       "<Figure size 1296x360 with 1 Axes>"
      ]
     },
     "metadata": {
      "needs_background": "light"
     },
     "output_type": "display_data"
    }
   ],
   "source": [
    "temp_df=df[(df[\"Outcome Type\"]==\"Adoption\") & (df['sex']!=\"Unknown\")]\n",
    "cd=temp_df[(temp_df[\"Animal Type_outcomes\"]=='Dog') | (temp_df['Animal Type_outcomes']==\"Cat\")]\n",
    "temp=cd.groupby(['sex'])[['Animal ID']].count().reset_index()\n",
    "temp.rename(columns={'Animal ID':'Count'},inplace=True)\n",
    "f, ax = plt.subplots(figsize=(18,5))\n",
    "ax.set_xticklabels(temp['sex'],rotation=45)\n",
    "x1=temp[temp['sex']=='Female']\n",
    "x2=temp[temp['sex']=='Male']\n",
    "plt.bar(x1['sex'],x1['Count'])\n",
    "plt.bar(x2['sex'],x2['Count'])\n",
    "plt.ylim(20000,40000)\n",
    "plt.legend(temp['sex'].unique())\n",
    "plt.xlabel(\"Sex Upon Intake\",fontsize=16)\n",
    "plt.ylabel('Number of Adoptions',fontsize=16)\n",
    "plt.title(\"Which Sex is more likely to get adopted?\",fontsize=18)"
   ]
  },
  {
   "cell_type": "markdown",
   "id": "3ed41ce4",
   "metadata": {},
   "source": [
    "We see that Females and Males have the approximate same rate of adoption and there is no specific bias among adopters while choosing animals with respect to Sex."
   ]
  },
  {
   "cell_type": "markdown",
   "id": "dd8ed973",
   "metadata": {},
   "source": [
    "### Analytic 8: Hypothesis Testing \n",
    "\n",
    "We perform a two-tailed hypothesis test to understand whether there is any statistical difference in the proportions of dogs getting adopted vs cats. We use the scipy.stats python library for this test"
   ]
  },
  {
   "cell_type": "code",
   "execution_count": 46,
   "id": "b7a9c055",
   "metadata": {},
   "outputs": [],
   "source": [
    "import scipy.stats\n",
    "from scipy.stats import t\n",
    "import math"
   ]
  },
  {
   "cell_type": "code",
   "execution_count": 40,
   "id": "90d7b202",
   "metadata": {},
   "outputs": [],
   "source": [
    "n1=len(df[df['Animal Type_intake']==\"Dog\"])\n",
    "n2=len(df[df['Animal Type_intake']==\"Cat\"])"
   ]
  },
  {
   "cell_type": "code",
   "execution_count": 41,
   "id": "f1bb14ab",
   "metadata": {},
   "outputs": [],
   "source": [
    "t1=len(df[(df['Animal Type_intake']==\"Dog\")&(df['Outcome Type']==\"Adoption\")])\n",
    "t2=len(df[(df['Animal Type_intake']==\"Cat\")&(df['Outcome Type']==\"Adoption\")])"
   ]
  },
  {
   "cell_type": "code",
   "execution_count": 48,
   "id": "d08cbf77",
   "metadata": {},
   "outputs": [
    {
     "name": "stdout",
     "output_type": "stream",
     "text": [
      "0.12958903536552402\n"
     ]
    }
   ],
   "source": [
    "p1=t1/n1\n",
    "p2=t2/n2\n",
    "pcap=(t1+t1)/(n1+n2)\n",
    "se=math.sqrt(pcap*(1-pcap)*((1/n1)+(1/n2)))\n",
    "t_score=(p2-p1)/se\n",
    "degrees_of_freedom=n1+n2-2\n",
    "pvalue=1-scipy.stats.t.cdf(abs(t_score), degrees_of_freedom)\n",
    "print(2*pvalue)"
   ]
  },
  {
   "cell_type": "markdown",
   "id": "1d482fb8",
   "metadata": {},
   "source": [
    "The pvalue obtained is of 0.129 which is much higher than the cutoff of 0.05 at a confidence level of 95%\n",
    "Therefore, we fail to reject the null hypothesis and conclude that there is no evidence of a statistical difference between the proportions of dogs getting adopted vs cats."
   ]
  },
  {
   "cell_type": "code",
   "execution_count": null,
   "id": "0202cc2d",
   "metadata": {},
   "outputs": [],
   "source": []
  }
 ],
 "metadata": {
  "kernelspec": {
   "display_name": "Python 3",
   "language": "python",
   "name": "python3"
  },
  "language_info": {
   "codemirror_mode": {
    "name": "ipython",
    "version": 3
   },
   "file_extension": ".py",
   "mimetype": "text/x-python",
   "name": "python",
   "nbconvert_exporter": "python",
   "pygments_lexer": "ipython3",
   "version": "3.8.8"
  }
 },
 "nbformat": 4,
 "nbformat_minor": 5
}
