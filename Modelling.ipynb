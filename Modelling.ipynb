{
 "cells": [
  {
   "cell_type": "code",
   "execution_count": 1,
   "id": "bcf906a9",
   "metadata": {},
   "outputs": [],
   "source": [
    "import pandas as pd\n",
    "import numpy as np"
   ]
  },
  {
   "cell_type": "code",
   "execution_count": 2,
   "id": "aa3aac22",
   "metadata": {},
   "outputs": [],
   "source": [
    "df = pd.read_csv(\"https://raw.githubusercontent.com/laknath123/PDS_final_project_animalshelter/main/data/merged_df.csv\")"
   ]
  },
  {
   "cell_type": "code",
   "execution_count": 3,
   "id": "7781148e",
   "metadata": {},
   "outputs": [
    {
     "data": {
      "text/plain": [
       "Index(['Unnamed: 0', 'Animal ID', 'Name_intakes', 'DateTime_intake',\n",
       "       'MonthYear_intake', 'Found Location', 'Intake Type', 'Intake Condition',\n",
       "       'Animal Type_intake', 'Sex upon Intake', 'Age upon Intake',\n",
       "       'Breed_intake', 'Color_intake', 'Name_outcomes', 'DateTime_outcomes',\n",
       "       'MonthYear_outcomes', 'Date of Birth', 'Outcome Type',\n",
       "       'Outcome Subtype', 'Animal Type_outcomes', 'Sex upon Outcome',\n",
       "       'Age upon Outcome', 'Breed_outcomes', 'Color_outcomes', 'age', 'seq',\n",
       "       'indicator_col'],\n",
       "      dtype='object')"
      ]
     },
     "execution_count": 3,
     "metadata": {},
     "output_type": "execute_result"
    }
   ],
   "source": [
    "df.columns"
   ]
  },
  {
   "cell_type": "code",
   "execution_count": 4,
   "id": "aac38519",
   "metadata": {},
   "outputs": [],
   "source": [
    "df = df[(df['indicator_col']=='both')] # get a df of values that contain an outcome so we have a label"
   ]
  },
  {
   "cell_type": "code",
   "execution_count": null,
   "id": "450a95ac",
   "metadata": {},
   "outputs": [],
   "source": []
  },
  {
   "cell_type": "code",
   "execution_count": null,
   "id": "62846a11",
   "metadata": {},
   "outputs": [],
   "source": []
  },
  {
   "cell_type": "code",
   "execution_count": null,
   "id": "fea2ebbe",
   "metadata": {},
   "outputs": [],
   "source": []
  },
  {
   "cell_type": "code",
   "execution_count": 5,
   "id": "afa97421",
   "metadata": {
    "scrolled": false
   },
   "outputs": [
    {
     "data": {
      "text/plain": [
       "Index(['Unnamed: 0', 'Animal ID', 'Name_intakes', 'DateTime_intake',\n",
       "       'MonthYear_intake', 'Found Location', 'Intake Type', 'Intake Condition',\n",
       "       'Animal Type_intake', 'Sex upon Intake', 'Age upon Intake',\n",
       "       'Breed_intake', 'Color_intake', 'Name_outcomes', 'DateTime_outcomes',\n",
       "       'MonthYear_outcomes', 'Date of Birth', 'Outcome Type',\n",
       "       'Outcome Subtype', 'Animal Type_outcomes', 'Sex upon Outcome',\n",
       "       'Age upon Outcome', 'Breed_outcomes', 'Color_outcomes', 'age', 'seq',\n",
       "       'indicator_col'],\n",
       "      dtype='object')"
      ]
     },
     "execution_count": 5,
     "metadata": {},
     "output_type": "execute_result"
    }
   ],
   "source": [
    "df.columns"
   ]
  },
  {
   "cell_type": "markdown",
   "id": "6c86ead1",
   "metadata": {},
   "source": [
    "# Dataset for Building Logistic Regression Classifier"
   ]
  },
  {
   "cell_type": "code",
   "execution_count": 6,
   "id": "3df0d896",
   "metadata": {},
   "outputs": [],
   "source": [
    "df_unscaled = df[['Animal ID','Intake Type','Sex upon Intake',\n",
    "     'Intake Condition','Breed_intake','age','Outcome Type']]"
   ]
  },
  {
   "cell_type": "code",
   "execution_count": 7,
   "id": "e5e4cfd4",
   "metadata": {},
   "outputs": [
    {
     "data": {
      "text/html": [
       "<div>\n",
       "<style scoped>\n",
       "    .dataframe tbody tr th:only-of-type {\n",
       "        vertical-align: middle;\n",
       "    }\n",
       "\n",
       "    .dataframe tbody tr th {\n",
       "        vertical-align: top;\n",
       "    }\n",
       "\n",
       "    .dataframe thead th {\n",
       "        text-align: right;\n",
       "    }\n",
       "</style>\n",
       "<table border=\"1\" class=\"dataframe\">\n",
       "  <thead>\n",
       "    <tr style=\"text-align: right;\">\n",
       "      <th></th>\n",
       "      <th>Animal ID</th>\n",
       "      <th>Intake Type</th>\n",
       "      <th>Sex upon Intake</th>\n",
       "      <th>Intake Condition</th>\n",
       "      <th>Breed_intake</th>\n",
       "      <th>age</th>\n",
       "      <th>Outcome Type</th>\n",
       "    </tr>\n",
       "  </thead>\n",
       "  <tbody>\n",
       "    <tr>\n",
       "      <th>0</th>\n",
       "      <td>A0061001</td>\n",
       "      <td>Public Assist</td>\n",
       "      <td>Neutered Male</td>\n",
       "      <td>Normal</td>\n",
       "      <td>Spinone Italiano Mix</td>\n",
       "      <td>2434.0</td>\n",
       "      <td>Return to Owner</td>\n",
       "    </tr>\n",
       "    <tr>\n",
       "      <th>1</th>\n",
       "      <td>A0061002</td>\n",
       "      <td>Public Assist</td>\n",
       "      <td>Neutered Male</td>\n",
       "      <td>Normal</td>\n",
       "      <td>Spinone Italiano Mix</td>\n",
       "      <td>2721.0</td>\n",
       "      <td>Return to Owner</td>\n",
       "    </tr>\n",
       "    <tr>\n",
       "      <th>2</th>\n",
       "      <td>A0061003</td>\n",
       "      <td>Stray</td>\n",
       "      <td>Neutered Male</td>\n",
       "      <td>Normal</td>\n",
       "      <td>Spinone Italiano Mix</td>\n",
       "      <td>3804.0</td>\n",
       "      <td>Return to Owner</td>\n",
       "    </tr>\n",
       "    <tr>\n",
       "      <th>3</th>\n",
       "      <td>A0477591</td>\n",
       "      <td>Owner Surrender</td>\n",
       "      <td>Neutered Male</td>\n",
       "      <td>Normal</td>\n",
       "      <td>Dachshund</td>\n",
       "      <td>3657.0</td>\n",
       "      <td>Transfer</td>\n",
       "    </tr>\n",
       "    <tr>\n",
       "      <th>4</th>\n",
       "      <td>A1340671</td>\n",
       "      <td>Public Assist</td>\n",
       "      <td>Neutered Male</td>\n",
       "      <td>Injured</td>\n",
       "      <td>Shetland Sheepdog</td>\n",
       "      <td>5875.0</td>\n",
       "      <td>Return to Owner</td>\n",
       "    </tr>\n",
       "  </tbody>\n",
       "</table>\n",
       "</div>"
      ],
      "text/plain": [
       "  Animal ID      Intake Type Sex upon Intake Intake Condition  \\\n",
       "0  A0061001    Public Assist   Neutered Male           Normal   \n",
       "1  A0061002    Public Assist   Neutered Male           Normal   \n",
       "2  A0061003            Stray   Neutered Male           Normal   \n",
       "3  A0477591  Owner Surrender   Neutered Male           Normal   \n",
       "4  A1340671    Public Assist   Neutered Male          Injured   \n",
       "\n",
       "           Breed_intake     age     Outcome Type  \n",
       "0  Spinone Italiano Mix  2434.0  Return to Owner  \n",
       "1  Spinone Italiano Mix  2721.0  Return to Owner  \n",
       "2  Spinone Italiano Mix  3804.0  Return to Owner  \n",
       "3             Dachshund  3657.0         Transfer  \n",
       "4     Shetland Sheepdog  5875.0  Return to Owner  "
      ]
     },
     "execution_count": 7,
     "metadata": {},
     "output_type": "execute_result"
    }
   ],
   "source": [
    "df_unscaled.head()"
   ]
  },
  {
   "cell_type": "code",
   "execution_count": 8,
   "id": "a13d3c55",
   "metadata": {},
   "outputs": [
    {
     "data": {
      "text/plain": [
       "0"
      ]
     },
     "execution_count": 8,
     "metadata": {},
     "output_type": "execute_result"
    }
   ],
   "source": [
    "df_unscaled['age'].isnull().sum()"
   ]
  },
  {
   "cell_type": "code",
   "execution_count": 9,
   "id": "a757b9c3",
   "metadata": {},
   "outputs": [],
   "source": [
    "# Creating a binary outcome label for the outcome type columns\n",
    "def label_creation(x):\n",
    "    if x=='Adoption':\n",
    "        return(1)\n",
    "    else:\n",
    "        return(0)"
   ]
  },
  {
   "cell_type": "code",
   "execution_count": 10,
   "id": "80f0cc0c",
   "metadata": {
    "scrolled": true
   },
   "outputs": [
    {
     "name": "stderr",
     "output_type": "stream",
     "text": [
      "C:\\Users\\lakna\\anaconda3\\lib\\site-packages\\ipykernel_launcher.py:1: SettingWithCopyWarning: \n",
      "A value is trying to be set on a copy of a slice from a DataFrame.\n",
      "Try using .loc[row_indexer,col_indexer] = value instead\n",
      "\n",
      "See the caveats in the documentation: https://pandas.pydata.org/pandas-docs/stable/user_guide/indexing.html#returning-a-view-versus-a-copy\n",
      "  \"\"\"Entry point for launching an IPython kernel.\n"
     ]
    }
   ],
   "source": [
    "df_unscaled['Outcome Type']= df_unscaled['Outcome Type'].apply(label_creation)"
   ]
  },
  {
   "cell_type": "code",
   "execution_count": 11,
   "id": "a3da64dd",
   "metadata": {},
   "outputs": [],
   "source": [
    "intake_cat= df_unscaled[['Intake Type']]\n",
    "sex_cat = df_unscaled[['Sex upon Intake']]\n",
    "condition_cat = df_unscaled[['Intake Condition']]\n",
    "breed_cat = df_unscaled[['Breed_intake']]\n",
    "age_num = df_unscaled[['age']]"
   ]
  },
  {
   "cell_type": "code",
   "execution_count": 12,
   "id": "9ff4f0dc",
   "metadata": {},
   "outputs": [],
   "source": [
    "from sklearn.preprocessing import OneHotEncoder\n",
    "from sklearn.preprocessing import StandardScaler\n",
    "encoder = OneHotEncoder()\n",
    "scaler = StandardScaler()\n",
    "\n",
    "intake_1hot= encoder.fit_transform(intake_cat)\n",
    "sex_1hot = encoder.fit_transform(sex_cat)\n",
    "cond_1hot = encoder.fit_transform(condition_cat)\n",
    "breed_1hot = encoder.fit_transform(breed_cat)\n",
    "age_std = scaler.fit_transform(age_num)"
   ]
  },
  {
   "cell_type": "code",
   "execution_count": 30,
   "id": "72eb6232",
   "metadata": {},
   "outputs": [],
   "source": [
    "from scipy.sparse import hstack\n",
    "#data = hstack((intake_1hot,sex_1hot,cond_1hot,age_std))\n",
    "data = hstack((intake_1hot,sex_1hot,age_std))"
   ]
  },
  {
   "cell_type": "code",
   "execution_count": 31,
   "id": "cdfdff3f",
   "metadata": {},
   "outputs": [],
   "source": [
    "X,y = data.toarray(),df_unscaled['Outcome Type']"
   ]
  },
  {
   "cell_type": "code",
   "execution_count": 32,
   "id": "35b47f0c",
   "metadata": {},
   "outputs": [],
   "source": [
    "from sklearn.model_selection import train_test_split\n",
    "X_train, X_test, y_train, y_test = train_test_split(X, y, test_size=0.33, random_state=42)"
   ]
  },
  {
   "cell_type": "code",
   "execution_count": 39,
   "id": "36ad0748",
   "metadata": {},
   "outputs": [],
   "source": [
    "from sklearn.linear_model import LogisticRegression\n",
    "\n",
    "log_clf = LogisticRegression(max_iter=500)\n",
    "log_clf = log_clf.fit(X_train, y_train)"
   ]
  },
  {
   "cell_type": "code",
   "execution_count": 40,
   "id": "e74c4e77",
   "metadata": {},
   "outputs": [
    {
     "data": {
      "text/plain": [
       "array([0.00139287, 0.4873883 , 0.36617996, ..., 0.52794799, 0.3516417 ,\n",
       "       0.50981948])"
      ]
     },
     "execution_count": 40,
     "metadata": {},
     "output_type": "execute_result"
    }
   ],
   "source": [
    "log_clf.predict_proba(X_test)[:,1]"
   ]
  },
  {
   "cell_type": "code",
   "execution_count": 41,
   "id": "c69281c4",
   "metadata": {
    "scrolled": true
   },
   "outputs": [
    {
     "data": {
      "text/plain": [
       "array([[0.99860836, 0.00139164],\n",
       "       [0.45464115, 0.54535885],\n",
       "       [0.56794818, 0.43205182],\n",
       "       ...,\n",
       "       [0.96193612, 0.03806388],\n",
       "       [0.77452332, 0.22547668],\n",
       "       [0.46127521, 0.53872479]])"
      ]
     },
     "execution_count": 41,
     "metadata": {},
     "output_type": "execute_result"
    }
   ],
   "source": [
    "log_clf.predict_proba(X_train) # Predict on the validation set"
   ]
  },
  {
   "cell_type": "code",
   "execution_count": 42,
   "id": "a75c2ac7",
   "metadata": {},
   "outputs": [],
   "source": [
    "from sklearn.model_selection import cross_val_predict\n",
    "\n",
    "y_train_pred = cross_val_predict(log_clf, X_train, y_train, cv=3)"
   ]
  },
  {
   "cell_type": "code",
   "execution_count": null,
   "id": "df92701d",
   "metadata": {
    "scrolled": true
   },
   "outputs": [],
   "source": []
  },
  {
   "cell_type": "code",
   "execution_count": null,
   "id": "7af9080d",
   "metadata": {},
   "outputs": [],
   "source": []
  },
  {
   "cell_type": "code",
   "execution_count": null,
   "id": "dff30303",
   "metadata": {},
   "outputs": [],
   "source": []
  },
  {
   "cell_type": "code",
   "execution_count": null,
   "id": "d9a2fa7b",
   "metadata": {},
   "outputs": [],
   "source": []
  },
  {
   "cell_type": "code",
   "execution_count": null,
   "id": "38932118",
   "metadata": {},
   "outputs": [],
   "source": []
  },
  {
   "cell_type": "code",
   "execution_count": 20,
   "id": "027e1541",
   "metadata": {},
   "outputs": [],
   "source": [
    "#Each columns of this matrix represents a predicted label\n",
    "#                            col 1 = predicted not adopted | col 2 = predicted adopted\n",
    "# row 1 - actual not adopted        34199                  |     15699\n",
    "# row 2 - actual adopted            21643                  |     20473"
   ]
  },
  {
   "cell_type": "code",
   "execution_count": 43,
   "id": "b34b9ce2",
   "metadata": {},
   "outputs": [
    {
     "data": {
      "text/plain": [
       "array([[28798, 21100],\n",
       "       [10911, 31205]], dtype=int64)"
      ]
     },
     "execution_count": 43,
     "metadata": {},
     "output_type": "execute_result"
    }
   ],
   "source": [
    "from sklearn.metrics import confusion_matrix\n",
    "confusion_matrix(y_train, y_train_pred)\n"
   ]
  },
  {
   "cell_type": "code",
   "execution_count": 44,
   "id": "4457fe35",
   "metadata": {},
   "outputs": [
    {
     "data": {
      "text/plain": [
       "0.5965968836631297"
      ]
     },
     "execution_count": 44,
     "metadata": {},
     "output_type": "execute_result"
    }
   ],
   "source": [
    "from sklearn.metrics import precision_score, recall_score\n",
    "precision_score(y_train, y_train_pred)"
   ]
  }
 ],
 "metadata": {
  "kernelspec": {
   "display_name": "Python 3 (ipykernel)",
   "language": "python",
   "name": "python3"
  },
  "language_info": {
   "codemirror_mode": {
    "name": "ipython",
    "version": 3
   },
   "file_extension": ".py",
   "mimetype": "text/x-python",
   "name": "python",
   "nbconvert_exporter": "python",
   "pygments_lexer": "ipython3",
   "version": "3.7.6"
  }
 },
 "nbformat": 4,
 "nbformat_minor": 5
}
