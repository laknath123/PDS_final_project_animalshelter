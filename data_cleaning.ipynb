{
 "cells": [
  {
   "cell_type": "code",
   "execution_count": 1,
   "id": "a0ec8b7b",
   "metadata": {},
   "outputs": [],
   "source": [
    "import pandas as pd\n",
    "import numpy as np"
   ]
  },
  {
   "cell_type": "markdown",
   "id": "7ec99673",
   "metadata": {},
   "source": [
    "### Load Data"
   ]
  },
  {
   "cell_type": "code",
   "execution_count": 2,
   "id": "6116ee72",
   "metadata": {},
   "outputs": [],
   "source": [
    "df_intakes = pd.read_csv(\"https://raw.githubusercontent.com/laknath123/PDS_final_project_animalshelter/main/data/Austin_Animal_Center_Intakes.csv\")\n",
    "df_outcomes = pd.read_csv(\"https://raw.githubusercontent.com/laknath123/PDS_final_project_animalshelter/main/data/Austin_Animal_Center_Outcomes%20(1).csv\")"
   ]
  },
  {
   "cell_type": "code",
   "execution_count": 3,
   "id": "1ec85a84",
   "metadata": {
    "scrolled": false
   },
   "outputs": [
    {
     "data": {
      "text/html": [
       "<div>\n",
       "<style scoped>\n",
       "    .dataframe tbody tr th:only-of-type {\n",
       "        vertical-align: middle;\n",
       "    }\n",
       "\n",
       "    .dataframe tbody tr th {\n",
       "        vertical-align: top;\n",
       "    }\n",
       "\n",
       "    .dataframe thead th {\n",
       "        text-align: right;\n",
       "    }\n",
       "</style>\n",
       "<table border=\"1\" class=\"dataframe\">\n",
       "  <thead>\n",
       "    <tr style=\"text-align: right;\">\n",
       "      <th></th>\n",
       "      <th>Animal ID</th>\n",
       "      <th>Name</th>\n",
       "      <th>DateTime</th>\n",
       "      <th>MonthYear</th>\n",
       "      <th>Found Location</th>\n",
       "      <th>Intake Type</th>\n",
       "      <th>Intake Condition</th>\n",
       "      <th>Animal Type</th>\n",
       "      <th>Sex upon Intake</th>\n",
       "      <th>Age upon Intake</th>\n",
       "      <th>Breed</th>\n",
       "      <th>Color</th>\n",
       "    </tr>\n",
       "  </thead>\n",
       "  <tbody>\n",
       "    <tr>\n",
       "      <th>0</th>\n",
       "      <td>A786884</td>\n",
       "      <td>*Brock</td>\n",
       "      <td>01/03/2019 04:19:00 PM</td>\n",
       "      <td>January 2019</td>\n",
       "      <td>2501 Magin Meadow Dr in Austin (TX)</td>\n",
       "      <td>Stray</td>\n",
       "      <td>Normal</td>\n",
       "      <td>Dog</td>\n",
       "      <td>Neutered Male</td>\n",
       "      <td>2 years</td>\n",
       "      <td>Beagle Mix</td>\n",
       "      <td>Tricolor</td>\n",
       "    </tr>\n",
       "    <tr>\n",
       "      <th>1</th>\n",
       "      <td>A706918</td>\n",
       "      <td>Belle</td>\n",
       "      <td>07/05/2015 12:59:00 PM</td>\n",
       "      <td>July 2015</td>\n",
       "      <td>9409 Bluegrass Dr in Austin (TX)</td>\n",
       "      <td>Stray</td>\n",
       "      <td>Normal</td>\n",
       "      <td>Dog</td>\n",
       "      <td>Spayed Female</td>\n",
       "      <td>8 years</td>\n",
       "      <td>English Springer Spaniel</td>\n",
       "      <td>White/Liver</td>\n",
       "    </tr>\n",
       "    <tr>\n",
       "      <th>2</th>\n",
       "      <td>A724273</td>\n",
       "      <td>Runster</td>\n",
       "      <td>04/14/2016 06:43:00 PM</td>\n",
       "      <td>April 2016</td>\n",
       "      <td>2818 Palomino Trail in Austin (TX)</td>\n",
       "      <td>Stray</td>\n",
       "      <td>Normal</td>\n",
       "      <td>Dog</td>\n",
       "      <td>Intact Male</td>\n",
       "      <td>11 months</td>\n",
       "      <td>Basenji Mix</td>\n",
       "      <td>Sable/White</td>\n",
       "    </tr>\n",
       "    <tr>\n",
       "      <th>3</th>\n",
       "      <td>A665644</td>\n",
       "      <td>NaN</td>\n",
       "      <td>10/21/2013 07:59:00 AM</td>\n",
       "      <td>October 2013</td>\n",
       "      <td>Austin (TX)</td>\n",
       "      <td>Stray</td>\n",
       "      <td>Sick</td>\n",
       "      <td>Cat</td>\n",
       "      <td>Intact Female</td>\n",
       "      <td>4 weeks</td>\n",
       "      <td>Domestic Shorthair Mix</td>\n",
       "      <td>Calico</td>\n",
       "    </tr>\n",
       "    <tr>\n",
       "      <th>4</th>\n",
       "      <td>A682524</td>\n",
       "      <td>Rio</td>\n",
       "      <td>06/29/2014 10:38:00 AM</td>\n",
       "      <td>June 2014</td>\n",
       "      <td>800 Grove Blvd in Austin (TX)</td>\n",
       "      <td>Stray</td>\n",
       "      <td>Normal</td>\n",
       "      <td>Dog</td>\n",
       "      <td>Neutered Male</td>\n",
       "      <td>4 years</td>\n",
       "      <td>Doberman Pinsch/Australian Cattle Dog</td>\n",
       "      <td>Tan/Gray</td>\n",
       "    </tr>\n",
       "  </tbody>\n",
       "</table>\n",
       "</div>"
      ],
      "text/plain": [
       "  Animal ID     Name                DateTime     MonthYear  \\\n",
       "0   A786884   *Brock  01/03/2019 04:19:00 PM  January 2019   \n",
       "1   A706918    Belle  07/05/2015 12:59:00 PM     July 2015   \n",
       "2   A724273  Runster  04/14/2016 06:43:00 PM    April 2016   \n",
       "3   A665644      NaN  10/21/2013 07:59:00 AM  October 2013   \n",
       "4   A682524      Rio  06/29/2014 10:38:00 AM     June 2014   \n",
       "\n",
       "                        Found Location Intake Type Intake Condition  \\\n",
       "0  2501 Magin Meadow Dr in Austin (TX)       Stray           Normal   \n",
       "1     9409 Bluegrass Dr in Austin (TX)       Stray           Normal   \n",
       "2   2818 Palomino Trail in Austin (TX)       Stray           Normal   \n",
       "3                          Austin (TX)       Stray             Sick   \n",
       "4        800 Grove Blvd in Austin (TX)       Stray           Normal   \n",
       "\n",
       "  Animal Type Sex upon Intake Age upon Intake  \\\n",
       "0         Dog   Neutered Male         2 years   \n",
       "1         Dog   Spayed Female         8 years   \n",
       "2         Dog     Intact Male       11 months   \n",
       "3         Cat   Intact Female         4 weeks   \n",
       "4         Dog   Neutered Male         4 years   \n",
       "\n",
       "                                   Breed        Color  \n",
       "0                             Beagle Mix     Tricolor  \n",
       "1               English Springer Spaniel  White/Liver  \n",
       "2                            Basenji Mix  Sable/White  \n",
       "3                 Domestic Shorthair Mix       Calico  \n",
       "4  Doberman Pinsch/Australian Cattle Dog     Tan/Gray  "
      ]
     },
     "execution_count": 3,
     "metadata": {},
     "output_type": "execute_result"
    }
   ],
   "source": [
    "df_intakes.head()"
   ]
  },
  {
   "cell_type": "code",
   "execution_count": 4,
   "id": "1f63e51d",
   "metadata": {
    "scrolled": false
   },
   "outputs": [
    {
     "data": {
      "text/html": [
       "<div>\n",
       "<style scoped>\n",
       "    .dataframe tbody tr th:only-of-type {\n",
       "        vertical-align: middle;\n",
       "    }\n",
       "\n",
       "    .dataframe tbody tr th {\n",
       "        vertical-align: top;\n",
       "    }\n",
       "\n",
       "    .dataframe thead th {\n",
       "        text-align: right;\n",
       "    }\n",
       "</style>\n",
       "<table border=\"1\" class=\"dataframe\">\n",
       "  <thead>\n",
       "    <tr style=\"text-align: right;\">\n",
       "      <th></th>\n",
       "      <th>Animal ID</th>\n",
       "      <th>Name</th>\n",
       "      <th>DateTime</th>\n",
       "      <th>MonthYear</th>\n",
       "      <th>Date of Birth</th>\n",
       "      <th>Outcome Type</th>\n",
       "      <th>Outcome Subtype</th>\n",
       "      <th>Animal Type</th>\n",
       "      <th>Sex upon Outcome</th>\n",
       "      <th>Age upon Outcome</th>\n",
       "      <th>Breed</th>\n",
       "      <th>Color</th>\n",
       "    </tr>\n",
       "  </thead>\n",
       "  <tbody>\n",
       "    <tr>\n",
       "      <th>0</th>\n",
       "      <td>A794011</td>\n",
       "      <td>Chunk</td>\n",
       "      <td>05/08/2019 06:20:00 PM</td>\n",
       "      <td>May 2019</td>\n",
       "      <td>05/02/2017</td>\n",
       "      <td>Rto-Adopt</td>\n",
       "      <td>NaN</td>\n",
       "      <td>Cat</td>\n",
       "      <td>Neutered Male</td>\n",
       "      <td>2 years</td>\n",
       "      <td>Domestic Shorthair Mix</td>\n",
       "      <td>Brown Tabby/White</td>\n",
       "    </tr>\n",
       "    <tr>\n",
       "      <th>1</th>\n",
       "      <td>A776359</td>\n",
       "      <td>Gizmo</td>\n",
       "      <td>07/18/2018 04:02:00 PM</td>\n",
       "      <td>Jul 2018</td>\n",
       "      <td>07/12/2017</td>\n",
       "      <td>Adoption</td>\n",
       "      <td>NaN</td>\n",
       "      <td>Dog</td>\n",
       "      <td>Neutered Male</td>\n",
       "      <td>1 year</td>\n",
       "      <td>Chihuahua Shorthair Mix</td>\n",
       "      <td>White/Brown</td>\n",
       "    </tr>\n",
       "    <tr>\n",
       "      <th>2</th>\n",
       "      <td>A821648</td>\n",
       "      <td>NaN</td>\n",
       "      <td>08/16/2020 11:38:00 AM</td>\n",
       "      <td>Aug 2020</td>\n",
       "      <td>08/16/2019</td>\n",
       "      <td>Euthanasia</td>\n",
       "      <td>NaN</td>\n",
       "      <td>Other</td>\n",
       "      <td>Unknown</td>\n",
       "      <td>1 year</td>\n",
       "      <td>Raccoon</td>\n",
       "      <td>Gray</td>\n",
       "    </tr>\n",
       "    <tr>\n",
       "      <th>3</th>\n",
       "      <td>A720371</td>\n",
       "      <td>Moose</td>\n",
       "      <td>02/13/2016 05:59:00 PM</td>\n",
       "      <td>Feb 2016</td>\n",
       "      <td>10/08/2015</td>\n",
       "      <td>Adoption</td>\n",
       "      <td>NaN</td>\n",
       "      <td>Dog</td>\n",
       "      <td>Neutered Male</td>\n",
       "      <td>4 months</td>\n",
       "      <td>Anatol Shepherd/Labrador Retriever</td>\n",
       "      <td>Buff</td>\n",
       "    </tr>\n",
       "    <tr>\n",
       "      <th>4</th>\n",
       "      <td>A674754</td>\n",
       "      <td>NaN</td>\n",
       "      <td>03/18/2014 11:47:00 AM</td>\n",
       "      <td>Mar 2014</td>\n",
       "      <td>03/12/2014</td>\n",
       "      <td>Transfer</td>\n",
       "      <td>Partner</td>\n",
       "      <td>Cat</td>\n",
       "      <td>Intact Male</td>\n",
       "      <td>6 days</td>\n",
       "      <td>Domestic Shorthair Mix</td>\n",
       "      <td>Orange Tabby</td>\n",
       "    </tr>\n",
       "  </tbody>\n",
       "</table>\n",
       "</div>"
      ],
      "text/plain": [
       "  Animal ID   Name                DateTime MonthYear Date of Birth  \\\n",
       "0   A794011  Chunk  05/08/2019 06:20:00 PM  May 2019    05/02/2017   \n",
       "1   A776359  Gizmo  07/18/2018 04:02:00 PM  Jul 2018    07/12/2017   \n",
       "2   A821648    NaN  08/16/2020 11:38:00 AM  Aug 2020    08/16/2019   \n",
       "3   A720371  Moose  02/13/2016 05:59:00 PM  Feb 2016    10/08/2015   \n",
       "4   A674754    NaN  03/18/2014 11:47:00 AM  Mar 2014    03/12/2014   \n",
       "\n",
       "  Outcome Type Outcome Subtype Animal Type Sex upon Outcome Age upon Outcome  \\\n",
       "0    Rto-Adopt             NaN         Cat    Neutered Male          2 years   \n",
       "1     Adoption             NaN         Dog    Neutered Male           1 year   \n",
       "2   Euthanasia             NaN       Other          Unknown           1 year   \n",
       "3     Adoption             NaN         Dog    Neutered Male         4 months   \n",
       "4     Transfer         Partner         Cat      Intact Male           6 days   \n",
       "\n",
       "                                Breed              Color  \n",
       "0              Domestic Shorthair Mix  Brown Tabby/White  \n",
       "1             Chihuahua Shorthair Mix        White/Brown  \n",
       "2                             Raccoon               Gray  \n",
       "3  Anatol Shepherd/Labrador Retriever               Buff  \n",
       "4              Domestic Shorthair Mix       Orange Tabby  "
      ]
     },
     "execution_count": 4,
     "metadata": {},
     "output_type": "execute_result"
    }
   ],
   "source": [
    "df_outcomes.head()"
   ]
  },
  {
   "cell_type": "markdown",
   "id": "d0efcaff",
   "metadata": {},
   "source": [
    "## Convert Date Columns to Date Format"
   ]
  },
  {
   "cell_type": "markdown",
   "id": "56aa12b0",
   "metadata": {},
   "source": [
    "1. `df_outcomes` dataset convert `DateTime` `Date of Birth` Columns to Date Format\n",
    "2. `df_intake` dataset convert `DateTime`column to date format"
   ]
  },
  {
   "cell_type": "code",
   "execution_count": 5,
   "id": "1be5095a",
   "metadata": {
    "scrolled": true
   },
   "outputs": [],
   "source": [
    "df_intakes['DateTime']=pd.to_datetime(df_intakes['DateTime'])\n",
    "df_outcomes['DateTime']=pd.to_datetime(df_outcomes['DateTime'])\n",
    "df_outcomes['Date of Birth']=pd.to_datetime(df_outcomes['Date of Birth'])"
   ]
  },
  {
   "cell_type": "code",
   "execution_count": 6,
   "id": "033b1993",
   "metadata": {},
   "outputs": [],
   "source": [
    "df_outcomes['age'] = df_outcomes['DateTime'] - df_outcomes['Date of Birth']\n",
    "df_outcomes['age'] = df_outcomes['age'].dt.days"
   ]
  },
  {
   "cell_type": "markdown",
   "id": "5bbafd79",
   "metadata": {},
   "source": [
    "## Remove observations where the animals age is incorrect"
   ]
  },
  {
   "cell_type": "code",
   "execution_count": 7,
   "id": "41cc88f9",
   "metadata": {},
   "outputs": [
    {
     "data": {
      "text/plain": [
       "'There are 25 rows where the animal age is incorrect in the outcomes dataset and we removed these'"
      ]
     },
     "execution_count": 7,
     "metadata": {},
     "output_type": "execute_result"
    }
   ],
   "source": [
    "\"\"\"There are {} rows where the animal age is incorrect in the outcomes dataset and we removed these\"\"\".format(df_outcomes[df_outcomes.age<0].shape[0])"
   ]
  },
  {
   "cell_type": "code",
   "execution_count": 8,
   "id": "7ef9f968",
   "metadata": {},
   "outputs": [],
   "source": [
    "df_outcomes = df_outcomes[df_outcomes.age>0]"
   ]
  },
  {
   "cell_type": "code",
   "execution_count": 9,
   "id": "57d735b0",
   "metadata": {},
   "outputs": [
    {
     "data": {
      "text/plain": [
       "'There are 8 rows where the animal age is incorrect in the intakes dataset and we removed these'"
      ]
     },
     "execution_count": 9,
     "metadata": {},
     "output_type": "execute_result"
    }
   ],
   "source": [
    "\"There are {} rows where the animal age is incorrect in the intakes dataset and we removed these\".format(df_intakes[df_intakes['Age upon Intake'].str.match('^-\\d+')].shape[0])"
   ]
  },
  {
   "cell_type": "code",
   "execution_count": 10,
   "id": "a73b45d8",
   "metadata": {},
   "outputs": [],
   "source": [
    "df_intakes= df_intakes[~df_intakes['Age upon Intake'].str.match('^-\\d+')]"
   ]
  },
  {
   "cell_type": "markdown",
   "id": "0afa5485",
   "metadata": {},
   "source": [
    "## Handling Missing Values"
   ]
  },
  {
   "cell_type": "markdown",
   "id": "077b5b2c",
   "metadata": {},
   "source": [
    "### sex upon intake missing values"
   ]
  },
  {
   "cell_type": "code",
   "execution_count": 11,
   "id": "496802ed",
   "metadata": {
    "scrolled": true
   },
   "outputs": [
    {
     "data": {
      "text/plain": [
       "array(['Neutered Male', 'Spayed Female', 'Intact Male', 'Intact Female',\n",
       "       'Unknown', nan], dtype=object)"
      ]
     },
     "execution_count": 11,
     "metadata": {},
     "output_type": "execute_result"
    }
   ],
   "source": [
    "df_intakes['Sex upon Intake'].unique()"
   ]
  },
  {
   "cell_type": "markdown",
   "id": "db7e0b5a",
   "metadata": {},
   "source": [
    "Since `Sex upon Intake` has both missing values and unknown values, we coded missing values as **unknown**"
   ]
  },
  {
   "cell_type": "code",
   "execution_count": 12,
   "id": "134d6f68",
   "metadata": {},
   "outputs": [],
   "source": [
    "df_intakes['Sex upon Intake'] = df_intakes['Sex upon Intake'].fillna(\"Unknown\")"
   ]
  },
  {
   "cell_type": "markdown",
   "id": "789c1728",
   "metadata": {},
   "source": [
    "### Outcome Type  missing values"
   ]
  },
  {
   "cell_type": "markdown",
   "id": "f44f1a05",
   "metadata": {},
   "source": [
    "Since `Outcome Type` is our label, we decided to drop rows where this label was missing. There were 22 rows that were missing"
   ]
  },
  {
   "cell_type": "code",
   "execution_count": 13,
   "id": "7cfd6fdc",
   "metadata": {},
   "outputs": [
    {
     "data": {
      "text/plain": [
       "22"
      ]
     },
     "execution_count": 13,
     "metadata": {},
     "output_type": "execute_result"
    }
   ],
   "source": [
    "df_outcomes['Outcome Type'].isnull().sum()"
   ]
  },
  {
   "cell_type": "code",
   "execution_count": 14,
   "id": "52496b89",
   "metadata": {},
   "outputs": [],
   "source": [
    "df_outcomes= df_outcomes[~df_outcomes['Outcome Type'].isnull()]"
   ]
  },
  {
   "cell_type": "code",
   "execution_count": 15,
   "id": "32bbbc10",
   "metadata": {},
   "outputs": [],
   "source": [
    "# outcome type "
   ]
  },
  {
   "cell_type": "markdown",
   "id": "252a6a55",
   "metadata": {},
   "source": [
    "## Outcome Subtype Missing Values"
   ]
  },
  {
   "cell_type": "code",
   "execution_count": 16,
   "id": "a6be8fb1",
   "metadata": {
    "scrolled": true
   },
   "outputs": [
    {
     "data": {
      "text/plain": [
       "array([nan, 'Partner', 'Foster', 'SCRP', 'Out State', 'Suffering',\n",
       "       'Underage', 'Snr', 'Rabies Risk', 'In Kennel', 'Offsite',\n",
       "       'Aggressive', 'Enroute', 'At Vet', 'In Foster', 'Behavior',\n",
       "       'Medical', 'Field', 'Possible Theft', 'Barn', 'Customer S',\n",
       "       'Court/Investigation', 'Emer', 'In Surgery', 'Prc', 'Emergency',\n",
       "       'In State'], dtype=object)"
      ]
     },
     "execution_count": 16,
     "metadata": {},
     "output_type": "execute_result"
    }
   ],
   "source": [
    "df_outcomes['Outcome Subtype'].unique()"
   ]
  },
  {
   "cell_type": "code",
   "execution_count": 17,
   "id": "893b60ad",
   "metadata": {
    "scrolled": false
   },
   "outputs": [],
   "source": [
    "df_outcomes['Outcome Subtype']= df_outcomes['Outcome Subtype'].fillna(\"Unknown\")"
   ]
  },
  {
   "cell_type": "code",
   "execution_count": 18,
   "id": "4c8eba76",
   "metadata": {},
   "outputs": [
    {
     "data": {
      "text/plain": [
       "Animal ID               0\n",
       "Name                41047\n",
       "DateTime                0\n",
       "MonthYear               0\n",
       "Date of Birth           0\n",
       "Outcome Type            0\n",
       "Outcome Subtype         0\n",
       "Animal Type             0\n",
       "Sex upon Outcome        1\n",
       "Age upon Outcome        3\n",
       "Breed                   0\n",
       "Color                   0\n",
       "age                     0\n",
       "dtype: int64"
      ]
     },
     "execution_count": 18,
     "metadata": {},
     "output_type": "execute_result"
    }
   ],
   "source": [
    "df_outcomes.isnull().sum()"
   ]
  },
  {
   "cell_type": "code",
   "execution_count": 19,
   "id": "68ee71d7",
   "metadata": {},
   "outputs": [
    {
     "data": {
      "text/plain": [
       "Animal ID               0\n",
       "Name                41236\n",
       "DateTime                0\n",
       "MonthYear               0\n",
       "Found Location          0\n",
       "Intake Type             0\n",
       "Intake Condition        0\n",
       "Animal Type             0\n",
       "Sex upon Intake         0\n",
       "Age upon Intake         0\n",
       "Breed                   0\n",
       "Color                   0\n",
       "dtype: int64"
      ]
     },
     "execution_count": 19,
     "metadata": {},
     "output_type": "execute_result"
    }
   ],
   "source": [
    "df_intakes.isnull().sum()"
   ]
  },
  {
   "cell_type": "code",
   "execution_count": 20,
   "id": "f18b080b",
   "metadata": {},
   "outputs": [],
   "source": [
    "df_outcomes['Name']=df_outcomes['Name'].fillna(\"Unknown\")\n",
    "df_intakes['Name']=df_intakes.fillna(\"Unknown\")\n",
    "df_outcomes= df_outcomes[~df_outcomes['Sex upon Outcome'].isnull()]\n",
    "df_outcomes= df_outcomes[~df_outcomes['Age upon Outcome'].isnull()]"
   ]
  },
  {
   "cell_type": "code",
   "execution_count": 21,
   "id": "1ae3de31",
   "metadata": {},
   "outputs": [
    {
     "data": {
      "text/plain": [
       "Animal ID           0\n",
       "Name                0\n",
       "DateTime            0\n",
       "MonthYear           0\n",
       "Date of Birth       0\n",
       "Outcome Type        0\n",
       "Outcome Subtype     0\n",
       "Animal Type         0\n",
       "Sex upon Outcome    0\n",
       "Age upon Outcome    0\n",
       "Breed               0\n",
       "Color               0\n",
       "age                 0\n",
       "dtype: int64"
      ]
     },
     "execution_count": 21,
     "metadata": {},
     "output_type": "execute_result"
    }
   ],
   "source": [
    "df_outcomes.isnull().sum()"
   ]
  },
  {
   "cell_type": "code",
   "execution_count": null,
   "id": "f142bfa0",
   "metadata": {},
   "outputs": [],
   "source": []
  },
  {
   "cell_type": "code",
   "execution_count": null,
   "id": "2ce8a045",
   "metadata": {},
   "outputs": [],
   "source": []
  },
  {
   "cell_type": "code",
   "execution_count": 22,
   "id": "9a2a8cca",
   "metadata": {},
   "outputs": [
    {
     "ename": "NameError",
     "evalue": "name 'temp_intake' is not defined",
     "output_type": "error",
     "traceback": [
      "\u001b[1;31m---------------------------------------------------------------------------\u001b[0m",
      "\u001b[1;31mNameError\u001b[0m                                 Traceback (most recent call last)",
      "\u001b[1;32m~\\AppData\\Local\\Temp\\ipykernel_181116\\2151329259.py\u001b[0m in \u001b[0;36m<module>\u001b[1;34m\u001b[0m\n\u001b[1;32m----> 1\u001b[1;33m \u001b[0mtemp_intake\u001b[0m\u001b[1;33m.\u001b[0m\u001b[0mhead\u001b[0m\u001b[1;33m(\u001b[0m\u001b[1;33m)\u001b[0m\u001b[1;33m\u001b[0m\u001b[1;33m\u001b[0m\u001b[0m\n\u001b[0m",
      "\u001b[1;31mNameError\u001b[0m: name 'temp_intake' is not defined"
     ]
    }
   ],
   "source": [
    "temp_intake.head()"
   ]
  },
  {
   "cell_type": "markdown",
   "id": "affc1c06",
   "metadata": {},
   "source": [
    "## Merging Intake Data with Outcome Data"
   ]
  },
  {
   "cell_type": "markdown",
   "id": "bdef8593",
   "metadata": {},
   "source": [
    "### Issue Identified \n",
    "+ We realized that there is no unique ID in the data set. Even though animal ID seems to be a unique ID, there are instances where animals get returned and reappeak in the dataset.\n",
    "+ Accordingly we created a additional variable called seq and created a new animal ID so that each row is now a unique intake occurence"
   ]
  },
  {
   "cell_type": "code",
   "execution_count": null,
   "id": "585601a6",
   "metadata": {
    "scrolled": true
   },
   "outputs": [],
   "source": [
    "df_intakes = df_intakes.sort_values(['Animal ID','DateTime'])\n",
    "df_intakes['seq']= df_intakes.groupby(['Animal ID']).cumcount()+1\n",
    "df_intakes['Animal ID'] = df_intakes['Animal ID']+df_intakes['seq'].astype('str')"
   ]
  },
  {
   "cell_type": "code",
   "execution_count": null,
   "id": "c9d583b7",
   "metadata": {
    "scrolled": true
   },
   "outputs": [],
   "source": [
    "df_intakes= df_intakes.drop('seq',axis='columns')"
   ]
  },
  {
   "cell_type": "code",
   "execution_count": null,
   "id": "5c14d6a6",
   "metadata": {},
   "outputs": [],
   "source": []
  },
  {
   "cell_type": "code",
   "execution_count": null,
   "id": "8b10a06e",
   "metadata": {},
   "outputs": [],
   "source": []
  },
  {
   "cell_type": "code",
   "execution_count": null,
   "id": "148d077a",
   "metadata": {},
   "outputs": [],
   "source": [
    "df_outcomes = df_outcomes.sort_values(['Animal ID','DateTime'])\n",
    "df_outcomes['seq']= df_outcomes.groupby(['Animal ID']).cumcount()+1\n",
    "df_outcomes['Animal ID'] = df_outcomes['Animal ID']+df_outcomes['seq'].astype('str')"
   ]
  },
  {
   "cell_type": "code",
   "execution_count": null,
   "id": "acdeac14",
   "metadata": {},
   "outputs": [],
   "source": []
  },
  {
   "cell_type": "markdown",
   "id": "75b58f6a",
   "metadata": {},
   "source": [
    "Left Join intake data with outcome data"
   ]
  },
  {
   "cell_type": "code",
   "execution_count": null,
   "id": "5cd5297a",
   "metadata": {},
   "outputs": [],
   "source": [
    "merged_data = pd.merge(df_intakes,df_outcomes,how='left',on='Animal ID',indicator='indicator_col')\n",
    "#merged_data = df_intakes.merge(df_outcomes,how='left',on='Animal ID',indicator='indicator_col')"
   ]
  },
  {
   "cell_type": "code",
   "execution_count": null,
   "id": "53409572",
   "metadata": {},
   "outputs": [],
   "source": []
  },
  {
   "cell_type": "code",
   "execution_count": null,
   "id": "503f2fd2",
   "metadata": {
    "scrolled": false
   },
   "outputs": [],
   "source": [
    "merged_data.columns"
   ]
  },
  {
   "cell_type": "code",
   "execution_count": null,
   "id": "f028e1eb",
   "metadata": {},
   "outputs": [],
   "source": [
    "# Renamoing column names between the intake and outcome dataset\n",
    "merged_data= merged_data.rename(columns={\"Name_x\": \"Name_intakes\",\n",
    "                           \"DateTime_x\":\"DateTime_intake\",\n",
    "                           \"MonthYear_x\":\"MonthYear_intake\",\n",
    "                           \"Animal Type_x\":\"Animal Type_intake\",\n",
    "                           \"Breed_x\":\"Breed_intake\",\n",
    "                           \"Color_x\":\"Color_intake\",\n",
    "                           \"Name_y\":\"Name_outcomes\",\n",
    "                           \"DateTime_y\":\"DateTime_outcomes\",\n",
    "                           \"MonthYear_y\":\"MonthYear_outcomes\",\n",
    "                           \"Animal Type_y\":\"Animal Type_outcomes\",\n",
    "                           \"Breed_y\":\"Breed_outcomes\",\n",
    "                           \"Color_y\":\"Color_outcomes\"})\n"
   ]
  },
  {
   "cell_type": "code",
   "execution_count": null,
   "id": "c82a142a",
   "metadata": {},
   "outputs": [],
   "source": [
    "merged_data.isnull().sum()"
   ]
  },
  {
   "cell_type": "code",
   "execution_count": null,
   "id": "4b510c24",
   "metadata": {},
   "outputs": [],
   "source": [
    "merged_data[merged_data['Outcome Type']=='Adoption']['Outcome Subtype'].unique()"
   ]
  },
  {
   "cell_type": "code",
   "execution_count": null,
   "id": "285f14e4",
   "metadata": {
    "scrolled": true
   },
   "outputs": [],
   "source": [
    "d={}\n",
    "for col in merged_data['Outcome Type'].unique():\n",
    "    d[col]=list(merged_data[merged_data['Outcome Type']==col]['Outcome Subtype'].unique())"
   ]
  },
  {
   "cell_type": "code",
   "execution_count": null,
   "id": "1fd24b91",
   "metadata": {},
   "outputs": [],
   "source": [
    "d"
   ]
  },
  {
   "cell_type": "code",
   "execution_count": null,
   "id": "be2b226e",
   "metadata": {},
   "outputs": [],
   "source": [
    "merged_data['Intake Type'].value_counts()"
   ]
  },
  {
   "cell_type": "code",
   "execution_count": null,
   "id": "7b097484",
   "metadata": {},
   "outputs": [],
   "source": [
    "merged_data"
   ]
  },
  {
   "cell_type": "markdown",
   "id": "57882496",
   "metadata": {},
   "source": [
    "## Saving the Data into the Data folder in Project"
   ]
  },
  {
   "cell_type": "code",
   "execution_count": null,
   "id": "301e959b",
   "metadata": {},
   "outputs": [],
   "source": [
    "from pathlib import Path  \n",
    "mergedf_filepath = Path('data/merged_df.csv')  \n",
    "intakedf_filepath = Path('data/intake_df_ready.csv')\n",
    "outcomedf_filepath = Path('data/outcome_df_ready.csv')\n",
    "\n",
    "\n",
    "merged_data.to_csv(mergedf_filepath)  \n",
    "df_intakes.to_csv(intakedf_filepath)\n",
    "df_outcomes.to_csv(outcomedf_filepath)\n"
   ]
  }
 ],
 "metadata": {
  "kernelspec": {
   "display_name": "Python 3 (ipykernel)",
   "language": "python",
   "name": "python3"
  },
  "language_info": {
   "codemirror_mode": {
    "name": "ipython",
    "version": 3
   },
   "file_extension": ".py",
   "mimetype": "text/x-python",
   "name": "python",
   "nbconvert_exporter": "python",
   "pygments_lexer": "ipython3",
   "version": "3.7.6"
  }
 },
 "nbformat": 4,
 "nbformat_minor": 5
}
