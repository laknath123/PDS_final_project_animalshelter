{
 "cells": [
  {
   "cell_type": "code",
   "execution_count": 1,
   "id": "af2005c2",
   "metadata": {},
   "outputs": [],
   "source": [
    "import pandas as pd"
   ]
  },
  {
   "cell_type": "markdown",
   "id": "47147b5f",
   "metadata": {},
   "source": [
    "### Load Data"
   ]
  },
  {
   "cell_type": "code",
   "execution_count": 51,
   "id": "616c71c6",
   "metadata": {},
   "outputs": [],
   "source": [
    "df_intakes = pd.read_csv(\"https://raw.githubusercontent.com/laknath123/PDS_final_project_animalshelter/main/data/Austin_Animal_Center_Intakes.csv\")\n",
    "df_outcomes = pd.read_csv(\"https://raw.githubusercontent.com/laknath123/PDS_final_project_animalshelter/main/data/Austin_Animal_Center_Outcomes%20(1).csv\")"
   ]
  },
  {
   "cell_type": "code",
   "execution_count": 7,
   "id": "657dc2bb",
   "metadata": {
    "scrolled": false
   },
   "outputs": [
    {
     "data": {
      "text/html": [
       "<div>\n",
       "<style scoped>\n",
       "    .dataframe tbody tr th:only-of-type {\n",
       "        vertical-align: middle;\n",
       "    }\n",
       "\n",
       "    .dataframe tbody tr th {\n",
       "        vertical-align: top;\n",
       "    }\n",
       "\n",
       "    .dataframe thead th {\n",
       "        text-align: right;\n",
       "    }\n",
       "</style>\n",
       "<table border=\"1\" class=\"dataframe\">\n",
       "  <thead>\n",
       "    <tr style=\"text-align: right;\">\n",
       "      <th></th>\n",
       "      <th>Animal ID</th>\n",
       "      <th>Name</th>\n",
       "      <th>DateTime</th>\n",
       "      <th>MonthYear</th>\n",
       "      <th>Found Location</th>\n",
       "      <th>Intake Type</th>\n",
       "      <th>Intake Condition</th>\n",
       "      <th>Animal Type</th>\n",
       "      <th>Sex upon Intake</th>\n",
       "      <th>Age upon Intake</th>\n",
       "      <th>Breed</th>\n",
       "      <th>Color</th>\n",
       "    </tr>\n",
       "  </thead>\n",
       "  <tbody>\n",
       "    <tr>\n",
       "      <th>0</th>\n",
       "      <td>A786884</td>\n",
       "      <td>*Brock</td>\n",
       "      <td>01/03/2019 04:19:00 PM</td>\n",
       "      <td>January 2019</td>\n",
       "      <td>2501 Magin Meadow Dr in Austin (TX)</td>\n",
       "      <td>Stray</td>\n",
       "      <td>Normal</td>\n",
       "      <td>Dog</td>\n",
       "      <td>Neutered Male</td>\n",
       "      <td>2 years</td>\n",
       "      <td>Beagle Mix</td>\n",
       "      <td>Tricolor</td>\n",
       "    </tr>\n",
       "    <tr>\n",
       "      <th>1</th>\n",
       "      <td>A706918</td>\n",
       "      <td>Belle</td>\n",
       "      <td>07/05/2015 12:59:00 PM</td>\n",
       "      <td>July 2015</td>\n",
       "      <td>9409 Bluegrass Dr in Austin (TX)</td>\n",
       "      <td>Stray</td>\n",
       "      <td>Normal</td>\n",
       "      <td>Dog</td>\n",
       "      <td>Spayed Female</td>\n",
       "      <td>8 years</td>\n",
       "      <td>English Springer Spaniel</td>\n",
       "      <td>White/Liver</td>\n",
       "    </tr>\n",
       "    <tr>\n",
       "      <th>2</th>\n",
       "      <td>A724273</td>\n",
       "      <td>Runster</td>\n",
       "      <td>04/14/2016 06:43:00 PM</td>\n",
       "      <td>April 2016</td>\n",
       "      <td>2818 Palomino Trail in Austin (TX)</td>\n",
       "      <td>Stray</td>\n",
       "      <td>Normal</td>\n",
       "      <td>Dog</td>\n",
       "      <td>Intact Male</td>\n",
       "      <td>11 months</td>\n",
       "      <td>Basenji Mix</td>\n",
       "      <td>Sable/White</td>\n",
       "    </tr>\n",
       "    <tr>\n",
       "      <th>3</th>\n",
       "      <td>A665644</td>\n",
       "      <td>NaN</td>\n",
       "      <td>10/21/2013 07:59:00 AM</td>\n",
       "      <td>October 2013</td>\n",
       "      <td>Austin (TX)</td>\n",
       "      <td>Stray</td>\n",
       "      <td>Sick</td>\n",
       "      <td>Cat</td>\n",
       "      <td>Intact Female</td>\n",
       "      <td>4 weeks</td>\n",
       "      <td>Domestic Shorthair Mix</td>\n",
       "      <td>Calico</td>\n",
       "    </tr>\n",
       "    <tr>\n",
       "      <th>4</th>\n",
       "      <td>A682524</td>\n",
       "      <td>Rio</td>\n",
       "      <td>06/29/2014 10:38:00 AM</td>\n",
       "      <td>June 2014</td>\n",
       "      <td>800 Grove Blvd in Austin (TX)</td>\n",
       "      <td>Stray</td>\n",
       "      <td>Normal</td>\n",
       "      <td>Dog</td>\n",
       "      <td>Neutered Male</td>\n",
       "      <td>4 years</td>\n",
       "      <td>Doberman Pinsch/Australian Cattle Dog</td>\n",
       "      <td>Tan/Gray</td>\n",
       "    </tr>\n",
       "  </tbody>\n",
       "</table>\n",
       "</div>"
      ],
      "text/plain": [
       "  Animal ID     Name                DateTime     MonthYear  \\\n",
       "0   A786884   *Brock  01/03/2019 04:19:00 PM  January 2019   \n",
       "1   A706918    Belle  07/05/2015 12:59:00 PM     July 2015   \n",
       "2   A724273  Runster  04/14/2016 06:43:00 PM    April 2016   \n",
       "3   A665644      NaN  10/21/2013 07:59:00 AM  October 2013   \n",
       "4   A682524      Rio  06/29/2014 10:38:00 AM     June 2014   \n",
       "\n",
       "                        Found Location Intake Type Intake Condition  \\\n",
       "0  2501 Magin Meadow Dr in Austin (TX)       Stray           Normal   \n",
       "1     9409 Bluegrass Dr in Austin (TX)       Stray           Normal   \n",
       "2   2818 Palomino Trail in Austin (TX)       Stray           Normal   \n",
       "3                          Austin (TX)       Stray             Sick   \n",
       "4        800 Grove Blvd in Austin (TX)       Stray           Normal   \n",
       "\n",
       "  Animal Type Sex upon Intake Age upon Intake  \\\n",
       "0         Dog   Neutered Male         2 years   \n",
       "1         Dog   Spayed Female         8 years   \n",
       "2         Dog     Intact Male       11 months   \n",
       "3         Cat   Intact Female         4 weeks   \n",
       "4         Dog   Neutered Male         4 years   \n",
       "\n",
       "                                   Breed        Color  \n",
       "0                             Beagle Mix     Tricolor  \n",
       "1               English Springer Spaniel  White/Liver  \n",
       "2                            Basenji Mix  Sable/White  \n",
       "3                 Domestic Shorthair Mix       Calico  \n",
       "4  Doberman Pinsch/Australian Cattle Dog     Tan/Gray  "
      ]
     },
     "execution_count": 7,
     "metadata": {},
     "output_type": "execute_result"
    }
   ],
   "source": [
    "df_intakes.head()"
   ]
  },
  {
   "cell_type": "code",
   "execution_count": 57,
   "id": "889ae5d9",
   "metadata": {
    "scrolled": false
   },
   "outputs": [
    {
     "data": {
      "text/html": [
       "<div>\n",
       "<style scoped>\n",
       "    .dataframe tbody tr th:only-of-type {\n",
       "        vertical-align: middle;\n",
       "    }\n",
       "\n",
       "    .dataframe tbody tr th {\n",
       "        vertical-align: top;\n",
       "    }\n",
       "\n",
       "    .dataframe thead th {\n",
       "        text-align: right;\n",
       "    }\n",
       "</style>\n",
       "<table border=\"1\" class=\"dataframe\">\n",
       "  <thead>\n",
       "    <tr style=\"text-align: right;\">\n",
       "      <th></th>\n",
       "      <th>Animal ID</th>\n",
       "      <th>Name</th>\n",
       "      <th>DateTime</th>\n",
       "      <th>MonthYear</th>\n",
       "      <th>Date of Birth</th>\n",
       "      <th>Outcome Type</th>\n",
       "      <th>Outcome Subtype</th>\n",
       "      <th>Animal Type</th>\n",
       "      <th>Sex upon Outcome</th>\n",
       "      <th>Age upon Outcome</th>\n",
       "      <th>Breed</th>\n",
       "      <th>Color</th>\n",
       "    </tr>\n",
       "  </thead>\n",
       "  <tbody>\n",
       "    <tr>\n",
       "      <th>0</th>\n",
       "      <td>A794011</td>\n",
       "      <td>Chunk</td>\n",
       "      <td>05/08/2019 06:20:00</td>\n",
       "      <td>May 2019</td>\n",
       "      <td>05/02/2017</td>\n",
       "      <td>Rto-Adopt</td>\n",
       "      <td>NaN</td>\n",
       "      <td>Cat</td>\n",
       "      <td>Neutered Male</td>\n",
       "      <td>2 years</td>\n",
       "      <td>Domestic Shorthair Mix</td>\n",
       "      <td>Brown Tabby/White</td>\n",
       "    </tr>\n",
       "    <tr>\n",
       "      <th>1</th>\n",
       "      <td>A776359</td>\n",
       "      <td>Gizmo</td>\n",
       "      <td>07/18/2018 04:02:00</td>\n",
       "      <td>Jul 2018</td>\n",
       "      <td>07/12/2017</td>\n",
       "      <td>Adoption</td>\n",
       "      <td>NaN</td>\n",
       "      <td>Dog</td>\n",
       "      <td>Neutered Male</td>\n",
       "      <td>1 year</td>\n",
       "      <td>Chihuahua Shorthair Mix</td>\n",
       "      <td>White/Brown</td>\n",
       "    </tr>\n",
       "    <tr>\n",
       "      <th>2</th>\n",
       "      <td>A821648</td>\n",
       "      <td>NaN</td>\n",
       "      <td>08/16/2020 11:38:00</td>\n",
       "      <td>Aug 2020</td>\n",
       "      <td>08/16/2019</td>\n",
       "      <td>Euthanasia</td>\n",
       "      <td>NaN</td>\n",
       "      <td>Other</td>\n",
       "      <td>Unknown</td>\n",
       "      <td>1 year</td>\n",
       "      <td>Raccoon</td>\n",
       "      <td>Gray</td>\n",
       "    </tr>\n",
       "    <tr>\n",
       "      <th>3</th>\n",
       "      <td>A720371</td>\n",
       "      <td>Moose</td>\n",
       "      <td>02/13/2016 05:59:00</td>\n",
       "      <td>Feb 2016</td>\n",
       "      <td>10/08/2015</td>\n",
       "      <td>Adoption</td>\n",
       "      <td>NaN</td>\n",
       "      <td>Dog</td>\n",
       "      <td>Neutered Male</td>\n",
       "      <td>4 months</td>\n",
       "      <td>Anatol Shepherd/Labrador Retriever</td>\n",
       "      <td>Buff</td>\n",
       "    </tr>\n",
       "    <tr>\n",
       "      <th>4</th>\n",
       "      <td>A674754</td>\n",
       "      <td>NaN</td>\n",
       "      <td>03/18/2014 11:47:00</td>\n",
       "      <td>Mar 2014</td>\n",
       "      <td>03/12/2014</td>\n",
       "      <td>Transfer</td>\n",
       "      <td>Partner</td>\n",
       "      <td>Cat</td>\n",
       "      <td>Intact Male</td>\n",
       "      <td>6 days</td>\n",
       "      <td>Domestic Shorthair Mix</td>\n",
       "      <td>Orange Tabby</td>\n",
       "    </tr>\n",
       "  </tbody>\n",
       "</table>\n",
       "</div>"
      ],
      "text/plain": [
       "  Animal ID   Name              DateTime MonthYear Date of Birth Outcome Type  \\\n",
       "0   A794011  Chunk  05/08/2019 06:20:00   May 2019    05/02/2017    Rto-Adopt   \n",
       "1   A776359  Gizmo  07/18/2018 04:02:00   Jul 2018    07/12/2017     Adoption   \n",
       "2   A821648    NaN  08/16/2020 11:38:00   Aug 2020    08/16/2019   Euthanasia   \n",
       "3   A720371  Moose  02/13/2016 05:59:00   Feb 2016    10/08/2015     Adoption   \n",
       "4   A674754    NaN  03/18/2014 11:47:00   Mar 2014    03/12/2014     Transfer   \n",
       "\n",
       "  Outcome Subtype Animal Type Sex upon Outcome Age upon Outcome  \\\n",
       "0             NaN         Cat    Neutered Male          2 years   \n",
       "1             NaN         Dog    Neutered Male           1 year   \n",
       "2             NaN       Other          Unknown           1 year   \n",
       "3             NaN         Dog    Neutered Male         4 months   \n",
       "4         Partner         Cat      Intact Male           6 days   \n",
       "\n",
       "                                Breed              Color  \n",
       "0              Domestic Shorthair Mix  Brown Tabby/White  \n",
       "1             Chihuahua Shorthair Mix        White/Brown  \n",
       "2                             Raccoon               Gray  \n",
       "3  Anatol Shepherd/Labrador Retriever               Buff  \n",
       "4              Domestic Shorthair Mix       Orange Tabby  "
      ]
     },
     "execution_count": 57,
     "metadata": {},
     "output_type": "execute_result"
    }
   ],
   "source": [
    "df_outcomes.head()"
   ]
  },
  {
   "cell_type": "markdown",
   "id": "74f28521",
   "metadata": {},
   "source": [
    "## Convert Date Column to Date Format"
   ]
  },
  {
   "cell_type": "markdown",
   "id": "80194b2b",
   "metadata": {},
   "source": [
    "1. `df_outcomes` dataset convert `DateTime` `Date of Birth` Columns to Date Format\n",
    "2. `df_intake` dataset convert `DateTime`column to date format"
   ]
  },
  {
   "cell_type": "markdown",
   "id": "79818d00",
   "metadata": {},
   "source": [
    "## Fix Issue with Age upon Outcome and Age upon Intake Column"
   ]
  },
  {
   "cell_type": "markdown",
   "id": "a2867508",
   "metadata": {},
   "source": [
    "1. Remove values with negative years like `-1 years` in `Age upon Outcome` and `Age upon intake` columns"
   ]
  },
  {
   "cell_type": "code",
   "execution_count": 87,
   "id": "6cc2a35a",
   "metadata": {
    "scrolled": false
   },
   "outputs": [
    {
     "data": {
      "text/plain": [
       "array(['2 years', '1 year', '4 months', '6 days', '7 years', '2 months',\n",
       "       '2 days', '3 weeks', '9 months', '4 weeks', '2 weeks', '3 months',\n",
       "       '9 years', '10 years', '6 months', '8 years', '3 years',\n",
       "       '7 months', '6 years', '4 years', '1 month', '12 years', '5 years',\n",
       "       '1 weeks', '5 months', '5 days', '15 years', '11 months',\n",
       "       '10 months', '4 days', '16 years', '1 day', '8 months', '11 years',\n",
       "       '13 years', '1 week', '14 years', '3 days', '0 years', '5 weeks',\n",
       "       '17 years', '18 years', '20 years', '22 years', '-2 years',\n",
       "       '19 years', '23 years', '24 years', '-1 years', '25 years',\n",
       "       '21 years', '-3 years', '30 years', nan, '28 years'], dtype=object)"
      ]
     },
     "execution_count": 87,
     "metadata": {},
     "output_type": "execute_result"
    }
   ],
   "source": [
    "df_outcomes['Age upon Outcome'].unique()"
   ]
  },
  {
   "cell_type": "markdown",
   "id": "b1d1487d",
   "metadata": {},
   "source": [
    "## Convert Age columns to either years or months to keep it uniform "
   ]
  },
  {
   "cell_type": "code",
   "execution_count": null,
   "id": "6ccf0ae2",
   "metadata": {},
   "outputs": [],
   "source": []
  }
 ],
 "metadata": {
  "kernelspec": {
   "display_name": "Python 3 (ipykernel)",
   "language": "python",
   "name": "python3"
  },
  "language_info": {
   "codemirror_mode": {
    "name": "ipython",
    "version": 3
   },
   "file_extension": ".py",
   "mimetype": "text/x-python",
   "name": "python",
   "nbconvert_exporter": "python",
   "pygments_lexer": "ipython3",
   "version": "3.7.6"
  }
 },
 "nbformat": 4,
 "nbformat_minor": 5
}
